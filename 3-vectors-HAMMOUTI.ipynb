{
 "cells": [
  {
   "cell_type": "markdown",
   "metadata": {
    "id": "RwswR7HReT1-"
   },
   "source": [
    "*HAMMOUTI Douae*"
   ]
  },
  {
   "cell_type": "markdown",
   "metadata": {
    "id": "vCvvgv3ueT1_"
   },
   "source": [
    "The second part of this notebook is based on EPFL and Stanford NLP materials\n",
    "\n",
    "## TF-IDF\n",
    "\n",
    "TF-IDF is a statistical method commonly used in Information Retrieval and Natural Language Processing.\n",
    "\n",
    "It’s an important concept for understanding how search engines analyze web content and identify key terms that can be associated with search queries. Even with modern neural models, tf-idf and Okapi BM25 (an evolution of tf-idf) can be used to preliminarily filter the data. In a re-ranking scenario we'll first use tf-idf-like techniques - instead of heavier NNs - to retrieve a set of potentially relevant documents, then we'll refine our predictions with ad-hoc neural models.\n",
    "\n",
    "Term frequency-inverse document frequency (TF-IDF) measures the importance of a word to a specific document and it’s the product of two statistics: term frequency (TF) and inverse document frequency (IDF). Let's compute tf-idf vectors on a small example"
   ]
  },
  {
   "cell_type": "markdown",
   "metadata": {
    "id": "XiAnJrMneT2A"
   },
   "source": [
    "We will use a dataset of Python questions and answers from Stackoverflow. The dataset contains all the questions (around 700,000) asked between August 2, 2008 and Ocotober 19, 2016. For our purposes we will use only the Python questions, looking at `title` and `body` attributes."
   ]
  },
  {
   "cell_type": "code",
   "execution_count": 1,
   "metadata": {
    "id": "mqwHoJCm626b"
   },
   "outputs": [],
   "source": [
    "## In order to use the Colab environment with external data allow Google to access your drive folder:\n",
    "#from google.colab import drive\n",
    "#drive.mount('/content/drive')"
   ]
  },
  {
   "cell_type": "code",
   "execution_count": 1,
   "metadata": {
    "_cell_guid": "b1076dfc-b9ad-4769-8c92-a6c4dae69d19",
    "_uuid": "8f2839f25d086af736a60e9eeb907d3b93b6e0e5",
    "id": "HjpZ1D7VeT2C"
   },
   "outputs": [
    {
     "ename": "KeyboardInterrupt",
     "evalue": "",
     "output_type": "error",
     "traceback": [
      "\u001b[31m---------------------------------------------------------------------------\u001b[39m",
      "\u001b[31mKeyboardInterrupt\u001b[39m                         Traceback (most recent call last)",
      "\u001b[36mCell\u001b[39m\u001b[36m \u001b[39m\u001b[32mIn[1]\u001b[39m\u001b[32m, line 6\u001b[39m\n\u001b[32m      3\u001b[39m \u001b[38;5;28;01mimport\u001b[39;00m\u001b[38;5;250m \u001b[39m\u001b[34;01mre\u001b[39;00m\n\u001b[32m      5\u001b[39m \u001b[38;5;66;03m#df_questions = pd.read_csv('drive/MyDrive/data/Questions.csv', delimiter=',', encoding='ISO-8859-1')\u001b[39;00m\n\u001b[32m----> \u001b[39m\u001b[32m6\u001b[39m df_questions = \u001b[43mpd\u001b[49m\u001b[43m.\u001b[49m\u001b[43mread_csv\u001b[49m\u001b[43m(\u001b[49m\u001b[33;43m'\u001b[39;49m\u001b[33;43m./data/Questions.csv\u001b[39;49m\u001b[33;43m'\u001b[39;49m\u001b[43m,\u001b[49m\u001b[43m \u001b[49m\u001b[43mdelimiter\u001b[49m\u001b[43m=\u001b[49m\u001b[33;43m'\u001b[39;49m\u001b[33;43m,\u001b[39;49m\u001b[33;43m'\u001b[39;49m\u001b[43m,\u001b[49m\u001b[43m \u001b[49m\u001b[43mencoding\u001b[49m\u001b[43m=\u001b[49m\u001b[33;43m'\u001b[39;49m\u001b[33;43mISO-8859-1\u001b[39;49m\u001b[33;43m'\u001b[39;49m\u001b[43m)\u001b[49m\n\u001b[32m      7\u001b[39m df_questions.head()\n",
      "\u001b[36mFile \u001b[39m\u001b[32m~\\AppData\\Local\\Packages\\PythonSoftwareFoundation.Python.3.11_qbz5n2kfra8p0\\LocalCache\\local-packages\\Python311\\site-packages\\pandas\\io\\parsers\\readers.py:1026\u001b[39m, in \u001b[36mread_csv\u001b[39m\u001b[34m(filepath_or_buffer, sep, delimiter, header, names, index_col, usecols, dtype, engine, converters, true_values, false_values, skipinitialspace, skiprows, skipfooter, nrows, na_values, keep_default_na, na_filter, verbose, skip_blank_lines, parse_dates, infer_datetime_format, keep_date_col, date_parser, date_format, dayfirst, cache_dates, iterator, chunksize, compression, thousands, decimal, lineterminator, quotechar, quoting, doublequote, escapechar, comment, encoding, encoding_errors, dialect, on_bad_lines, delim_whitespace, low_memory, memory_map, float_precision, storage_options, dtype_backend)\u001b[39m\n\u001b[32m   1013\u001b[39m kwds_defaults = _refine_defaults_read(\n\u001b[32m   1014\u001b[39m     dialect,\n\u001b[32m   1015\u001b[39m     delimiter,\n\u001b[32m   (...)\u001b[39m\u001b[32m   1022\u001b[39m     dtype_backend=dtype_backend,\n\u001b[32m   1023\u001b[39m )\n\u001b[32m   1024\u001b[39m kwds.update(kwds_defaults)\n\u001b[32m-> \u001b[39m\u001b[32m1026\u001b[39m \u001b[38;5;28;01mreturn\u001b[39;00m \u001b[43m_read\u001b[49m\u001b[43m(\u001b[49m\u001b[43mfilepath_or_buffer\u001b[49m\u001b[43m,\u001b[49m\u001b[43m \u001b[49m\u001b[43mkwds\u001b[49m\u001b[43m)\u001b[49m\n",
      "\u001b[36mFile \u001b[39m\u001b[32m~\\AppData\\Local\\Packages\\PythonSoftwareFoundation.Python.3.11_qbz5n2kfra8p0\\LocalCache\\local-packages\\Python311\\site-packages\\pandas\\io\\parsers\\readers.py:620\u001b[39m, in \u001b[36m_read\u001b[39m\u001b[34m(filepath_or_buffer, kwds)\u001b[39m\n\u001b[32m    617\u001b[39m _validate_names(kwds.get(\u001b[33m\"\u001b[39m\u001b[33mnames\u001b[39m\u001b[33m\"\u001b[39m, \u001b[38;5;28;01mNone\u001b[39;00m))\n\u001b[32m    619\u001b[39m \u001b[38;5;66;03m# Create the parser.\u001b[39;00m\n\u001b[32m--> \u001b[39m\u001b[32m620\u001b[39m parser = \u001b[43mTextFileReader\u001b[49m\u001b[43m(\u001b[49m\u001b[43mfilepath_or_buffer\u001b[49m\u001b[43m,\u001b[49m\u001b[43m \u001b[49m\u001b[43m*\u001b[49m\u001b[43m*\u001b[49m\u001b[43mkwds\u001b[49m\u001b[43m)\u001b[49m\n\u001b[32m    622\u001b[39m \u001b[38;5;28;01mif\u001b[39;00m chunksize \u001b[38;5;129;01mor\u001b[39;00m iterator:\n\u001b[32m    623\u001b[39m     \u001b[38;5;28;01mreturn\u001b[39;00m parser\n",
      "\u001b[36mFile \u001b[39m\u001b[32m~\\AppData\\Local\\Packages\\PythonSoftwareFoundation.Python.3.11_qbz5n2kfra8p0\\LocalCache\\local-packages\\Python311\\site-packages\\pandas\\io\\parsers\\readers.py:1620\u001b[39m, in \u001b[36mTextFileReader.__init__\u001b[39m\u001b[34m(self, f, engine, **kwds)\u001b[39m\n\u001b[32m   1617\u001b[39m     \u001b[38;5;28mself\u001b[39m.options[\u001b[33m\"\u001b[39m\u001b[33mhas_index_names\u001b[39m\u001b[33m\"\u001b[39m] = kwds[\u001b[33m\"\u001b[39m\u001b[33mhas_index_names\u001b[39m\u001b[33m\"\u001b[39m]\n\u001b[32m   1619\u001b[39m \u001b[38;5;28mself\u001b[39m.handles: IOHandles | \u001b[38;5;28;01mNone\u001b[39;00m = \u001b[38;5;28;01mNone\u001b[39;00m\n\u001b[32m-> \u001b[39m\u001b[32m1620\u001b[39m \u001b[38;5;28mself\u001b[39m._engine = \u001b[38;5;28;43mself\u001b[39;49m\u001b[43m.\u001b[49m\u001b[43m_make_engine\u001b[49m\u001b[43m(\u001b[49m\u001b[43mf\u001b[49m\u001b[43m,\u001b[49m\u001b[43m \u001b[49m\u001b[38;5;28;43mself\u001b[39;49m\u001b[43m.\u001b[49m\u001b[43mengine\u001b[49m\u001b[43m)\u001b[49m\n",
      "\u001b[36mFile \u001b[39m\u001b[32m~\\AppData\\Local\\Packages\\PythonSoftwareFoundation.Python.3.11_qbz5n2kfra8p0\\LocalCache\\local-packages\\Python311\\site-packages\\pandas\\io\\parsers\\readers.py:1880\u001b[39m, in \u001b[36mTextFileReader._make_engine\u001b[39m\u001b[34m(self, f, engine)\u001b[39m\n\u001b[32m   1878\u001b[39m     \u001b[38;5;28;01mif\u001b[39;00m \u001b[33m\"\u001b[39m\u001b[33mb\u001b[39m\u001b[33m\"\u001b[39m \u001b[38;5;129;01mnot\u001b[39;00m \u001b[38;5;129;01min\u001b[39;00m mode:\n\u001b[32m   1879\u001b[39m         mode += \u001b[33m\"\u001b[39m\u001b[33mb\u001b[39m\u001b[33m\"\u001b[39m\n\u001b[32m-> \u001b[39m\u001b[32m1880\u001b[39m \u001b[38;5;28mself\u001b[39m.handles = \u001b[43mget_handle\u001b[49m\u001b[43m(\u001b[49m\n\u001b[32m   1881\u001b[39m \u001b[43m    \u001b[49m\u001b[43mf\u001b[49m\u001b[43m,\u001b[49m\n\u001b[32m   1882\u001b[39m \u001b[43m    \u001b[49m\u001b[43mmode\u001b[49m\u001b[43m,\u001b[49m\n\u001b[32m   1883\u001b[39m \u001b[43m    \u001b[49m\u001b[43mencoding\u001b[49m\u001b[43m=\u001b[49m\u001b[38;5;28;43mself\u001b[39;49m\u001b[43m.\u001b[49m\u001b[43moptions\u001b[49m\u001b[43m.\u001b[49m\u001b[43mget\u001b[49m\u001b[43m(\u001b[49m\u001b[33;43m\"\u001b[39;49m\u001b[33;43mencoding\u001b[39;49m\u001b[33;43m\"\u001b[39;49m\u001b[43m,\u001b[49m\u001b[43m \u001b[49m\u001b[38;5;28;43;01mNone\u001b[39;49;00m\u001b[43m)\u001b[49m\u001b[43m,\u001b[49m\n\u001b[32m   1884\u001b[39m \u001b[43m    \u001b[49m\u001b[43mcompression\u001b[49m\u001b[43m=\u001b[49m\u001b[38;5;28;43mself\u001b[39;49m\u001b[43m.\u001b[49m\u001b[43moptions\u001b[49m\u001b[43m.\u001b[49m\u001b[43mget\u001b[49m\u001b[43m(\u001b[49m\u001b[33;43m\"\u001b[39;49m\u001b[33;43mcompression\u001b[39;49m\u001b[33;43m\"\u001b[39;49m\u001b[43m,\u001b[49m\u001b[43m \u001b[49m\u001b[38;5;28;43;01mNone\u001b[39;49;00m\u001b[43m)\u001b[49m\u001b[43m,\u001b[49m\n\u001b[32m   1885\u001b[39m \u001b[43m    \u001b[49m\u001b[43mmemory_map\u001b[49m\u001b[43m=\u001b[49m\u001b[38;5;28;43mself\u001b[39;49m\u001b[43m.\u001b[49m\u001b[43moptions\u001b[49m\u001b[43m.\u001b[49m\u001b[43mget\u001b[49m\u001b[43m(\u001b[49m\u001b[33;43m\"\u001b[39;49m\u001b[33;43mmemory_map\u001b[39;49m\u001b[33;43m\"\u001b[39;49m\u001b[43m,\u001b[49m\u001b[43m \u001b[49m\u001b[38;5;28;43;01mFalse\u001b[39;49;00m\u001b[43m)\u001b[49m\u001b[43m,\u001b[49m\n\u001b[32m   1886\u001b[39m \u001b[43m    \u001b[49m\u001b[43mis_text\u001b[49m\u001b[43m=\u001b[49m\u001b[43mis_text\u001b[49m\u001b[43m,\u001b[49m\n\u001b[32m   1887\u001b[39m \u001b[43m    \u001b[49m\u001b[43merrors\u001b[49m\u001b[43m=\u001b[49m\u001b[38;5;28;43mself\u001b[39;49m\u001b[43m.\u001b[49m\u001b[43moptions\u001b[49m\u001b[43m.\u001b[49m\u001b[43mget\u001b[49m\u001b[43m(\u001b[49m\u001b[33;43m\"\u001b[39;49m\u001b[33;43mencoding_errors\u001b[39;49m\u001b[33;43m\"\u001b[39;49m\u001b[43m,\u001b[49m\u001b[43m \u001b[49m\u001b[33;43m\"\u001b[39;49m\u001b[33;43mstrict\u001b[39;49m\u001b[33;43m\"\u001b[39;49m\u001b[43m)\u001b[49m\u001b[43m,\u001b[49m\n\u001b[32m   1888\u001b[39m \u001b[43m    \u001b[49m\u001b[43mstorage_options\u001b[49m\u001b[43m=\u001b[49m\u001b[38;5;28;43mself\u001b[39;49m\u001b[43m.\u001b[49m\u001b[43moptions\u001b[49m\u001b[43m.\u001b[49m\u001b[43mget\u001b[49m\u001b[43m(\u001b[49m\u001b[33;43m\"\u001b[39;49m\u001b[33;43mstorage_options\u001b[39;49m\u001b[33;43m\"\u001b[39;49m\u001b[43m,\u001b[49m\u001b[43m \u001b[49m\u001b[38;5;28;43;01mNone\u001b[39;49;00m\u001b[43m)\u001b[49m\u001b[43m,\u001b[49m\n\u001b[32m   1889\u001b[39m \u001b[43m\u001b[49m\u001b[43m)\u001b[49m\n\u001b[32m   1890\u001b[39m \u001b[38;5;28;01massert\u001b[39;00m \u001b[38;5;28mself\u001b[39m.handles \u001b[38;5;129;01mis\u001b[39;00m \u001b[38;5;129;01mnot\u001b[39;00m \u001b[38;5;28;01mNone\u001b[39;00m\n\u001b[32m   1891\u001b[39m f = \u001b[38;5;28mself\u001b[39m.handles.handle\n",
      "\u001b[36mFile \u001b[39m\u001b[32m~\\AppData\\Local\\Packages\\PythonSoftwareFoundation.Python.3.11_qbz5n2kfra8p0\\LocalCache\\local-packages\\Python311\\site-packages\\pandas\\io\\common.py:873\u001b[39m, in \u001b[36mget_handle\u001b[39m\u001b[34m(path_or_buf, mode, encoding, compression, memory_map, is_text, errors, storage_options)\u001b[39m\n\u001b[32m    868\u001b[39m \u001b[38;5;28;01melif\u001b[39;00m \u001b[38;5;28misinstance\u001b[39m(handle, \u001b[38;5;28mstr\u001b[39m):\n\u001b[32m    869\u001b[39m     \u001b[38;5;66;03m# Check whether the filename is to be opened in binary mode.\u001b[39;00m\n\u001b[32m    870\u001b[39m     \u001b[38;5;66;03m# Binary mode does not support 'encoding' and 'newline'.\u001b[39;00m\n\u001b[32m    871\u001b[39m     \u001b[38;5;28;01mif\u001b[39;00m ioargs.encoding \u001b[38;5;129;01mand\u001b[39;00m \u001b[33m\"\u001b[39m\u001b[33mb\u001b[39m\u001b[33m\"\u001b[39m \u001b[38;5;129;01mnot\u001b[39;00m \u001b[38;5;129;01min\u001b[39;00m ioargs.mode:\n\u001b[32m    872\u001b[39m         \u001b[38;5;66;03m# Encoding\u001b[39;00m\n\u001b[32m--> \u001b[39m\u001b[32m873\u001b[39m         handle = \u001b[38;5;28;43mopen\u001b[39;49m\u001b[43m(\u001b[49m\n\u001b[32m    874\u001b[39m \u001b[43m            \u001b[49m\u001b[43mhandle\u001b[49m\u001b[43m,\u001b[49m\n\u001b[32m    875\u001b[39m \u001b[43m            \u001b[49m\u001b[43mioargs\u001b[49m\u001b[43m.\u001b[49m\u001b[43mmode\u001b[49m\u001b[43m,\u001b[49m\n\u001b[32m    876\u001b[39m \u001b[43m            \u001b[49m\u001b[43mencoding\u001b[49m\u001b[43m=\u001b[49m\u001b[43mioargs\u001b[49m\u001b[43m.\u001b[49m\u001b[43mencoding\u001b[49m\u001b[43m,\u001b[49m\n\u001b[32m    877\u001b[39m \u001b[43m            \u001b[49m\u001b[43merrors\u001b[49m\u001b[43m=\u001b[49m\u001b[43merrors\u001b[49m\u001b[43m,\u001b[49m\n\u001b[32m    878\u001b[39m \u001b[43m            \u001b[49m\u001b[43mnewline\u001b[49m\u001b[43m=\u001b[49m\u001b[33;43m\"\u001b[39;49m\u001b[33;43m\"\u001b[39;49m\u001b[43m,\u001b[49m\n\u001b[32m    879\u001b[39m \u001b[43m        \u001b[49m\u001b[43m)\u001b[49m\n\u001b[32m    880\u001b[39m     \u001b[38;5;28;01melse\u001b[39;00m:\n\u001b[32m    881\u001b[39m         \u001b[38;5;66;03m# Binary mode\u001b[39;00m\n\u001b[32m    882\u001b[39m         handle = \u001b[38;5;28mopen\u001b[39m(handle, ioargs.mode)\n",
      "\u001b[36mFile \u001b[39m\u001b[32m<frozen codecs>:260\u001b[39m, in \u001b[36m__init__\u001b[39m\u001b[34m(self, errors)\u001b[39m\n",
      "\u001b[31mKeyboardInterrupt\u001b[39m: "
     ]
    }
   ],
   "source": [
    "import pandas as pd\n",
    "import numpy as np\n",
    "import re\n",
    "\n",
    "#df_questions = pd.read_csv('drive/MyDrive/data/Questions.csv', delimiter=',', encoding='ISO-8859-1')\n",
    "df_questions = pd.read_csv('./data/Questions.csv', delimiter=',', encoding='ISO-8859-1')\n",
    "df_questions.head()"
   ]
  },
  {
   "cell_type": "code",
   "execution_count": 3,
   "metadata": {
    "id": "B8q-W1AueT2C"
   },
   "outputs": [
    {
     "data": {
      "text/plain": [
       "607282"
      ]
     },
     "execution_count": 3,
     "metadata": {},
     "output_type": "execute_result"
    }
   ],
   "source": [
    "len(df_questions)"
   ]
  },
  {
   "cell_type": "markdown",
   "metadata": {
    "id": "08jbteiDeT2C"
   },
   "source": [
    "Having >600k documents, in this exercise we will limit the size of the dataset to 4000 for computational reasons."
   ]
  },
  {
   "cell_type": "code",
   "execution_count": 4,
   "metadata": {
    "id": "kB6IDz26eT2C"
   },
   "outputs": [
    {
     "data": {
      "text/plain": [
       "4000"
      ]
     },
     "execution_count": 4,
     "metadata": {},
     "output_type": "execute_result"
    }
   ],
   "source": [
    "df = df_questions.sample(4000, random_state=42)\n",
    "len(df)"
   ]
  },
  {
   "cell_type": "markdown",
   "metadata": {
    "id": "gGFKPBeSeT2C"
   },
   "source": [
    "Let's take a look at the dataset"
   ]
  },
  {
   "cell_type": "code",
   "execution_count": 5,
   "metadata": {
    "id": "ErfIPgCCeT2D"
   },
   "outputs": [
    {
     "name": "stdout",
     "output_type": "stream",
     "text": [
      "title: How to add all the elements inside loop in Python?, \n",
      "body: <p>For some reason I want this:</p>\n",
      "\n",
      "<pre><code>a = ['ok.py', 'hello.py']\n",
      "</code></pre>\n",
      "\n",
      "<p>I want to calculate size of each elements and add all those sizes and store in a single variable:</p>\n",
      "\n",
      "<pre><code>for i in a:\n",
      "        dest = '/home/zurelsoft/my_files'\n",
      "        fullname = os.path.join(dest, i) #Get the file_full_size to calculate size\n",
      "        st = int(os.path.getsize(fullname))\n",
      "        f_size = size(st)\n",
      "</code></pre>\n",
      "\n",
      "<p>It does this for every element. How can I add them all?</p>\n",
      "\n"
     ]
    }
   ],
   "source": [
    "sample = df.iloc[96]\n",
    "print('title: {}, \\nbody: {}'.format(sample['Title'],sample['Body']))"
   ]
  },
  {
   "cell_type": "markdown",
   "metadata": {
    "id": "osb1A5MWeT2D"
   },
   "source": [
    "Preprocessing is one of the major steps when we are dealing with any kind of text models. As you can see above, the body of the question has plently of html tags and special characters. Therefore, we need to get rid of them as much as we can. We need to clean to questions by removing html tags, special characters and digits."
   ]
  },
  {
   "cell_type": "code",
   "execution_count": 6,
   "metadata": {
    "id": "tibnpZGLeT2D"
   },
   "outputs": [
    {
     "name": "stdout",
     "output_type": "stream",
     "text": [
      "Google App Engine: How to use the task queue for this processing?<p>I'm using the Python GAE SDK. </p>\n",
      "\n",
      "<p>I have some processing that needs to be done on 6000+ instances of <code>MyKind</code>. It is too slow to be done in a single request, so I'm using the task queue. If I make a single task process only one entity, then it should take only a few seconds.</p>\n",
      "\n",
      "<p>The <a href=\"http://code.google.com/appengine/docs/python/taskqueue/overview.html#Quotas_and_Limits\" rel=\"nofollow\">documentation</a> says that only 100 tasks can be added in a \"batch\". (What do they mean by that? In one request? In one task?)</p>\n",
      "\n",
      "<p>So, assuming that \"batch\" means \"request\", I'm trying to figure out what the best way is to create a task for each entity in the datastore. What do you think?</p>\n",
      "\n",
      "<p>It's easier if I can assume that the order of <code>MyKind</code> will never change. (The processing will never actually change the <code>MyKind</code> instances - it only creates new instances of other types.) I could just make a bunch of tasks, giving each one an offset of where to start, spaced less than 100 apart. Then, each task could create individual tasks that do the actual processing.</p>\n",
      "\n",
      "<p>But what if there are so many entities that the original request can't add all the necessary scheduling tasks? This makes me think I need a recursive solution - each task looks at the range it is given. If only one element is present in the range, it does processing on it. Otherwise, it subdivides the range further into subsequent tasks.</p>\n",
      "\n",
      "<p>If I can't count on using offsets and limits to identify entities (because their ordering isn't ensured to be constant), maybe I could just use their keys? But then I could be sending 1000s of keys around, which seems unwieldy.</p>\n",
      "\n",
      "<p>Am I going down the right path here, or is there another design I should consider? </p>\n",
      "\n",
      "-----------------------------------------------\n",
      "google app engine how to use the task queue for this processing i m using the python gae sdk i have some processing that needs to be done on instances of mykind it is too slow to be done in a single request so i m using the task queue if i make a single task process only one entity then it should take only a few seconds the documentation says that only tasks can be added in a batch what do they mean by that in one request in one task so assuming that batch means request i m trying to figure out what the best way is to create a task for each entity in the datastore what do you think it s easier if i can assume that the order of mykind will never change the processing will never actually change the mykind instances it only creates new instances of other types i could just make a bunch of tasks giving each one an offset of where to start spaced less than apart then each task could create individual tasks that do the actual processing but what if there are so many entities that the original request can t add all the necessary scheduling tasks this makes me think i need a recursive solution each task looks at the range it is given if only one element is present in the range it does processing on it otherwise it subdivides the range further into subsequent tasks if i can t count on using offsets and limits to identify entities because their ordering isn t ensured to be constant maybe i could just use their keys but then i could be sending s of keys around which seems unwieldy am i going down the right path here or is there another design i should consider\n"
     ]
    }
   ],
   "source": [
    "def preprocess(title:str, body:str=None):\n",
    "    '''\n",
    "    args:\n",
    "        title: string representing the question title\n",
    "        body: string representing the question body\n",
    "    output:\n",
    "        text: a preprocessed concatenation of title and body\n",
    "    '''\n",
    "\n",
    "    # Your code here\n",
    "    # given the title and (optional) the body of the question\n",
    "    # 1. concatenate the two string\n",
    "    # 2. perform lowercasing, remove tags as well as special characters and digits\n",
    "    # Hint: match tags and non-word characters with regular expressions\n",
    "    text = title if body is None else title + ' ' + body\n",
    "    text = text.lower()\n",
    "    text = re.sub(r'<.*?>', ' ', text)  # remove tags\n",
    "    text = re.sub(r'\\W+', ' ', text)    # remove special characters\n",
    "    text = re.sub(r'\\d+', ' ', text)     # remove digits\n",
    "    text = re.sub(r'\\s+', ' ', text)     # remove extra spaces\n",
    "    text = text.strip()                   # remove leading/trailing spaces    \n",
    "\n",
    "    return text\n",
    "\n",
    "# Apply the function to the Title and Body columns, returning a list of string\n",
    "# it could take a while to run\n",
    "data = [preprocess(title, body) for title, body in zip(df['Title'], df['Body'])]\n",
    "\n",
    "idx=100\n",
    "print(df.iloc[idx]['Title'] + df.iloc[idx]['Body'])\n",
    "print('-----------------------------------------------')\n",
    "print(data[idx])\n",
    "\n",
    "assert(data[idx][:115]=='google app engine how to use the task queue for this processing i m using the python gae sdk i have some processing')"
   ]
  },
  {
   "cell_type": "markdown",
   "metadata": {
    "id": "-zlvPzineT2E"
   },
   "source": [
    "Before computing the frequencies we need to extract the words from the string of text, as well as performing some additional pre-processing such as stop words removal."
   ]
  },
  {
   "cell_type": "code",
   "execution_count": 7,
   "metadata": {
    "id": "p48qlkppeT2E"
   },
   "outputs": [],
   "source": [
    "def tokenize(text: str) -> list[str]:\n",
    "    # Your code here\n",
    "    # perform tokenization and stopwords removal\n",
    "    stopwords = set([\n",
    "        'i', 'me', 'my', 'myself', 'we', 'our', 'ours', 'ourselves', 'you', \"you're\", \"you've\", \"you'll\", \"you'd\",\n",
    "        'your', 'yours', 'yourself', 'yourselves', 'he', 'him', 'his', 'himself', 'she', \"she's\", 'her', 'hers',\n",
    "        'herself', 'it', \"it's\", 'its', 'itself', 'they', 'them', 'their', 'theirs', 'themselves', 'what', 'which',\n",
    "        'who', 'whom', 'this', 'that', \"that'll\", 'these', 'those', 'am', 'is', 'are', 'was', 'were', 'be',\n",
    "        'been', 'being', 'have', 'has', 'had', 'having', 'do', 'does', 'did', 'doing', 'a', 'an', 'the',\n",
    "        'and',  'but','if','or','because','as','until','while','of','at','by','for','with','about','against',\n",
    "        'between','into','through','during','before','after','above','below','to','from','up','down','in',\n",
    "        'out','on','off','over','under','again','further','then','once','here','there','when',\n",
    "        'where','why','how','all','any','both','each','few','more','most','other',\n",
    "        'some','such','no','nor','not',\"don't\",'only',\n",
    "        'own','same',\"shan't\",'so',\"it's\",'s',\"let's\",'t',\"that's\",'ll',\n",
    "        'm',\"i'm\",'ve',\"you've\",'d',\"you'd\",'re',\"they're\",\n",
    "        'yourselves'\n",
    "    ])\n",
    "    tokens = text.split()\n",
    "    tokens = [token for token in tokens if token not in stopwords]\n",
    "    return tokens   \n",
    "\n",
    "\n",
    "assert(tokenize(data[100])[:10] == ['google', 'app', 'engine', 'use', 'task', 'queue', 'processing', 'using', 'python', 'gae'])"
   ]
  },
  {
   "cell_type": "markdown",
   "metadata": {
    "id": "X2kF3nb7eT2E"
   },
   "source": [
    "Now apply this function to each document"
   ]
  },
  {
   "cell_type": "code",
   "execution_count": 8,
   "metadata": {
    "id": "youxPNSyeT2E"
   },
   "outputs": [
    {
     "name": "stdout",
     "output_type": "stream",
     "text": [
      "['google', 'app', 'engine', 'use', 'task', 'queue', 'processing', 'using', 'python', 'gae']\n"
     ]
    }
   ],
   "source": [
    "# Your code here\n",
    "# produce a list of lists named 'docs' by applying your function to each document\n",
    "docs = [tokenize(doc) for doc in data]  \n",
    "print(docs[100][:10])\n",
    "assert(docs[100][:10] == ['google', 'app', 'engine', 'use', 'task', 'queue', 'processing', 'using', 'python', 'gae'])\n"
   ]
  },
  {
   "cell_type": "code",
   "execution_count": 9,
   "metadata": {
    "id": "6pQvmOxseT2F"
   },
   "outputs": [
    {
     "data": {
      "text/plain": [
       "126.17275"
      ]
     },
     "execution_count": 9,
     "metadata": {},
     "output_type": "execute_result"
    }
   ],
   "source": [
    "sum([len(x) for x in docs])/len(docs)"
   ]
  },
  {
   "cell_type": "markdown",
   "metadata": {
    "id": "jMTQxU65eT2F"
   },
   "source": [
    "The average number of tokens per document should be around 123"
   ]
  },
  {
   "cell_type": "markdown",
   "metadata": {
    "id": "lckVjzC6eT2F"
   },
   "source": [
    "And now create the vocabulary (set of unique words)"
   ]
  },
  {
   "cell_type": "code",
   "execution_count": 10,
   "metadata": {
    "id": "h2DK7v9CeT2F"
   },
   "outputs": [
    {
     "data": {
      "text/plain": [
       "33851"
      ]
     },
     "execution_count": 10,
     "metadata": {},
     "output_type": "execute_result"
    }
   ],
   "source": [
    "# Your code here\n",
    "# create a set 'vocab' containing every word from every document\n",
    "vocab = set()\n",
    "for doc in docs:\n",
    "    vocab.update(doc)   \n",
    "\n",
    "\n",
    "len(vocab)"
   ]
  },
  {
   "cell_type": "markdown",
   "metadata": {
    "id": "W71kBXmweT2F"
   },
   "source": [
    "You should get >33k words"
   ]
  },
  {
   "cell_type": "markdown",
   "metadata": {
    "id": "sYknDqBweT2F"
   },
   "source": [
    "We could think of tf-idf as a refinement of a much simpler bag-of-words model in which we simply count word occurrences (disregarding word order).\n",
    "Indeed the first step is to convert the document collection into a matrix of token counts"
   ]
  },
  {
   "cell_type": "code",
   "execution_count": 11,
   "metadata": {
    "id": "5w0i70N5eT2G"
   },
   "outputs": [
    {
     "name": "stderr",
     "output_type": "stream",
     "text": [
      "100%|██████████| 33851/33851 [03:14<00:00, 174.13it/s]\n"
     ]
    },
    {
     "name": "stdout",
     "output_type": "stream",
     "text": [
      "(33851, 4000)\n"
     ]
    },
    {
     "data": {
      "text/html": [
       "<div>\n",
       "<style scoped>\n",
       "    .dataframe tbody tr th:only-of-type {\n",
       "        vertical-align: middle;\n",
       "    }\n",
       "\n",
       "    .dataframe tbody tr th {\n",
       "        vertical-align: top;\n",
       "    }\n",
       "\n",
       "    .dataframe thead th {\n",
       "        text-align: right;\n",
       "    }\n",
       "</style>\n",
       "<table border=\"1\" class=\"dataframe\">\n",
       "  <thead>\n",
       "    <tr style=\"text-align: right;\">\n",
       "      <th></th>\n",
       "      <th>0</th>\n",
       "      <th>1</th>\n",
       "      <th>2</th>\n",
       "      <th>3</th>\n",
       "      <th>4</th>\n",
       "      <th>5</th>\n",
       "      <th>6</th>\n",
       "      <th>7</th>\n",
       "      <th>8</th>\n",
       "      <th>9</th>\n",
       "      <th>...</th>\n",
       "      <th>3990</th>\n",
       "      <th>3991</th>\n",
       "      <th>3992</th>\n",
       "      <th>3993</th>\n",
       "      <th>3994</th>\n",
       "      <th>3995</th>\n",
       "      <th>3996</th>\n",
       "      <th>3997</th>\n",
       "      <th>3998</th>\n",
       "      <th>3999</th>\n",
       "    </tr>\n",
       "  </thead>\n",
       "  <tbody>\n",
       "    <tr>\n",
       "      <th>_</th>\n",
       "      <td>0</td>\n",
       "      <td>0</td>\n",
       "      <td>0</td>\n",
       "      <td>0</td>\n",
       "      <td>0</td>\n",
       "      <td>0</td>\n",
       "      <td>1</td>\n",
       "      <td>0</td>\n",
       "      <td>0</td>\n",
       "      <td>0</td>\n",
       "      <td>...</td>\n",
       "      <td>0</td>\n",
       "      <td>0</td>\n",
       "      <td>0</td>\n",
       "      <td>0</td>\n",
       "      <td>0</td>\n",
       "      <td>0</td>\n",
       "      <td>0</td>\n",
       "      <td>0</td>\n",
       "      <td>0</td>\n",
       "      <td>0</td>\n",
       "    </tr>\n",
       "    <tr>\n",
       "      <th>__</th>\n",
       "      <td>0</td>\n",
       "      <td>0</td>\n",
       "      <td>0</td>\n",
       "      <td>0</td>\n",
       "      <td>0</td>\n",
       "      <td>0</td>\n",
       "      <td>0</td>\n",
       "      <td>0</td>\n",
       "      <td>0</td>\n",
       "      <td>0</td>\n",
       "      <td>...</td>\n",
       "      <td>0</td>\n",
       "      <td>0</td>\n",
       "      <td>0</td>\n",
       "      <td>0</td>\n",
       "      <td>0</td>\n",
       "      <td>0</td>\n",
       "      <td>0</td>\n",
       "      <td>0</td>\n",
       "      <td>0</td>\n",
       "      <td>0</td>\n",
       "    </tr>\n",
       "    <tr>\n",
       "      <th>___</th>\n",
       "      <td>0</td>\n",
       "      <td>0</td>\n",
       "      <td>0</td>\n",
       "      <td>0</td>\n",
       "      <td>0</td>\n",
       "      <td>0</td>\n",
       "      <td>0</td>\n",
       "      <td>0</td>\n",
       "      <td>0</td>\n",
       "      <td>0</td>\n",
       "      <td>...</td>\n",
       "      <td>0</td>\n",
       "      <td>0</td>\n",
       "      <td>0</td>\n",
       "      <td>0</td>\n",
       "      <td>0</td>\n",
       "      <td>0</td>\n",
       "      <td>0</td>\n",
       "      <td>0</td>\n",
       "      <td>0</td>\n",
       "      <td>0</td>\n",
       "    </tr>\n",
       "    <tr>\n",
       "      <th>____</th>\n",
       "      <td>0</td>\n",
       "      <td>0</td>\n",
       "      <td>0</td>\n",
       "      <td>0</td>\n",
       "      <td>0</td>\n",
       "      <td>0</td>\n",
       "      <td>0</td>\n",
       "      <td>0</td>\n",
       "      <td>0</td>\n",
       "      <td>0</td>\n",
       "      <td>...</td>\n",
       "      <td>0</td>\n",
       "      <td>0</td>\n",
       "      <td>0</td>\n",
       "      <td>0</td>\n",
       "      <td>0</td>\n",
       "      <td>0</td>\n",
       "      <td>0</td>\n",
       "      <td>0</td>\n",
       "      <td>0</td>\n",
       "      <td>0</td>\n",
       "    </tr>\n",
       "    <tr>\n",
       "      <th>______</th>\n",
       "      <td>0</td>\n",
       "      <td>0</td>\n",
       "      <td>0</td>\n",
       "      <td>0</td>\n",
       "      <td>0</td>\n",
       "      <td>0</td>\n",
       "      <td>0</td>\n",
       "      <td>0</td>\n",
       "      <td>0</td>\n",
       "      <td>0</td>\n",
       "      <td>...</td>\n",
       "      <td>0</td>\n",
       "      <td>0</td>\n",
       "      <td>0</td>\n",
       "      <td>0</td>\n",
       "      <td>0</td>\n",
       "      <td>0</td>\n",
       "      <td>0</td>\n",
       "      <td>0</td>\n",
       "      <td>0</td>\n",
       "      <td>0</td>\n",
       "    </tr>\n",
       "  </tbody>\n",
       "</table>\n",
       "<p>5 rows × 4000 columns</p>\n",
       "</div>"
      ],
      "text/plain": [
       "        0     1     2     3     4     5     6     7     8     9     ...  3990  \\\n",
       "_          0     0     0     0     0     0     1     0     0     0  ...     0   \n",
       "__         0     0     0     0     0     0     0     0     0     0  ...     0   \n",
       "___        0     0     0     0     0     0     0     0     0     0  ...     0   \n",
       "____       0     0     0     0     0     0     0     0     0     0  ...     0   \n",
       "______     0     0     0     0     0     0     0     0     0     0  ...     0   \n",
       "\n",
       "        3991  3992  3993  3994  3995  3996  3997  3998  3999  \n",
       "_          0     0     0     0     0     0     0     0     0  \n",
       "__         0     0     0     0     0     0     0     0     0  \n",
       "___        0     0     0     0     0     0     0     0     0  \n",
       "____       0     0     0     0     0     0     0     0     0  \n",
       "______     0     0     0     0     0     0     0     0     0  \n",
       "\n",
       "[5 rows x 4000 columns]"
      ]
     },
     "execution_count": 11,
     "metadata": {},
     "output_type": "execute_result"
    }
   ],
   "source": [
    "# Create a matrix with shape (num of words, num of documents) counting word occurencies\n",
    "# that is: count how many times a specific word (row) appears in a document (column)\n",
    "# Return a pandas dataframe named 'df_count'\n",
    "# It could take a while (~2 minutes), but you can monitor the progress with 'tqdm', try it!\n",
    "\n",
    "import pandas as pd\n",
    "from tqdm import tqdm\n",
    "\n",
    "vocab_list = sorted(vocab)\n",
    "\n",
    "rows = {}\n",
    "for word in tqdm(vocab_list):\n",
    "    rows[word] = []\n",
    "    for doc in docs:\n",
    "        rows[word].append(doc.count(word))\n",
    "\n",
    "df_count = pd.DataFrame(rows).T  \n",
    "\n",
    "print(df_count.shape)\n",
    "df_count.head()\n"
   ]
  },
  {
   "cell_type": "markdown",
   "metadata": {
    "id": "rjhAPTKxeT2G"
   },
   "source": [
    "How sparse is this matrix?"
   ]
  },
  {
   "cell_type": "code",
   "execution_count": 12,
   "metadata": {
    "id": "ErkT72nOeT2H",
    "outputId": "becc0fd7-dfd0-407d-c0ad-583cd8ddbcab"
   },
   "outputs": [
    {
     "name": "stdout",
     "output_type": "stream",
     "text": [
      "0.9981482895630853\n"
     ]
    }
   ],
   "source": [
    "# Your code here\n",
    "# compute the % of zeros in this matrix\n",
    "num_zeros = (df_count == 0).sum().sum()\n",
    "total_elements = df_count.size\n",
    "sparsity = num_zeros / total_elements\n",
    "print(sparsity)    "
   ]
  },
  {
   "cell_type": "markdown",
   "metadata": {
    "id": "kIZmNHjQeT2H"
   },
   "source": [
    "The result should be >99%"
   ]
  },
  {
   "cell_type": "markdown",
   "metadata": {
    "id": "byxDwC4V31H6"
   },
   "source": [
    "**Why it happens?**\n",
    "\n",
    "High sparsity is normal in text data and is one reason why sparse matrix formats and TF-IDF weighting are commonly used in NLP — they handle these mostly-zero matrices efficiently and give more meaningful features."
   ]
  },
  {
   "cell_type": "markdown",
   "metadata": {
    "id": "kHUVXia2eT2H"
   },
   "source": [
    "In practice, when building our vocabulary, we could ignore rare words and terms that appear in too many documents, in this case we will remove words that apper in less than 2 documents and in more than 95% of documents"
   ]
  },
  {
   "cell_type": "code",
   "execution_count": 13,
   "metadata": {
    "id": "lX82PExpeT2H",
    "outputId": "275c8bc2-7601-49dd-eb5f-afd620254a03"
   },
   "outputs": [
    {
     "name": "stdout",
     "output_type": "stream",
     "text": [
      "Min threshold 2\tMax threshold 3800\n"
     ]
    }
   ],
   "source": [
    "min_df = 2\n",
    "max_df = int(0.95*len(docs))\n",
    "print('Min threshold {}\\tMax threshold {}'.format(min_df, max_df))"
   ]
  },
  {
   "cell_type": "code",
   "execution_count": 14,
   "metadata": {
    "id": "m14BcMN9eT2H"
   },
   "outputs": [
    {
     "name": "stdout",
     "output_type": "stream",
     "text": [
      "23600\n"
     ]
    }
   ],
   "source": [
    "# Your code here\n",
    "# iterate over the words (rows) and count how many documents the term appears in\n",
    "# then apply our thresholds\n",
    "# add the words to remove in the 'to_remove' set\n",
    "# Hint: count non-zeros values\n",
    "to_remove = set()\n",
    "for word in df_count.index:\n",
    "    doc_count = (df_count.loc[word] > 0).sum()\n",
    "    if doc_count < min_df or doc_count > max_df:\n",
    "        to_remove.add(word) \n",
    "\n",
    "\n",
    "print(len(to_remove))"
   ]
  },
  {
   "cell_type": "markdown",
   "metadata": {
    "id": "Njq9kLaOeT2I"
   },
   "source": [
    "We should remove around 23k words, now let's apply the filter"
   ]
  },
  {
   "cell_type": "code",
   "execution_count": 15,
   "metadata": {
    "id": "Rj1UHMOieT2I"
   },
   "outputs": [
    {
     "name": "stdout",
     "output_type": "stream",
     "text": [
      "10251\n"
     ]
    }
   ],
   "source": [
    "# Your code here\n",
    "# filter the vocab set by removing the words in 'to_remove'\n",
    "vocab = vocab - to_remove  # remove rare and too frequent words\n",
    "print(len(vocab))\n"
   ]
  },
  {
   "cell_type": "code",
   "execution_count": 16,
   "metadata": {
    "id": "XjxIwNyAeT2I"
   },
   "outputs": [
    {
     "data": {
      "text/plain": [
       "(10251, 4000)"
      ]
     },
     "execution_count": 16,
     "metadata": {},
     "output_type": "execute_result"
    }
   ],
   "source": [
    "# Your code here\n",
    "# remove the words also from the 'df_count' table\n",
    "# Hint: keep in mind that words make up the index of the dataframe, therefore it should be easy to remove the unnecessary ones\n",
    "df_count = df_count.drop(index=to_remove)   \n",
    "\n",
    "            \n",
    "\n",
    "df_count.shape"
   ]
  },
  {
   "cell_type": "markdown",
   "metadata": {
    "id": "dWDI-E2feT2I"
   },
   "source": [
    "Now we can compute the first term of tf-idf, that is tf or the term frequency:\n",
    "\n",
    "$$\n",
    "tf(t,d)=\\frac{count(t, d)}{\\sum_{t'}{count(t', d)}}\n",
    "$$\n",
    "\n",
    "where $t$ and $d$ are terms and documents, respectively, $count(t,d)$ is the number of times that $t$ occurs in $d$ and the denominator is the the number of terms in the document $d$"
   ]
  },
  {
   "cell_type": "code",
   "execution_count": 17,
   "metadata": {
    "id": "6qsLjf4LeT2I"
   },
   "outputs": [
    {
     "data": {
      "text/html": [
       "<div>\n",
       "<style scoped>\n",
       "    .dataframe tbody tr th:only-of-type {\n",
       "        vertical-align: middle;\n",
       "    }\n",
       "\n",
       "    .dataframe tbody tr th {\n",
       "        vertical-align: top;\n",
       "    }\n",
       "\n",
       "    .dataframe thead th {\n",
       "        text-align: right;\n",
       "    }\n",
       "</style>\n",
       "<table border=\"1\" class=\"dataframe\">\n",
       "  <thead>\n",
       "    <tr style=\"text-align: right;\">\n",
       "      <th></th>\n",
       "      <th>0</th>\n",
       "      <th>1</th>\n",
       "      <th>2</th>\n",
       "      <th>3</th>\n",
       "      <th>4</th>\n",
       "      <th>5</th>\n",
       "      <th>6</th>\n",
       "      <th>7</th>\n",
       "      <th>8</th>\n",
       "      <th>9</th>\n",
       "      <th>...</th>\n",
       "      <th>3990</th>\n",
       "      <th>3991</th>\n",
       "      <th>3992</th>\n",
       "      <th>3993</th>\n",
       "      <th>3994</th>\n",
       "      <th>3995</th>\n",
       "      <th>3996</th>\n",
       "      <th>3997</th>\n",
       "      <th>3998</th>\n",
       "      <th>3999</th>\n",
       "    </tr>\n",
       "  </thead>\n",
       "  <tbody>\n",
       "    <tr>\n",
       "      <th>_</th>\n",
       "      <td>0.0</td>\n",
       "      <td>0.0</td>\n",
       "      <td>0.0</td>\n",
       "      <td>0.0</td>\n",
       "      <td>0.0</td>\n",
       "      <td>0.0</td>\n",
       "      <td>0.013333</td>\n",
       "      <td>0.0</td>\n",
       "      <td>0.0</td>\n",
       "      <td>0.0</td>\n",
       "      <td>...</td>\n",
       "      <td>0.0</td>\n",
       "      <td>0.0</td>\n",
       "      <td>0.0</td>\n",
       "      <td>0.0</td>\n",
       "      <td>0.0</td>\n",
       "      <td>0.0</td>\n",
       "      <td>0.0</td>\n",
       "      <td>0.0</td>\n",
       "      <td>0.0</td>\n",
       "      <td>0.0</td>\n",
       "    </tr>\n",
       "    <tr>\n",
       "      <th>__</th>\n",
       "      <td>0.0</td>\n",
       "      <td>0.0</td>\n",
       "      <td>0.0</td>\n",
       "      <td>0.0</td>\n",
       "      <td>0.0</td>\n",
       "      <td>0.0</td>\n",
       "      <td>0.000000</td>\n",
       "      <td>0.0</td>\n",
       "      <td>0.0</td>\n",
       "      <td>0.0</td>\n",
       "      <td>...</td>\n",
       "      <td>0.0</td>\n",
       "      <td>0.0</td>\n",
       "      <td>0.0</td>\n",
       "      <td>0.0</td>\n",
       "      <td>0.0</td>\n",
       "      <td>0.0</td>\n",
       "      <td>0.0</td>\n",
       "      <td>0.0</td>\n",
       "      <td>0.0</td>\n",
       "      <td>0.0</td>\n",
       "    </tr>\n",
       "    <tr>\n",
       "      <th>___</th>\n",
       "      <td>0.0</td>\n",
       "      <td>0.0</td>\n",
       "      <td>0.0</td>\n",
       "      <td>0.0</td>\n",
       "      <td>0.0</td>\n",
       "      <td>0.0</td>\n",
       "      <td>0.000000</td>\n",
       "      <td>0.0</td>\n",
       "      <td>0.0</td>\n",
       "      <td>0.0</td>\n",
       "      <td>...</td>\n",
       "      <td>0.0</td>\n",
       "      <td>0.0</td>\n",
       "      <td>0.0</td>\n",
       "      <td>0.0</td>\n",
       "      <td>0.0</td>\n",
       "      <td>0.0</td>\n",
       "      <td>0.0</td>\n",
       "      <td>0.0</td>\n",
       "      <td>0.0</td>\n",
       "      <td>0.0</td>\n",
       "    </tr>\n",
       "    <tr>\n",
       "      <th>_________________________________________________________</th>\n",
       "      <td>0.0</td>\n",
       "      <td>0.0</td>\n",
       "      <td>0.0</td>\n",
       "      <td>0.0</td>\n",
       "      <td>0.0</td>\n",
       "      <td>0.0</td>\n",
       "      <td>0.000000</td>\n",
       "      <td>0.0</td>\n",
       "      <td>0.0</td>\n",
       "      <td>0.0</td>\n",
       "      <td>...</td>\n",
       "      <td>0.0</td>\n",
       "      <td>0.0</td>\n",
       "      <td>0.0</td>\n",
       "      <td>0.0</td>\n",
       "      <td>0.0</td>\n",
       "      <td>0.0</td>\n",
       "      <td>0.0</td>\n",
       "      <td>0.0</td>\n",
       "      <td>0.0</td>\n",
       "      <td>0.0</td>\n",
       "    </tr>\n",
       "    <tr>\n",
       "      <th>__add__</th>\n",
       "      <td>0.0</td>\n",
       "      <td>0.0</td>\n",
       "      <td>0.0</td>\n",
       "      <td>0.0</td>\n",
       "      <td>0.0</td>\n",
       "      <td>0.0</td>\n",
       "      <td>0.000000</td>\n",
       "      <td>0.0</td>\n",
       "      <td>0.0</td>\n",
       "      <td>0.0</td>\n",
       "      <td>...</td>\n",
       "      <td>0.0</td>\n",
       "      <td>0.0</td>\n",
       "      <td>0.0</td>\n",
       "      <td>0.0</td>\n",
       "      <td>0.0</td>\n",
       "      <td>0.0</td>\n",
       "      <td>0.0</td>\n",
       "      <td>0.0</td>\n",
       "      <td>0.0</td>\n",
       "      <td>0.0</td>\n",
       "    </tr>\n",
       "  </tbody>\n",
       "</table>\n",
       "<p>5 rows × 4000 columns</p>\n",
       "</div>"
      ],
      "text/plain": [
       "                                                    0     1     2     3     \\\n",
       "_                                                    0.0   0.0   0.0   0.0   \n",
       "__                                                   0.0   0.0   0.0   0.0   \n",
       "___                                                  0.0   0.0   0.0   0.0   \n",
       "_______________________________________________...   0.0   0.0   0.0   0.0   \n",
       "__add__                                              0.0   0.0   0.0   0.0   \n",
       "\n",
       "                                                    4     5         6     \\\n",
       "_                                                    0.0   0.0  0.013333   \n",
       "__                                                   0.0   0.0  0.000000   \n",
       "___                                                  0.0   0.0  0.000000   \n",
       "_______________________________________________...   0.0   0.0  0.000000   \n",
       "__add__                                              0.0   0.0  0.000000   \n",
       "\n",
       "                                                    7     8     9     ...  \\\n",
       "_                                                    0.0   0.0   0.0  ...   \n",
       "__                                                   0.0   0.0   0.0  ...   \n",
       "___                                                  0.0   0.0   0.0  ...   \n",
       "_______________________________________________...   0.0   0.0   0.0  ...   \n",
       "__add__                                              0.0   0.0   0.0  ...   \n",
       "\n",
       "                                                    3990  3991  3992  3993  \\\n",
       "_                                                    0.0   0.0   0.0   0.0   \n",
       "__                                                   0.0   0.0   0.0   0.0   \n",
       "___                                                  0.0   0.0   0.0   0.0   \n",
       "_______________________________________________...   0.0   0.0   0.0   0.0   \n",
       "__add__                                              0.0   0.0   0.0   0.0   \n",
       "\n",
       "                                                    3994  3995  3996  3997  \\\n",
       "_                                                    0.0   0.0   0.0   0.0   \n",
       "__                                                   0.0   0.0   0.0   0.0   \n",
       "___                                                  0.0   0.0   0.0   0.0   \n",
       "_______________________________________________...   0.0   0.0   0.0   0.0   \n",
       "__add__                                              0.0   0.0   0.0   0.0   \n",
       "\n",
       "                                                    3998  3999  \n",
       "_                                                    0.0   0.0  \n",
       "__                                                   0.0   0.0  \n",
       "___                                                  0.0   0.0  \n",
       "_______________________________________________...   0.0   0.0  \n",
       "__add__                                              0.0   0.0  \n",
       "\n",
       "[5 rows x 4000 columns]"
      ]
     },
     "execution_count": 17,
     "metadata": {},
     "output_type": "execute_result"
    }
   ],
   "source": [
    "def tf(df_count, docs):\n",
    "    df_tf = df_count.copy()\n",
    "\n",
    "    # Your code here\n",
    "    # starting from the raw counts compute the frequency and return the 'df_tf' dataframe\n",
    "    # Hint: iterate over the columns (documents)\n",
    "\n",
    "    col_sums = df_count.sum(axis=0)\n",
    "    df_tf = df_count / col_sums\n",
    "    df_tf = df_tf.fillna(0)\n",
    "\n",
    "    return df_tf\n",
    "\n",
    "# Apply the function\n",
    "df_tf = tf(df_count, docs)\n",
    "\n",
    "# Check first 5 rows and 5 columns\n",
    "df_tf.iloc[:5, :5]\n",
    "\n",
    "\n",
    "df_tf = tf(df_count, docs)\n",
    "df_tf.head()\n",
    "       \n"
   ]
  },
  {
   "cell_type": "markdown",
   "metadata": {
    "id": "LG3b-YeYeT2I"
   },
   "source": [
    "Let's see more in detail the tf score for the word 'lists' by filtering out zero values"
   ]
  },
  {
   "cell_type": "code",
   "execution_count": 18,
   "metadata": {
    "id": "Fn8n_WsNeT2I",
    "outputId": "c53bcd79-ad58-4630-c032-f4a51fd2ade8"
   },
   "outputs": [
    {
     "data": {
      "text/plain": [
       "array([0.01428571, 0.01449275, 0.00564972, 0.00990099, 0.01136364,\n",
       "       0.00917431, 0.00689655, 0.01351351, 0.0212766 , 0.00909091,\n",
       "       0.04878049, 0.00223714, 0.02      , 0.01265823, 0.00625   ,\n",
       "       0.04464286, 0.02325581, 0.04225352, 0.0106383 , 0.08333333,\n",
       "       0.00510204, 0.01052632, 0.03225806, 0.03488372, 0.02272727,\n",
       "       0.02040816, 0.01234568, 0.01282051, 0.01351351, 0.03846154,\n",
       "       0.02777778, 0.02173913, 0.00892857, 0.01785714, 0.02339181,\n",
       "       0.01020408, 0.03401361, 0.03030303, 0.03846154, 0.025     ,\n",
       "       0.13636364, 0.01869159, 0.0625    , 0.01190476, 0.02380952,\n",
       "       0.02222222, 0.01388889, 0.0060241 , 0.03614458, 0.04      ,\n",
       "       0.00353357, 0.01041667, 0.02222222, 0.00840336, 0.02409639,\n",
       "       0.00625   , 0.05      , 0.01515152, 0.0026178 , 0.07272727,\n",
       "       0.01190476, 0.0075188 , 0.00854701, 0.01481481, 0.03571429,\n",
       "       0.00462963, 0.02531646, 0.05555556, 0.00892857, 0.00518135,\n",
       "       0.01315789, 0.03333333, 0.01351351, 0.04545455, 0.00198807,\n",
       "       0.02380952, 0.01694915, 0.00613497, 0.03030303, 0.01960784,\n",
       "       0.01538462, 0.02307692, 0.01470588, 0.05263158, 0.02173913,\n",
       "       0.05128205, 0.02083333, 0.01219512, 0.01298701, 0.03278689,\n",
       "       0.02816901, 0.02285714, 0.01265823, 0.05555556, 0.01265823,\n",
       "       0.05128205, 0.00361011, 0.01470588, 0.04      , 0.01298701,\n",
       "       0.00884956, 0.015625  , 0.00892857, 0.00775194, 0.01098901,\n",
       "       0.01851852, 0.01587302, 0.0122449 , 0.00552486, 0.01694915,\n",
       "       0.01492537, 0.02380952, 0.01724138, 0.03125   , 0.00869565,\n",
       "       0.01      , 0.01612903, 0.00628931, 0.00687285, 0.04761905,\n",
       "       0.01298701, 0.05882353, 0.00980392, 0.02173913, 0.01754386,\n",
       "       0.00729927, 0.06382979, 0.14285714, 0.01086957, 0.01020408,\n",
       "       0.01204819, 0.01612903, 0.02380952, 0.00574713, 0.03508772,\n",
       "       0.02197802, 0.03703704])"
      ]
     },
     "execution_count": 18,
     "metadata": {},
     "output_type": "execute_result"
    }
   ],
   "source": [
    "nn = df_tf.loc['lists'].to_numpy()\n",
    "nn[nn.nonzero()]"
   ]
  },
  {
   "cell_type": "markdown",
   "metadata": {
    "id": "twK_vJkaeT2J"
   },
   "source": [
    "And now compute the idf score as:\n",
    "$$\n",
    "idf(t, D) = log\\frac{1+N}{1+|\\{d:t \\in d\\}|}\n",
    "$$\n",
    "with $D$ is the collection of documents, $N=|D|$ and $|\\{d:t \\in d\\}|$ is the number of documents in which $t$ appears. (log base 10)"
   ]
  },
  {
   "cell_type": "code",
   "execution_count": null,
   "metadata": {
    "id": "G0XhZi1ReT2J"
   },
   "outputs": [
    {
     "data": {
      "text/html": [
       "<div>\n",
       "<style scoped>\n",
       "    .dataframe tbody tr th:only-of-type {\n",
       "        vertical-align: middle;\n",
       "    }\n",
       "\n",
       "    .dataframe tbody tr th {\n",
       "        vertical-align: top;\n",
       "    }\n",
       "\n",
       "    .dataframe thead th {\n",
       "        text-align: right;\n",
       "    }\n",
       "</style>\n",
       "<table border=\"1\" class=\"dataframe\">\n",
       "  <thead>\n",
       "    <tr style=\"text-align: right;\">\n",
       "      <th></th>\n",
       "      <th>idf</th>\n",
       "    </tr>\n",
       "  </thead>\n",
       "  <tbody>\n",
       "    <tr>\n",
       "      <th>_</th>\n",
       "      <td>1.459154</td>\n",
       "    </tr>\n",
       "    <tr>\n",
       "      <th>__</th>\n",
       "      <td>2.522987</td>\n",
       "    </tr>\n",
       "    <tr>\n",
       "      <th>___</th>\n",
       "      <td>3.125047</td>\n",
       "    </tr>\n",
       "    <tr>\n",
       "      <th>_________________________________________________________</th>\n",
       "      <td>3.125047</td>\n",
       "    </tr>\n",
       "    <tr>\n",
       "      <th>__add__</th>\n",
       "      <td>3.000109</td>\n",
       "    </tr>\n",
       "  </tbody>\n",
       "</table>\n",
       "</div>"
      ],
      "text/plain": [
       "                                                         idf\n",
       "_                                                   1.459154\n",
       "__                                                  2.522987\n",
       "___                                                 3.125047\n",
       "_______________________________________________...  3.125047\n",
       "__add__                                             3.000109"
      ]
     },
     "execution_count": 19,
     "metadata": {},
     "output_type": "execute_result"
    }
   ],
   "source": [
    "def idf(df_count):\n",
    "    df_idf = {}  # dictionary {word: score}\n",
    "    N = df_count.shape[1]  # number of documents\n",
    "\n",
    "    # Your code here\n",
    "    # iterate over the rows (words) and compute the idf score\n",
    "    # return dataframe with the result and shape (num words, 1)\n",
    "\n",
    "    for word in df_count.index:\n",
    "        doc_count = (df_count.loc[word] > 0).sum()  # number of docs where word appears\n",
    "        idf_score = np.log10((1 + N) / (1 + doc_count))  # add 1 to avoid division by zero\n",
    "        df_idf[word] = idf_score\n",
    "\n",
    "    df_idf = pd.DataFrame.from_dict(df_idf, orient='index', columns=['idf'])\n",
    "    return df_idf\n",
    "\n",
    "df_idf = idf(df_count)\n",
    "df_idf.head()\n"
   ]
  },
  {
   "cell_type": "code",
   "execution_count": 20,
   "metadata": {
    "id": "wpHxCh4oeT2J"
   },
   "outputs": [
    {
     "data": {
      "text/plain": [
       "idf    1.462289\n",
       "Name: lists, dtype: float64"
      ]
     },
     "execution_count": 20,
     "metadata": {},
     "output_type": "execute_result"
    }
   ],
   "source": [
    "df_idf.loc['lists']"
   ]
  },
  {
   "cell_type": "markdown",
   "metadata": {
    "id": "S5F3br1XeT2J"
   },
   "source": [
    "The idf score for the word 'list' should be ~1.87"
   ]
  },
  {
   "cell_type": "markdown",
   "metadata": {
    "id": "urXcIvCleT2J"
   },
   "source": [
    "Finally, we can now compute the tf-idf score by multipying the two factors"
   ]
  },
  {
   "cell_type": "code",
   "execution_count": 21,
   "metadata": {
    "id": "_scb0idreT2J"
   },
   "outputs": [
    {
     "data": {
      "text/plain": [
       "(4000, 10251)"
      ]
     },
     "execution_count": 21,
     "metadata": {},
     "output_type": "execute_result"
    }
   ],
   "source": [
    "tf = df_tf.values\n",
    "idf = df_idf.values\n",
    "\n",
    "tf_idf = tf*idf\n",
    "tf_idf = tf_idf.T\n",
    "tf_idf.shape"
   ]
  },
  {
   "cell_type": "markdown",
   "metadata": {
    "id": "NNIns8X0eT2J"
   },
   "source": [
    "Let's see some examples from the first 10 documents:"
   ]
  },
  {
   "cell_type": "code",
   "execution_count": 22,
   "metadata": {
    "id": "gZZZYZiqeT2J"
   },
   "outputs": [
    {
     "name": "stdout",
     "output_type": "stream",
     "text": [
      "[0. 0. 0. ... 0. 0. 0.]\n",
      "[0. 0. 0. ... 0. 0. 0.]\n",
      "[0. 0. 0. ... 0. 0. 0.]\n",
      "[0. 0. 0. ... 0. 0. 0.]\n",
      "[0. 0. 0. ... 0. 0. 0.]\n",
      "[0. 0. 0. ... 0. 0. 0.]\n",
      "[0.01945538 0.         0.         ... 0.         0.         0.        ]\n",
      "[0. 0. 0. ... 0. 0. 0.]\n",
      "[0. 0. 0. ... 0. 0. 0.]\n",
      "[0. 0. 0. ... 0. 0. 0.]\n"
     ]
    }
   ],
   "source": [
    "for i in range(10):\n",
    "    print(tf_idf[i])"
   ]
  },
  {
   "cell_type": "markdown",
   "metadata": {
    "id": "AKPV70HFeT2K"
   },
   "source": [
    "Obviously the majority of values are zero, to get some interesting results we should filtering out zero values"
   ]
  },
  {
   "cell_type": "code",
   "execution_count": null,
   "metadata": {
    "id": "Xs2Z8cEoeT2K"
   },
   "outputs": [
    {
     "name": "stdout",
     "output_type": "stream",
     "text": [
      "[0.01249322 0.01462783 0.01676433 0.01541925 0.03114346 0.01393087\n",
      " 0.02076483 0.02134705 0.01692014 0.00626788 0.00245804 0.01156459\n",
      " 0.08872517 0.02459926 0.01034021 0.00398696 0.01233742 0.01947004\n",
      " 0.03765847 0.02076483 0.00870491 0.01070618 0.01647383 0.00912089\n",
      " 0.00805635 0.01849671 0.01295857 0.0159618  0.00574011 0.00682156\n",
      " 0.0094728  0.01855138 0.02134705 0.01552064 0.01552064 0.01455088\n",
      " 0.01829577 0.02027258 0.01643925 0.01109373 0.01513309 0.02459926\n",
      " 0.01089408 0.01633792 0.02205962 0.02297829 0.01552064 0.01984617\n",
      " 0.01855138 0.00548562 0.01352015 0.02239687 0.02134705 0.02278223\n",
      " 0.01532099 0.00973099 0.01274218 0.16084802 0.02297829 0.01352015\n",
      " 0.02297829 0.01984617 0.01513309 0.02027258 0.00139368 0.01222536\n",
      " 0.02297829 0.01412447 0.0092915  0.00772587 0.00771691 0.02134705\n",
      " 0.00647929 0.01692014 0.01725659 0.00950396 0.02297829 0.01913359\n",
      " 0.02682272 0.01805912 0.01947004 0.01237567 0.02134705 0.02297829\n",
      " 0.01016221 0.00659048 0.01174888 0.01393087 0.01222524 0.01150546\n",
      " 0.02205962 0.01552064 0.01462783 0.00439277 0.00874168 0.00445658\n",
      " 0.05760929 0.00600617 0.03496622 0.01119844 0.01310753 0.00445336\n",
      " 0.01608232]\n",
      "[0.05882566 0.0270301  0.01039793 0.01562322 0.02941283 0.09024073\n",
      " 0.01318127 0.01424566 0.02215437 0.02846273 0.03189569 0.009011\n",
      " 0.02846273 0.00910026 0.00615802 0.0270301  0.01892226 0.00580679\n",
      " 0.02097814 0.00503606 0.02231913 0.11765132 0.03166667 0.02144309\n",
      " 0.0173496  0.01545944 0.02196511 0.02144309 0.0200692  0.00867971\n",
      " 0.02768644 0.04601757 0.00185824 0.0217839  0.02477732 0.01135415\n",
      " 0.00789119 0.01665763 0.01028922 0.08245472 0.02551146 0.02846273\n",
      " 0.01030116 0.04470489 0.00814295 0.08125911 0.01389683 0.01728745\n",
      " 0.02325215 0.0127776  0.0212824  0.02768644 0.08215612 0.00537947\n",
      " 0.0112185 ]\n",
      "[0.05021129 0.03748966 0.0230521  0.01671436 0.02636255 0.03482537\n",
      " 0.04757014 0.05615321 0.05709963 0.0106319  0.02311613 0.01231603\n",
      " 0.02640973 0.0214836  0.02485715 0.01530696 0.00909541 0.02655285\n",
      " 0.01566101 0.04138837 0.02410307 0.01929648 0.06127544 0.12255087\n",
      " 0.06127544 0.02188317 0.00743294 0.03495342 0.01499177 0.02830992\n",
      " 0.08915966 0.20409165 0.09024073 0.05882566 0.04702056 0.01226196\n",
      " 0.04138837 0.03158711 0.01881773]\n",
      "[0.01412004 0.00506505 0.01926901 0.08226258 0.07187029 0.02126533\n",
      " 0.04261421 0.06908937 0.05484172 0.03929749 0.02051811 0.03770038\n",
      " 0.01903387 0.04278293 0.01405654 0.01208103 0.01373768 0.02389186\n",
      " 0.0417738  0.07540076 0.0186251  0.02917218 0.0134141  0.01856957\n",
      " 0.00845486 0.03118334 0.03822708 0.00287182 0.01888095 0.02982879\n",
      " 0.0146012  0.02134915 0.01321506 0.11754004 0.01651947 0.01381776\n",
      " 0.01981367 0.00947515 0.02147693 0.01269685 0.01480085 0.07986684\n",
      " 0.08354759 0.13196357 0.02019175 0.01733768]\n",
      "[0.0187584  0.01493809 0.01411958 0.00823882 0.01661277 0.02681575\n",
      " 0.03094106 0.00536858 0.02883249 0.02806885 0.03109493 0.02331261\n",
      " 0.01910961 0.01376219 0.01969688 0.01432507 0.02300411 0.00789453\n",
      " 0.00508592 0.01001093 0.01127006 0.01739674 0.00685226 0.00730942\n",
      " 0.00639604 0.02423308 0.0352995  0.09531506 0.02063024 0.00846294\n",
      " 0.09203121 0.02883249 0.01072925 0.02118585 0.1603413  0.04972464\n",
      " 0.02729773 0.00375327 0.01048855 0.01146657 0.02182404 0.01682256\n",
      " 0.01603859 0.04298623 0.01710007 0.01116784 0.00822357 0.008572\n",
      " 0.00968204 0.01608361 0.01934369 0.01553213 0.00808751 0.02187542]\n",
      "[0.14458355 0.07531282 0.03251902 0.07629422 0.02116952 0.06643543\n",
      " 0.01871669 0.01027027 0.04279744 0.00402763 0.0340243  0.02262521\n",
      " 0.01701008 0.03251902 0.01769433 0.07044419 0.02080852 0.01047921\n",
      " 0.03765117 0.0340243  0.02821645 0.03375353 0.06079487 0.02897578\n",
      " 0.04846034 0.06270286 0.06270286 0.02560298 0.02677057 0.02116952\n",
      " 0.02836836 0.02635175 0.0412066  0.03293109 0.02188962 0.03016676\n",
      " 0.01344629 0.00456723 0.03765117 0.00761231 0.01866374 0.02827586\n",
      " 0.01061666 0.0340243  0.0394079  0.03321772 0.02409769 0.01834924\n",
      " 0.00990182 0.01178176 0.03135143 0.0071978  0.01345117 0.01120567\n",
      " 0.00513346]\n",
      "[0.01945538 0.04975209 0.02071313 0.07700299 0.01011914 0.02921769\n",
      " 0.03524731 0.04638799 0.0343547  0.0929366  0.12635582 0.0209166\n",
      " 0.01263385 0.0196867  0.08000434 0.04131179 0.00936464 0.0323477\n",
      " 0.02471974 0.17993857 0.03870931 0.04511809 0.01107441 0.02199311\n",
      " 0.05925219 0.02853027 0.01615085 0.01963927]\n",
      "[0.03434535 0.02969231 0.02595292 0.02006701 0.01754712 0.03193687\n",
      " 0.02452429 0.04214951 0.03713769 0.02969231 0.02137174 0.02504312\n",
      " 0.01586705 0.03289893 0.03903589 0.03434535 0.0466425  0.02159452\n",
      " 0.01416352 0.03171712 0.0290889  0.02778815 0.02121355 0.02512075\n",
      " 0.03129878 0.0263182  0.03765653 0.04333132 0.02880703 0.00282896\n",
      " 0.0285369  0.03311666 0.01588581 0.01201345 0.02312075 0.01438327\n",
      " 0.02074598 0.05581417 0.03883834 0.0466425  0.02603565 0.04477774\n",
      " 0.02722414 0.05817779 0.03136473 0.01240771 0.05817779 0.0353988\n",
      " 0.00635936 0.00818964 0.00904619 0.02051167 0.03402909 0.03657487\n",
      " 0.02660634 0.00903965]\n",
      "[0.01377389 0.03580611 0.0170697  0.01526828 0.01784782 0.02097918\n",
      " 0.03321165 0.03774175 0.01709885 0.05803556 0.01408381 0.03231461\n",
      " 0.13074462 0.02583616 0.00815737 0.0092073  0.00602423 0.0123241\n",
      " 0.01758695 0.03624267 0.00615285 0.02220875 0.03834236 0.06348375\n",
      " 0.04064265 0.02597544 0.00246156 0.08223923 0.0144079  0.00820548\n",
      " 0.07943689 0.09829821 0.01124379 0.01218789 0.06082103 0.04085155\n",
      " 0.02273909 0.00787136]\n",
      "[0.0156138  0.03554607 0.05604439 0.01688875 0.02347325 0.00594372\n",
      " 0.01276782 0.02084505 0.05596331 0.03174225 0.07711653 0.04147426\n",
      " 0.04464353 0.01012803 0.01295267 0.01846483 0.0581424  0.01129419\n",
      " 0.02510101 0.00676813 0.02958128 0.06249129 0.01065777 0.02288812\n",
      " 0.02347325 0.04285869 0.00797173 0.00541543 0.20129199 0.05746011\n",
      " 0.07104368 0.01302818 0.02382386 0.02560871 0.03562785 0.01174073\n",
      " 0.05268242 0.02351597 0.01890593 0.02001102 0.04113017]\n"
     ]
    }
   ],
   "source": [
    "for i in range(10):\n",
    "    # Your code here\n",
    "    # print only non-zero values for the column 'i'\n",
    "    nn = tf_idf[i]\n",
    "    print(nn[nn.nonzero()])"
   ]
  },
  {
   "cell_type": "markdown",
   "metadata": {
    "id": "aUlQ3i7_eT2K"
   },
   "source": [
    "Now that we have the tf-idf matrix we can compute the similarity between documents using the cosine similarity, that is the angle between the two vectors:\n",
    "\n",
    "$$\n",
    "cos(\\theta) = \\frac{A \\cdot B}{\\|A\\| \\|B\\|}\n",
    "$$"
   ]
  },
  {
   "cell_type": "code",
   "execution_count": 24,
   "metadata": {
    "id": "fwvqofpueT2K"
   },
   "outputs": [
    {
     "name": "stdout",
     "output_type": "stream",
     "text": [
      "0.006643629844401407\n"
     ]
    }
   ],
   "source": [
    "from numpy.linalg import norm\n",
    "\n",
    "a=tf_idf[0]\n",
    "b=tf_idf[1]\n",
    "\n",
    "# Your code here\n",
    "# compute the cosine similarity between a and b\n",
    "cos_sim = np.dot(a, b) / (norm(a) * norm(b))\n",
    "print(cos_sim)\n",
    "# Hint: use the 'norm' function from numpy.linalg"
   ]
  },
  {
   "cell_type": "markdown",
   "metadata": {
    "id": "EpegG_mbeT2K"
   },
   "source": [
    "The similarity should be ~0.012"
   ]
  },
  {
   "cell_type": "markdown",
   "metadata": {
    "id": "yTR-Rm_6eT2K"
   },
   "source": [
    "Now that we have learned how tf-idf works we can use the more efficient and complete scikit-learn's implementation.\n",
    "\n",
    "We will use the [TfidfVectorizer](https://scikit-learn.org/1.5/modules/generated/sklearn.feature_extraction.text.TfidfVectorizer.html) for computing the tf-idf matrix and [cosine_similarity](https://scikit-learn.org/1.5/modules/generated/sklearn.metrics.pairwise.cosine_similarity.html) for the similarity score. Look at the documentation for more info."
   ]
  },
  {
   "cell_type": "code",
   "execution_count": null,
   "metadata": {
    "id": "Q7tr-0i5eT2K"
   },
   "outputs": [
    {
     "name": "stderr",
     "output_type": "stream",
     "text": [
      "\n",
      "[notice] A new release of pip is available: 24.0 -> 25.2\n",
      "[notice] To update, run: C:\\Users\\douae\\AppData\\Local\\Microsoft\\WindowsApps\\PythonSoftwareFoundation.Python.3.11_qbz5n2kfra8p0\\python.exe -m pip install --upgrade pip\n"
     ]
    },
    {
     "name": "stdout",
     "output_type": "stream",
     "text": [
      "Requirement already satisfied: scikit-learn in c:\\users\\douae\\appdata\\local\\packages\\pythonsoftwarefoundation.python.3.11_qbz5n2kfra8p0\\localcache\\local-packages\\python311\\site-packages (1.7.2)\n",
      "Requirement already satisfied: numpy>=1.22.0 in c:\\users\\douae\\appdata\\local\\packages\\pythonsoftwarefoundation.python.3.11_qbz5n2kfra8p0\\localcache\\local-packages\\python311\\site-packages (from scikit-learn) (1.26.4)\n",
      "Requirement already satisfied: scipy>=1.8.0 in c:\\users\\douae\\appdata\\local\\packages\\pythonsoftwarefoundation.python.3.11_qbz5n2kfra8p0\\localcache\\local-packages\\python311\\site-packages (from scikit-learn) (1.13.1)\n",
      "Requirement already satisfied: joblib>=1.2.0 in c:\\users\\douae\\appdata\\local\\packages\\pythonsoftwarefoundation.python.3.11_qbz5n2kfra8p0\\localcache\\local-packages\\python311\\site-packages (from scikit-learn) (1.5.2)\n",
      "Requirement already satisfied: threadpoolctl>=3.1.0 in c:\\users\\douae\\appdata\\local\\packages\\pythonsoftwarefoundation.python.3.11_qbz5n2kfra8p0\\localcache\\local-packages\\python311\\site-packages (from scikit-learn) (3.6.0)\n",
      "Note: you may need to restart the kernel to use updated packages.\n"
     ]
    },
    {
     "data": {
      "text/plain": [
       "array([[0.01191613]])"
      ]
     },
     "execution_count": 26,
     "metadata": {},
     "output_type": "execute_result"
    }
   ],
   "source": [
    "from sklearn.feature_extraction.text import TfidfVectorizer\n",
    "from sklearn.metrics.pairwise import cosine_similarity\n",
    "\n",
    "tfidf_vectorizer = TfidfVectorizer(analyzer='word', lowercase=False, stop_words='english',\n",
    "                                   use_idf=True, smooth_idf=True, max_df=0.95, min_df=2)\n",
    "\n",
    "tf_idf = tfidf_vectorizer.fit_transform(data) # train the model and apply it, it's equivalent to fit() followed by transform()\n",
    "cosine_similarity(tf_idf[0], tf_idf[1])"
   ]
  },
  {
   "cell_type": "markdown",
   "metadata": {
    "id": "sRE5eYoNeT2L"
   },
   "source": [
    "The similarity of the first two documents should be similar to the one computed with your implementation"
   ]
  },
  {
   "cell_type": "markdown",
   "metadata": {
    "id": "XQvnC_2NeT2L"
   },
   "source": [
    "But now let's move to the entire dataset to build something more useful and interesting"
   ]
  },
  {
   "cell_type": "code",
   "execution_count": 27,
   "metadata": {
    "id": "VzRPeKt0eT2L"
   },
   "outputs": [
    {
     "name": "stderr",
     "output_type": "stream",
     "text": [
      "100%|██████████| 607282/607282 [01:15<00:00, 8025.15it/s]\n"
     ]
    }
   ],
   "source": [
    "from tqdm import tqdm\n",
    "\n",
    "data = []\n",
    "# Your code here\n",
    "\n",
    "# apply your preprocess() function to the original dataset (df_questions) and override 'data'\n",
    "# it could take a while to run\n",
    "for title, body in tqdm(zip(df_questions['Title'], df_questions['Body']), total=len(df_questions)):\n",
    "    data.append(preprocess(title, body))        \n",
    "\n",
    "def idf(df_count):\n",
    "    df_idf = {}  # dictionary {word: score}\n",
    "    N = df_count.shape[1]  # number of documents    \n",
    "\n",
    "    for word in df_count.index:\n",
    "        df = (df_count.loc[word] > 0).sum()\n",
    "        if df > 0:\n",
    "            idf_score = np.log(N / df)\n",
    "        else:\n",
    "            idf_score = 0\n",
    "        df_idf[word] = idf_score\n",
    "    df_idf = pd.DataFrame.from_dict(df_idf, orient='index', columns=['idf'])\n",
    "    return df_idf\n"
   ]
  },
  {
   "cell_type": "markdown",
   "metadata": {
    "id": "yTr5j_QFeT2L"
   },
   "source": [
    "And train the model"
   ]
  },
  {
   "cell_type": "code",
   "execution_count": 28,
   "metadata": {
    "id": "pFJrvFfoeT2L"
   },
   "outputs": [
    {
     "data": {
      "text/plain": [
       "(607282, 1000)"
      ]
     },
     "execution_count": 28,
     "metadata": {},
     "output_type": "execute_result"
    }
   ],
   "source": [
    "tfidf_vectorizer = TfidfVectorizer(decode_error='replace', strip_accents='unicode', analyzer='word',\n",
    "                       stop_words='english', norm='l2', use_idf=True, smooth_idf=True, sublinear_tf=True,\n",
    "                       max_df=0.95, min_df=2, max_features=1000)\n",
    "\n",
    "tf_idf = tfidf_vectorizer.fit_transform(data)\n",
    "tf_idf.shape"
   ]
  },
  {
   "cell_type": "markdown",
   "metadata": {
    "id": "E3N7OAIReT2L"
   },
   "source": [
    "We limited the vocabulary to 1000 features (i.e., top 1000 most frequent words), that's why the shape of the term-document matrix is (607282, 1000)\n",
    "\n",
    "Please notice that we have asked to perform a L2 normalization this time and keep in mind that the cosine similarity between two normalized vectors is simply their dot product; therefore with this new normalized matrix it is sufficient to compute the dot product to get the cosine similarity. Don't forget this detail!"
   ]
  },
  {
   "cell_type": "markdown",
   "metadata": {
    "id": "A5tgrehieT2L"
   },
   "source": [
    "Finally, to better deal with a large amount of data and compute similarity more efficiently, we will rely on the faiss library.\n",
    "\n",
    "Developed by Meta, it applies approximation techniques and GPU acceleration. If you want to learn more you can check the official documentation at [https://faiss.ai](https://faiss.ai/) or this guide [(https://www.pinecone.io/learn/series/faiss)](https://www.pinecone.io/learn/series/faiss/)"
   ]
  },
  {
   "cell_type": "code",
   "execution_count": 30,
   "metadata": {
    "id": "a7I9Gt6ceT2L"
   },
   "outputs": [],
   "source": [
    "# Install faiss-cpu or faiss-gpu depending on GPU availability of your machine:\n",
    "#!pip install faiss-cpu\n",
    "# or\n",
    "#!pip install faiss-gpu-cu12\n",
    "\n",
    "import faiss\n",
    "\n",
    "matrix = tf_idf.toarray()\n",
    "index = faiss.IndexFlatIP(matrix.shape[1])\n",
    "index.add(matrix)"
   ]
  },
  {
   "cell_type": "markdown",
   "metadata": {
    "id": "JaeMvV6zeT2L"
   },
   "source": [
    "Now let's try to perform a search using this query: `how to loop over files in a directory`"
   ]
  },
  {
   "cell_type": "code",
   "execution_count": null,
   "metadata": {
    "id": "ie_q9w6WeT2L"
   },
   "outputs": [
    {
     "name": "stdout",
     "output_type": "stream",
     "text": [
      "Index 190678\tSimilarity 0.8824827671051025\n",
      "Index 84519\tSimilarity 0.6795281171798706\n",
      "Index 445\tSimilarity 0.6540688872337341\n",
      "Index 177212\tSimilarity 0.6490331292152405\n",
      "Index 26598\tSimilarity 0.6436681747436523\n"
     ]
    }
   ],
   "source": [
    "query = 'How to loop over files in a directory?'\n",
    "\n",
    "# Your code here\n",
    "# 1. preprocess the textual query (as done for the dataset)\n",
    "# 2. compute the tf-idf representation of it (the 'tfidf_vectorizer' object is already trained, you just need to trasform the data, don't train it again!)\n",
    "# put your result in a variable named 'query_encoded'\n",
    "query_processed = preprocess(query)\n",
    "query_encoded = tfidf_vectorizer.transform([query_processed])   \n",
    "\n",
    "similarities, indeces = index.search(query_encoded.toarray(), 5) # retrieve the top-5 nearest neighbors\n",
    "for idx, sim in zip(indeces[0], similarities[0]):\n",
    "    print('Index {}\\tSimilarity {}'.format(idx, sim))"
   ]
  },
  {
   "cell_type": "markdown",
   "metadata": {
    "id": "aooIoCRfeT2M"
   },
   "source": [
    "In `indeces` we have the corresponding indeces on the matrix we trained faiss on, while in similarities we have the corresponding cosine similarities\n",
    "\n",
    "To better interpret the results we should convert the indeces to the corresponding texts"
   ]
  },
  {
   "cell_type": "code",
   "execution_count": 32,
   "metadata": {
    "id": "IJnEMWi8eT2M"
   },
   "outputs": [
    {
     "name": "stdout",
     "output_type": "stream",
     "text": [
      "Index 26599\n",
      "Similarity 0.6436681747436523\n",
      "Text <p>How can I list all files of a directory in python and add them to a list?</p>\n",
      "\n"
     ]
    }
   ],
   "source": [
    "# Your code here\n",
    "# print your results with the following information:\n",
    "# 1. rank order (starting from 1 not 0)\n",
    "# 2. similarity\n",
    "# 3. corresponding text\n",
    "print('Index {}\\nSimilarity {}\\nText {}'.format(idx + 1 , sim, df_questions['Body'].iloc[idx]))\n"
   ]
  },
  {
   "cell_type": "markdown",
   "metadata": {
    "id": "VUZFqbR5eT2M"
   },
   "source": [
    "The top-1 retrieved result for the query `How to loop over files in a directory?` should be:\n",
    "\n",
    "`\n",
    "loop through fixed number of files within a directory how can i loop through a fixed number of files within a directory with glob glob if there s more than x files within that directory i only want to loop through x and then exit the loop how do i do this\n",
    "`"
   ]
  },
  {
   "cell_type": "markdown",
   "metadata": {
    "id": "I4s9CwHreT2M"
   },
   "source": [
    "Keep in mind that we are only dealing with Stackoverflow questions, not answers. Therefore in this exercise we have computed the most similar questions given another one"
   ]
  },
  {
   "cell_type": "markdown",
   "metadata": {
    "id": "lxptJLfAeT2M"
   },
   "source": [
    "## Word Embeddings"
   ]
  },
  {
   "cell_type": "markdown",
   "metadata": {
    "id": "mdrhgAwreT2M"
   },
   "source": [
    "A word embedding is a learned representation for text where words that have the same meaning have a similar representation. Word embedding in NLP is an important term that is used for representing words for text analysis in the form of real-valued vectors. It is an advancement in NLP that has improved the ability of computers to understand text-based content in a better way.\n",
    "\n",
    "In 2013, Tomas Mikolov et al. developed an algorithm for learning word embeddings called **Word2vec** [[paper](https://arxiv.org/abs/1301.3781)]. This algorithm uses a shallow neural network to learn word vectors so that each word of a given corpus is good at predicting its own contexts (Skip-Gram) or vice versa (CBOW).\n",
    "\n",
    "One year after the publication of Word2vec, Pennington et al. developed a new algorithm for learning word embeddings called **GloVe** [[paper](https://nlp.stanford.edu/pubs/glove.pdf)]. This algorithm is based on the observation that word relationships can be recovered from the co-occurrence statistics of any (large enough) corpus."
   ]
  },
  {
   "cell_type": "markdown",
   "metadata": {
    "id": "ElYMfEH1eT2M"
   },
   "source": [
    "For our exercise we will use a pre-trained GloVe model and the Gensim library\n",
    "\n",
    "GloVe is a word embeddings model that have been pre-trained on 2B tweets, 27B tokens, 1.2M vocab, uncased. The model variant that we will use contains 100-dimensional vectors."
   ]
  },
  {
   "cell_type": "code",
   "execution_count": 33,
   "metadata": {},
   "outputs": [
    {
     "name": "stdout",
     "output_type": "stream",
     "text": [
      "['fasttext-wiki-news-subwords-300', 'conceptnet-numberbatch-17-06-300', 'word2vec-ruscorpora-300', 'word2vec-google-news-300', 'glove-wiki-gigaword-50', 'glove-wiki-gigaword-100', 'glove-wiki-gigaword-200', 'glove-wiki-gigaword-300', 'glove-twitter-25', 'glove-twitter-50', 'glove-twitter-100', 'glove-twitter-200', '__testing_word2vec-matrix-synopsis']\n"
     ]
    }
   ],
   "source": [
    "# Install gensim if it is not previously installed:\n",
    "#!pip install gensim\n",
    "\n",
    "import gensim.downloader\n",
    "\n",
    "# Show all available models in gensim-data\n",
    "print(list(gensim.downloader.info()['models'].keys()))"
   ]
  },
  {
   "cell_type": "markdown",
   "metadata": {
    "id": "m4IfNCSOeT2M"
   },
   "source": [
    "Download the \"glove-wiki-gigaword-100\" embeddings"
   ]
  },
  {
   "cell_type": "code",
   "execution_count": 34,
   "metadata": {
    "id": "m5I7tj3seT2M"
   },
   "outputs": [
    {
     "name": "stdout",
     "output_type": "stream",
     "text": [
      "[==================================================] 100.0% 128.1/128.1MB downloaded\n"
     ]
    }
   ],
   "source": [
    "glove_vectors = gensim.downloader.load('glove-wiki-gigaword-100')"
   ]
  },
  {
   "cell_type": "markdown",
   "metadata": {
    "id": "CpCo-89WeT2Y"
   },
   "source": [
    "Let's see how this (static) embeddings look like"
   ]
  },
  {
   "cell_type": "code",
   "execution_count": 35,
   "metadata": {
    "id": "6NwVkaSeeT2Z"
   },
   "outputs": [
    {
     "name": "stdout",
     "output_type": "stream",
     "text": [
      "[-0.038194 -0.24487   0.72812  -0.39961   0.083172  0.043953 -0.39141\n",
      "  0.3344   -0.57545   0.087459  0.28787  -0.06731   0.30906  -0.26384\n",
      " -0.13231  -0.20757   0.33395  -0.33848  -0.31743  -0.48336   0.1464\n",
      " -0.37304   0.34577   0.052041  0.44946  -0.46971   0.02628  -0.54155\n",
      " -0.15518  -0.14107  -0.039722  0.28277   0.14393   0.23464  -0.31021\n",
      "  0.086173  0.20397   0.52624   0.17164  -0.082378 -0.71787  -0.41531\n",
      "  0.20335  -0.12763   0.41367   0.55187   0.57908  -0.33477  -0.36559\n",
      " -0.54857  -0.062892  0.26584   0.30205   0.99775  -0.80481  -3.0243\n",
      "  0.01254  -0.36942   2.2167    0.72201  -0.24978   0.92136   0.034514\n",
      "  0.46745   1.1079   -0.19358  -0.074575  0.23353  -0.052062 -0.22044\n",
      "  0.057162 -0.15806  -0.30798  -0.41625   0.37972   0.15006  -0.53212\n",
      " -0.2055   -1.2526    0.071624  0.70565   0.49744  -0.42063   0.26148\n",
      " -1.538    -0.30223  -0.073438 -0.28312   0.37104  -0.25217   0.016215\n",
      " -0.017099 -0.38984   0.87424  -0.72569  -0.51058  -0.52028  -0.1459\n",
      "  0.8278    0.27062 ]\n",
      "[-0.10767    0.11053    0.59812   -0.54361    0.67396    0.10663\n",
      "  0.038867   0.35481    0.06351   -0.094189   0.15786   -0.81665\n",
      "  0.14172    0.21939    0.58505   -0.52158    0.22783   -0.16642\n",
      " -0.68228    0.3587     0.42568    0.19021    0.91963    0.57555\n",
      "  0.46185    0.42363   -0.095399  -0.42749   -0.16567   -0.056842\n",
      " -0.29595    0.26037   -0.26606   -0.070404  -0.27662    0.15821\n",
      "  0.69825    0.43081    0.27952   -0.45437   -0.33801   -0.58184\n",
      "  0.22364   -0.5778    -0.26862   -0.20425    0.56394   -0.58524\n",
      " -0.14365   -0.64218    0.0054697 -0.35248    0.16162    1.1796\n",
      " -0.47674   -2.7553    -0.1321    -0.047729   1.0655     1.1034\n",
      " -0.2208     0.18669    0.13177    0.15117    0.7131    -0.35215\n",
      "  0.91348    0.61783    0.70992    0.23955   -0.14571   -0.37859\n",
      " -0.045959  -0.47368    0.2385     0.20536   -0.18996    0.32507\n",
      " -1.1112    -0.36341    0.98679   -0.084776  -0.54008    0.11726\n",
      " -1.0194    -0.24424    0.12771    0.013884   0.080374  -0.35414\n",
      "  0.34951   -0.7226     0.37549    0.4441    -0.99059    0.61214\n",
      " -0.35111   -0.83155    0.45293    0.082577 ]\n",
      "[-0.33979    0.20941    0.46348   -0.64792   -0.38377    0.038034\n",
      "  0.17127    0.15978    0.46619   -0.019169   0.41479   -0.34349\n",
      "  0.26872    0.04464    0.42131   -0.41032    0.15459    0.022239\n",
      " -0.64653    0.25256    0.043136  -0.19445    0.46516    0.45651\n",
      "  0.68588    0.091295   0.21875   -0.70351    0.16785   -0.35079\n",
      " -0.12634    0.66384   -0.2582     0.036542  -0.13605    0.40253\n",
      "  0.14289    0.38132   -0.12283   -0.45886   -0.25282   -0.30432\n",
      " -0.11215   -0.26182   -0.22482   -0.44554    0.2991    -0.85612\n",
      " -0.14503   -0.49086    0.0082973 -0.17491    0.27524    1.4401\n",
      " -0.21239   -2.8435    -0.27958   -0.45722    1.6386     0.78808\n",
      " -0.55262    0.65       0.086426   0.39012    1.0632    -0.35379\n",
      "  0.48328    0.346      0.84174    0.098707  -0.24213   -0.27053\n",
      "  0.045287  -0.40147    0.11395    0.0062226  0.036673   0.018518\n",
      " -1.0213    -0.20806    0.64072   -0.068763  -0.58635    0.33476\n",
      " -1.1432    -0.1148    -0.25091   -0.45907   -0.096819  -0.17946\n",
      " -0.063351  -0.67412   -0.068895   0.53604   -0.87773    0.31802\n",
      " -0.39242   -0.23394    0.47298   -0.028803 ]\n"
     ]
    }
   ],
   "source": [
    "for i in range(3):\n",
    "    print(glove_vectors[i])"
   ]
  },
  {
   "cell_type": "markdown",
   "metadata": {
    "id": "PYNZN65JeT2Z"
   },
   "source": [
    "Differently from previous representations, word embeddings are a dense representation of words in a lower dimensional space (100 dimensions in this case)\n",
    "\n",
    "Let's print for example the embedding for the word 'computer'"
   ]
  },
  {
   "cell_type": "code",
   "execution_count": 36,
   "metadata": {
    "id": "CsU2JKapeT2a"
   },
   "outputs": [
    {
     "name": "stdout",
     "output_type": "stream",
     "text": [
      "[-1.6298e-01  3.0141e-01  5.7978e-01  6.6548e-02  4.5835e-01 -1.5329e-01\n",
      "  4.3258e-01 -8.9215e-01  5.7747e-01  3.6375e-01  5.6524e-01 -5.6281e-01\n",
      "  3.5659e-01 -3.6096e-01 -9.9662e-02  5.2753e-01  3.8839e-01  9.6185e-01\n",
      "  1.8841e-01  3.0741e-01 -8.7842e-01 -3.2442e-01  1.1202e+00  7.5126e-02\n",
      "  4.2661e-01 -6.0651e-01 -1.3893e-01  4.7862e-02 -4.5158e-01  9.3723e-02\n",
      "  1.7463e-01  1.0962e+00 -1.0044e+00  6.3889e-02  3.8002e-01  2.1109e-01\n",
      " -6.6247e-01 -4.0736e-01  8.9442e-01 -6.0974e-01 -1.8577e-01 -1.9913e-01\n",
      " -6.9226e-01 -3.1806e-01 -7.8565e-01  2.3831e-01  1.2992e-01  8.7721e-02\n",
      "  4.3205e-01 -2.2662e-01  3.1549e-01 -3.1748e-01 -2.4632e-03  1.6615e-01\n",
      "  4.2358e-01 -1.8087e+00 -3.6699e-01  2.3949e-01  2.5458e+00  3.6111e-01\n",
      "  3.9486e-02  4.8607e-01 -3.6974e-01  5.7282e-02 -4.9317e-01  2.2765e-01\n",
      "  7.9966e-01  2.1428e-01  6.9811e-01  1.1262e+00 -1.3526e-01  7.1972e-01\n",
      " -9.9605e-04 -2.6842e-01 -8.3038e-01  2.1780e-01  3.4355e-01  3.7731e-01\n",
      " -4.0251e-01  3.3124e-01  1.2576e+00 -2.7196e-01 -8.6093e-01  9.0053e-02\n",
      " -2.4876e+00  4.5200e-01  6.6945e-01 -5.4648e-01 -1.0324e-01 -1.6979e-01\n",
      "  5.9437e-01  1.1280e+00  7.5755e-01 -5.9160e-02  1.5152e-01 -2.8388e-01\n",
      "  4.9452e-01 -9.1703e-01  9.1289e-01 -3.0927e-01]\n",
      "(100,)\n"
     ]
    }
   ],
   "source": [
    "emb = glove_vectors['computer']\n",
    "print(emb)\n",
    "print(emb.shape)"
   ]
  },
  {
   "cell_type": "markdown",
   "metadata": {
    "id": "JiKvd4l1eT2a"
   },
   "source": [
    "And compute the similarity between words"
   ]
  },
  {
   "cell_type": "code",
   "execution_count": null,
   "metadata": {
    "id": "LRobHsDVeT2a"
   },
   "outputs": [
    {
     "name": "stdout",
     "output_type": "stream",
     "text": [
      "Cosine similarity between computer and laptop: 0.7024158239364624\n",
      "Cosine similarity between computer and monitor: 0.5119221806526184\n",
      "Cosine similarity between computer and internet: 0.72867751121521\n",
      "Cosine similarity between computer and sea: 0.1919664442539215\n",
      "Cosine similarity between computer and giraffe: -0.10587698966264725\n"
     ]
    }
   ],
   "source": [
    "query = 'computer'\n",
    "words = ['laptop','monitor','internet','sea','giraffe']\n",
    "\n",
    "for word in words:\n",
    "    # Your code here\n",
    "    # compute and print the cosine similarity between 'query' and 'word' with the scikit-learn library\n",
    "    sim = cosine_similarity([glove_vectors[query]], [glove_vectors[word]])[0][0]\n",
    "    print('Cosine similarity between {} and {}: {}'.format(query, word, sim))   \n",
    "\n",
    "\n"
   ]
  },
  {
   "cell_type": "markdown",
   "metadata": {
    "id": "o70GGi45eT2a"
   },
   "source": [
    "The similarity between 'computer' and 'laptop' should be the highest, around 0.70, while between 'computer' and 'giraffe' is negative, around -0.10"
   ]
  },
  {
   "cell_type": "markdown",
   "metadata": {
    "id": "-XuqRCuGeT2b"
   },
   "source": [
    "With Gensim we can easily get the most similar words given a query, for example:"
   ]
  },
  {
   "cell_type": "code",
   "execution_count": 38,
   "metadata": {
    "id": "6YMZtVA2eT2b"
   },
   "outputs": [
    {
     "name": "stdout",
     "output_type": "stream",
     "text": [
      "[('computers', 0.8751984238624573), ('software', 0.8373122215270996), ('technology', 0.7642159461975098), ('pc', 0.7366448640823364), ('hardware', 0.7290390729904175)]\n"
     ]
    }
   ],
   "source": [
    "top_n =  glove_vectors.similar_by_word('computer', topn=5)\n",
    "print(top_n)"
   ]
  },
  {
   "cell_type": "markdown",
   "metadata": {
    "id": "Qu2KKDameT2b"
   },
   "source": [
    "The best way to understand the embeddings is by visualizing them. We will use t-SNE to reduce the data to 2 dimensions, so that we can plot it on our screens.\n",
    "t-SNE is a non-linear dimensionality reduction algorithm that attempts to represent high-dimensional data and the underlying relationships between vectors in a lower-dimensional space."
   ]
  },
  {
   "cell_type": "code",
   "execution_count": 42,
   "metadata": {
    "id": "AhZGf-aXeT2b"
   },
   "outputs": [
    {
     "data": {
      "image/png": "[encoded data removed]",
      "text/plain": [
       "<Figure size 1170x827 with 2 Axes>"
      ]
     },
     "metadata": {},
     "output_type": "display_data"
    }
   ],
   "source": [
    "from sklearn.manifold import TSNE\n",
    "import matplotlib.pyplot as plt\n",
    "import seaborn as sns\n",
    "\n",
    "sns.set(rc={'figure.figsize':(11.7,8.27)})\n",
    "\n",
    "def tsne_scatterplot(model, search_word, topn):\n",
    "    labels = [search_word]\n",
    "    tokens = [model[search_word]]\n",
    "    similar = [1]\n",
    "    close_words = model.similar_by_word(search_word, topn=topn)\n",
    "    for word in close_words:\n",
    "        tokens.append(model[word[0]])\n",
    "        labels.append(word[0])\n",
    "        similar.append(word[1])\n",
    "\n",
    "    tokens = np.array(tokens)\n",
    "\n",
    "    tsne_model = TSNE(n_components=2, init='pca', perplexity=5)\n",
    "    coordinates = tsne_model.fit_transform(tokens)\n",
    "\n",
    "    df = pd.DataFrame({'x': [x for x in coordinates[:, 0]],\n",
    "                       'y': [y for y in coordinates[:, 1]],\n",
    "                       'words': labels,\n",
    "                       'similarity': similar})\n",
    "\n",
    "    fig, ax = plt.subplots()\n",
    "    plot = ax.scatter(df.x, df.y, c=df.similarity, cmap='Reds')\n",
    "    for i in range(len(df)):\n",
    "        ax.annotate(\"  {} ({:.2f})\".format(df.words[i].title(),\n",
    "                                           df.similarity[i]),\n",
    "                    (df.x[i], df.y[i]))\n",
    "\n",
    "    plt.colorbar(mappable=plot, ax=ax)\n",
    "    plt.title('t-SNE visualization for {}'.format(search_word))\n",
    "    plt.show()\n",
    "\n",
    "tsne_scatterplot(glove_vectors, \"computer\", 20)"
   ]
  },
  {
   "cell_type": "markdown",
   "metadata": {
    "id": "LfHk5qhTeT2b"
   },
   "source": [
    "The main problem of static embeddings is that, as the name suggests, the word representation is static and won't change after the training. Let's see an example:"
   ]
  },
  {
   "cell_type": "code",
   "execution_count": 43,
   "metadata": {
    "id": "FZ4cNJ1YeT2b"
   },
   "outputs": [
    {
     "data": {
      "text/plain": [
       "True"
      ]
     },
     "execution_count": 43,
     "metadata": {},
     "output_type": "execute_result"
    }
   ],
   "source": [
    "sent1='the european central bank cuts rates to 3.5'\n",
    "sent2='the rive gauche is the southern bank of the seine'\n",
    "\n",
    "# Your code here\n",
    "# convert each sentence into a list of embeddings named 'embs1' and 'embs2' respectively\n",
    "embs1 = [glove_vectors[word] for word in sent1.split() if word in glove_vectors]    \n",
    "embs2 = [glove_vectors[word] for word in sent2.split() if word in glove_vectors]\n",
    "\n",
    "\n",
    "all(embs1[3] == embs2[6])"
   ]
  },
  {
   "cell_type": "markdown",
   "metadata": {
    "id": "NwD_AMTieT2b"
   },
   "source": [
    "Without other solutions (e.g. a RNN that uses the embeddings as input) if we rely on static word embeddings only, the meaning of polysemic words will be somewhere between the two senses, perhaps more unbalanced towards one sense."
   ]
  },
  {
   "cell_type": "code",
   "execution_count": 44,
   "metadata": {
    "id": "bdtEj4y0eT2b"
   },
   "outputs": [
    {
     "data": {
      "text/plain": [
       "False"
      ]
     },
     "execution_count": 44,
     "metadata": {},
     "output_type": "execute_result"
    }
   ],
   "source": [
    "# Your code here\n",
    "# Hint: try to compare it with 'treasury' and 'coast'\n",
    "all(embs1[3] == glove_vectors['treasury'])\n",
    "all(embs2[6] == glove_vectors['coast']) "
   ]
  },
  {
   "cell_type": "markdown",
   "metadata": {
    "id": "BQXgtp0keT2b"
   },
   "source": [
    "**In this case, is the embedding for 'bank' more biased toward the financial institution or ground bounding waters? Why it happens?**\n",
    "\n",
    "*The embedding of “bank” is biased toward the financial institution meaning. This is because static embeddings give one vector per word, and since “bank” appears much more often in financial contexts in the training corpus, the financial sense dominates its representation.*"
   ]
  },
  {
   "cell_type": "markdown",
   "metadata": {
    "id": "devs7_7reT2b"
   },
   "source": [
    "An interesting property of these models is that we can find analogies of the form “A is to B what C is to X” with basic arithmetic, for example `King`-`Man`+`Woman`~`Queen`.\n",
    "\n",
    "We can use the [most_similar()](https://tedboy.github.io/nlps/generated/generated/gensim.models.Word2Vec.most_similar.html) method to search for the top-n most similar words to a 'positive' list and at the same time dissimilar from 'negative'."
   ]
  },
  {
   "cell_type": "code",
   "execution_count": 45,
   "metadata": {
    "id": "Y9RQzk9BeT2b"
   },
   "outputs": [
    {
     "data": {
      "text/plain": [
       "[('queen', 0.7698540687561035),\n",
       " ('monarch', 0.6843381524085999),\n",
       " ('throne', 0.6755736470222473),\n",
       " ('daughter', 0.6594556570053101),\n",
       " ('princess', 0.6520534157752991),\n",
       " ('prince', 0.6517034769058228),\n",
       " ('elizabeth', 0.6464517712593079),\n",
       " ('mother', 0.631171703338623),\n",
       " ('emperor', 0.6106470823287964),\n",
       " ('wife', 0.6098655462265015)]"
      ]
     },
     "execution_count": 45,
     "metadata": {},
     "output_type": "execute_result"
    }
   ],
   "source": [
    "glove_vectors.most_similar(positive=['king', 'woman'], negative=['man'])"
   ]
  },
  {
   "cell_type": "code",
   "execution_count": null,
   "metadata": {
    "id": "9mbDH1t7eT2b"
   },
   "outputs": [
    {
     "name": "stdout",
     "output_type": "stream",
     "text": [
      "[('grandmother', 0.8358322978019714), ('granddaughter', 0.8109342455863953), ('mother', 0.7872799038887024), ('daughter', 0.7718198299407959), ('niece', 0.7682032585144043)]\n",
      "[('paris', 0.8848407864570618), ('prohertrib', 0.7012835144996643), ('french', 0.6878857016563416), ('brussels', 0.6756916642189026), ('london', 0.6615888476371765)]\n"
     ]
    }
   ],
   "source": [
    "# Your code here\n",
    "# try to write similar analogies for:\n",
    "# woman - man + grandfather\n",
    "# berlin - germany + france\n",
    "\n",
    "def analogy(a, b, c, model, topn=5):\n",
    "    \"\"\"\n",
    "    Solve analogy: a - b + c = ?\n",
    "    Example: king - man + woman = queen\n",
    "    \"\"\"\n",
    "    return model.most_similar(positive=[a, c], negative=[b], topn=topn)\n",
    "\n",
    "print( analogy('woman', 'man', 'grandfather', glove_vectors))\n",
    "print(analogy('berlin', 'germany', 'france', glove_vectors))\n",
    "\n"
   ]
  },
  {
   "cell_type": "markdown",
   "metadata": {
    "id": "uPxvc_3TeT2b"
   },
   "source": [
    "You should get `grandmother` and `paris` at the top places"
   ]
  },
  {
   "cell_type": "markdown",
   "metadata": {
    "id": "g4MBnsgFeT2c"
   },
   "source": [
    "This method could be usefull to explore biases in the model, hidden also in modern LLMs.\n",
    "\n",
    "For example:"
   ]
  },
  {
   "cell_type": "code",
   "execution_count": null,
   "metadata": {
    "id": "DSBQql9leT2c"
   },
   "outputs": [
    {
     "name": "stdout",
     "output_type": "stream",
     "text": [
      "('nurse', 0.7735227942466736)\n"
     ]
    }
   ],
   "source": [
    "\n",
    "print(glove_vectors.most_similar(positive=['woman', 'doctor'], negative=['man'])[0])"
   ]
  },
  {
   "cell_type": "markdown",
   "metadata": {
    "id": "DHNAr_xoeT2c"
   },
   "source": [
    "## +++ End of the mandatory section +++"
   ]
  },
  {
   "cell_type": "markdown",
   "metadata": {
    "id": "gufVO0X8eT2c"
   },
   "source": [
    "## **Advance only**\n",
    "\n",
    "In the first part of this notebook we trained our tf-idf model on questions only, but if you want to try to develop a more interesting ranking model you can complete the `ranking.py` script.\n",
    "\n",
    "In this case we aim to retrieve relevant answers given the Stackoverflow's questions. Having an Id for each record in the dataset, we can indeed check if the match between question and answer is correct.\n",
    "We measure the performance of the model with the Hits@k score, that is the number of correct matches in the top-k results. Analogously one can implement Precision@k and Recall@k, but is not required in this exercise.\n",
    "\n",
    "Complete the script and do some experiments if you want, report your results at the end"
   ]
  }
 ],
 "metadata": {
  "colab": {
   "provenance": []
  },
  "kernelspec": {
   "display_name": "Python 3",
   "language": "python",
   "name": "python3"
  },
  "language_info": {
   "codemirror_mode": {
    "name": "ipython",
    "version": 3
   },
   "file_extension": ".py",
   "mimetype": "text/x-python",
   "name": "python",
   "nbconvert_exporter": "python",
   "pygments_lexer": "ipython3",
   "version": "3.11.9"
  }
 },
 "nbformat": 4,
 "nbformat_minor": 0
}
