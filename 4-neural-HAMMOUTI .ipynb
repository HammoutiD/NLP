{
 "cells": [
  {
   "cell_type": "markdown",
   "metadata": {
    "id": "-qnBJ_yLrxu5"
   },
   "source": [
    "*HAMMOUTI Douae*"
   ]
  },
  {
   "cell_type": "markdown",
   "metadata": {
    "id": "1-o65QYYrxu7"
   },
   "source": [
    "For this notebook a GPU environment is recomended, you could use the Nvidia T4 GPU provided by the Google Colab free plan (but keep in mind terms of service and limitations).\n",
    "\n",
    "## Transformers\n",
    "\n",
    "In this exercise session, we will implement a small Transformer model, encoder-only, for a classification task. For pedagogical reasons we will implement the encoder almost from stratch, learning how the components are integrated together. Then, in the second part, we will move to the Huggingface library using pre-trained models and applying a more standard pipeline: take a model pre-trained on a large scale dataset and finetune it on a specific task, updating only a smaller part of model parameters."
   ]
  },
  {
   "cell_type": "code",
   "execution_count": 1,
   "metadata": {},
   "outputs": [
    {
     "name": "stdout",
     "output_type": "stream",
     "text": [
      "Requirement already satisfied: torch in c:\\users\\douae\\anaconda\\lib\\site-packages (2.8.0)\n",
      "Requirement already satisfied: filelock in c:\\users\\douae\\anaconda\\lib\\site-packages (from torch) (3.17.0)\n",
      "Requirement already satisfied: typing-extensions>=4.10.0 in c:\\users\\douae\\anaconda\\lib\\site-packages (from torch) (4.12.2)\n",
      "Requirement already satisfied: sympy>=1.13.3 in c:\\users\\douae\\anaconda\\lib\\site-packages (from torch) (1.13.3)\n",
      "Requirement already satisfied: networkx in c:\\users\\douae\\anaconda\\lib\\site-packages (from torch) (3.4.2)\n",
      "Requirement already satisfied: jinja2 in c:\\users\\douae\\anaconda\\lib\\site-packages (from torch) (3.1.6)\n",
      "Requirement already satisfied: fsspec in c:\\users\\douae\\anaconda\\lib\\site-packages (from torch) (2025.3.0)\n",
      "Requirement already satisfied: setuptools in c:\\users\\douae\\anaconda\\lib\\site-packages (from torch) (72.1.0)\n",
      "Requirement already satisfied: mpmath<1.4,>=1.1.0 in c:\\users\\douae\\anaconda\\lib\\site-packages (from sympy>=1.13.3->torch) (1.3.0)\n",
      "Requirement already satisfied: MarkupSafe>=2.0 in c:\\users\\douae\\anaconda\\lib\\site-packages (from jinja2->torch) (3.0.2)\n"
     ]
    }
   ],
   "source": [
    "!pip install torch "
   ]
  },
  {
   "cell_type": "code",
   "execution_count": 2,
   "metadata": {
    "id": "EbXFfUDtrxu7"
   },
   "outputs": [],
   "source": [
    "import torch\n",
    "import torch.nn as nn\n",
    "import torch.optim as optim\n",
    "import numpy as np\n",
    "import pandas as pd\n",
    "from tqdm import tqdm\n",
    "\n",
    "from torch import Tensor\n",
    "from torch.utils.data import Dataset, DataLoader\n",
    "from torch.utils.data import random_split\n",
    "\n",
    "seed = 42\n",
    "np.random.seed(seed)\n",
    "torch.manual_seed(seed)\n",
    "torch.cuda.manual_seed(seed)\n",
    "torch.backends.cudnn.deterministic = True\n",
    "torch.backends.cudnn.benchmark = True"
   ]
  },
  {
   "cell_type": "code",
   "execution_count": 3,
   "metadata": {
    "collapsed": true,
    "id": "cV87Vu28sYoD",
    "jupyter": {
     "outputs_hidden": true
    }
   },
   "outputs": [
    {
     "name": "stdout",
     "output_type": "stream",
     "text": [
      "Requirement already satisfied: datasets in c:\\users\\douae\\anaconda\\lib\\site-packages (3.6.0)\n",
      "Requirement already satisfied: filelock in c:\\users\\douae\\anaconda\\lib\\site-packages (from datasets) (3.17.0)\n",
      "Requirement already satisfied: numpy>=1.17 in c:\\users\\douae\\anaconda\\lib\\site-packages (from datasets) (2.1.3)\n",
      "Requirement already satisfied: pyarrow>=15.0.0 in c:\\users\\douae\\anaconda\\lib\\site-packages (from datasets) (19.0.0)\n",
      "Requirement already satisfied: dill<0.3.9,>=0.3.0 in c:\\users\\douae\\anaconda\\lib\\site-packages (from datasets) (0.3.8)\n",
      "Requirement already satisfied: pandas in c:\\users\\douae\\anaconda\\lib\\site-packages (from datasets) (2.2.3)\n",
      "Requirement already satisfied: requests>=2.32.2 in c:\\users\\douae\\anaconda\\lib\\site-packages (from datasets) (2.32.3)\n",
      "Requirement already satisfied: tqdm>=4.66.3 in c:\\users\\douae\\anaconda\\lib\\site-packages (from datasets) (4.67.1)\n",
      "Requirement already satisfied: xxhash in c:\\users\\douae\\anaconda\\lib\\site-packages (from datasets) (3.5.0)\n",
      "Requirement already satisfied: multiprocess<0.70.17 in c:\\users\\douae\\anaconda\\lib\\site-packages (from datasets) (0.70.16)\n",
      "Requirement already satisfied: fsspec<=2025.3.0,>=2023.1.0 in c:\\users\\douae\\anaconda\\lib\\site-packages (from fsspec[http]<=2025.3.0,>=2023.1.0->datasets) (2025.3.0)\n",
      "Requirement already satisfied: huggingface-hub>=0.24.0 in c:\\users\\douae\\anaconda\\lib\\site-packages (from datasets) (0.34.4)\n",
      "Requirement already satisfied: packaging in c:\\users\\douae\\anaconda\\lib\\site-packages (from datasets) (24.2)\n",
      "Requirement already satisfied: pyyaml>=5.1 in c:\\users\\douae\\anaconda\\lib\\site-packages (from datasets) (6.0.2)\n",
      "Requirement already satisfied: aiohttp!=4.0.0a0,!=4.0.0a1 in c:\\users\\douae\\anaconda\\lib\\site-packages (from fsspec[http]<=2025.3.0,>=2023.1.0->datasets) (3.11.10)\n",
      "Requirement already satisfied: aiohappyeyeballs>=2.3.0 in c:\\users\\douae\\anaconda\\lib\\site-packages (from aiohttp!=4.0.0a0,!=4.0.0a1->fsspec[http]<=2025.3.0,>=2023.1.0->datasets) (2.4.4)\n",
      "Requirement already satisfied: aiosignal>=1.1.2 in c:\\users\\douae\\anaconda\\lib\\site-packages (from aiohttp!=4.0.0a0,!=4.0.0a1->fsspec[http]<=2025.3.0,>=2023.1.0->datasets) (1.2.0)\n",
      "Requirement already satisfied: attrs>=17.3.0 in c:\\users\\douae\\anaconda\\lib\\site-packages (from aiohttp!=4.0.0a0,!=4.0.0a1->fsspec[http]<=2025.3.0,>=2023.1.0->datasets) (24.3.0)\n",
      "Requirement already satisfied: frozenlist>=1.1.1 in c:\\users\\douae\\anaconda\\lib\\site-packages (from aiohttp!=4.0.0a0,!=4.0.0a1->fsspec[http]<=2025.3.0,>=2023.1.0->datasets) (1.5.0)\n",
      "Requirement already satisfied: multidict<7.0,>=4.5 in c:\\users\\douae\\anaconda\\lib\\site-packages (from aiohttp!=4.0.0a0,!=4.0.0a1->fsspec[http]<=2025.3.0,>=2023.1.0->datasets) (6.1.0)\n",
      "Requirement already satisfied: propcache>=0.2.0 in c:\\users\\douae\\anaconda\\lib\\site-packages (from aiohttp!=4.0.0a0,!=4.0.0a1->fsspec[http]<=2025.3.0,>=2023.1.0->datasets) (0.3.1)\n",
      "Requirement already satisfied: yarl<2.0,>=1.17.0 in c:\\users\\douae\\anaconda\\lib\\site-packages (from aiohttp!=4.0.0a0,!=4.0.0a1->fsspec[http]<=2025.3.0,>=2023.1.0->datasets) (1.18.0)\n",
      "Requirement already satisfied: idna>=2.0 in c:\\users\\douae\\anaconda\\lib\\site-packages (from yarl<2.0,>=1.17.0->aiohttp!=4.0.0a0,!=4.0.0a1->fsspec[http]<=2025.3.0,>=2023.1.0->datasets) (3.7)\n",
      "Requirement already satisfied: typing-extensions>=3.7.4.3 in c:\\users\\douae\\anaconda\\lib\\site-packages (from huggingface-hub>=0.24.0->datasets) (4.12.2)\n",
      "Requirement already satisfied: charset-normalizer<4,>=2 in c:\\users\\douae\\anaconda\\lib\\site-packages (from requests>=2.32.2->datasets) (3.3.2)\n",
      "Requirement already satisfied: urllib3<3,>=1.21.1 in c:\\users\\douae\\anaconda\\lib\\site-packages (from requests>=2.32.2->datasets) (2.3.0)\n",
      "Requirement already satisfied: certifi>=2017.4.17 in c:\\users\\douae\\anaconda\\lib\\site-packages (from requests>=2.32.2->datasets) (2025.8.3)\n",
      "Requirement already satisfied: colorama in c:\\users\\douae\\anaconda\\lib\\site-packages (from tqdm>=4.66.3->datasets) (0.4.6)\n",
      "Requirement already satisfied: python-dateutil>=2.8.2 in c:\\users\\douae\\anaconda\\lib\\site-packages (from pandas->datasets) (2.9.0.post0)\n",
      "Requirement already satisfied: pytz>=2020.1 in c:\\users\\douae\\anaconda\\lib\\site-packages (from pandas->datasets) (2024.1)\n",
      "Requirement already satisfied: tzdata>=2022.7 in c:\\users\\douae\\anaconda\\lib\\site-packages (from pandas->datasets) (2025.2)\n",
      "Requirement already satisfied: six>=1.5 in c:\\users\\douae\\anaconda\\lib\\site-packages (from python-dateutil>=2.8.2->pandas->datasets) (1.17.0)\n"
     ]
    }
   ],
   "source": [
    "!pip install datasets"
   ]
  },
  {
   "cell_type": "markdown",
   "metadata": {
    "id": "UHm3Hj5Dbg0n"
   },
   "source": [
    "For this tutorial we will use the Large Movie Review Dataset for binary sentiment classification with 50k annotated movie reviews. The dataset, available on Huggingface Hub, is splitted in `train` (25k), `test` (25k) and additional unlabeled data as well (`unsupervised`)"
   ]
  },
  {
   "cell_type": "code",
   "execution_count": 4,
   "metadata": {
    "collapsed": true,
    "id": "5ZfwQZCssIkY",
    "jupyter": {
     "outputs_hidden": true
    }
   },
   "outputs": [
    {
     "name": "stdout",
     "output_type": "stream",
     "text": [
      "DatasetDict({\n",
      "    train: Dataset({\n",
      "        features: ['text', 'label'],\n",
      "        num_rows: 25000\n",
      "    })\n",
      "    test: Dataset({\n",
      "        features: ['text', 'label'],\n",
      "        num_rows: 25000\n",
      "    })\n",
      "    unsupervised: Dataset({\n",
      "        features: ['text', 'label'],\n",
      "        num_rows: 50000\n",
      "    })\n",
      "})\n"
     ]
    }
   ],
   "source": [
    "from datasets import load_dataset\n",
    "\n",
    "ds = load_dataset(\"stanfordnlp/imdb\")\n",
    "print(ds)"
   ]
  },
  {
   "cell_type": "markdown",
   "metadata": {
    "id": "oKdfcyQFbg0o"
   },
   "source": [
    "For our purposes this dataset is even too big, therefore we will use on a small sample with 5k reviews taken from the original training set\n",
    "\n",
    "For every entry in the dataset we have the raw text and the sentiment label (negative=0, positive=1)"
   ]
  },
  {
   "cell_type": "code",
   "execution_count": 5,
   "metadata": {
    "collapsed": true,
    "id": "HZXlWRM-su-A",
    "jupyter": {
     "outputs_hidden": true
    }
   },
   "outputs": [
    {
     "data": {
      "text/html": [
       "<div>\n",
       "<style scoped>\n",
       "    .dataframe tbody tr th:only-of-type {\n",
       "        vertical-align: middle;\n",
       "    }\n",
       "\n",
       "    .dataframe tbody tr th {\n",
       "        vertical-align: top;\n",
       "    }\n",
       "\n",
       "    .dataframe thead th {\n",
       "        text-align: right;\n",
       "    }\n",
       "</style>\n",
       "<table border=\"1\" class=\"dataframe\">\n",
       "  <thead>\n",
       "    <tr style=\"text-align: right;\">\n",
       "      <th></th>\n",
       "      <th>review</th>\n",
       "      <th>sentiment</th>\n",
       "    </tr>\n",
       "  </thead>\n",
       "  <tbody>\n",
       "    <tr>\n",
       "      <th>6868</th>\n",
       "      <td>Dumb is as dumb does, in this thoroughly unint...</td>\n",
       "      <td>0</td>\n",
       "    </tr>\n",
       "    <tr>\n",
       "      <th>24016</th>\n",
       "      <td>I dug out from my garage some old musicals and...</td>\n",
       "      <td>1</td>\n",
       "    </tr>\n",
       "    <tr>\n",
       "      <th>9668</th>\n",
       "      <td>After watching this movie I was honestly disap...</td>\n",
       "      <td>0</td>\n",
       "    </tr>\n",
       "    <tr>\n",
       "      <th>13640</th>\n",
       "      <td>This movie was nominated for best picture but ...</td>\n",
       "      <td>1</td>\n",
       "    </tr>\n",
       "    <tr>\n",
       "      <th>14018</th>\n",
       "      <td>Just like Al Gore shook us up with his painful...</td>\n",
       "      <td>1</td>\n",
       "    </tr>\n",
       "  </tbody>\n",
       "</table>\n",
       "</div>"
      ],
      "text/plain": [
       "                                                  review  sentiment\n",
       "6868   Dumb is as dumb does, in this thoroughly unint...          0\n",
       "24016  I dug out from my garage some old musicals and...          1\n",
       "9668   After watching this movie I was honestly disap...          0\n",
       "13640  This movie was nominated for best picture but ...          1\n",
       "14018  Just like Al Gore shook us up with his painful...          1"
      ]
     },
     "execution_count": 5,
     "metadata": {},
     "output_type": "execute_result"
    }
   ],
   "source": [
    "IMDB_DF = pd.DataFrame({'review':ds['train']['text'], 'sentiment':ds['train']['label']})\n",
    "IMDB_DF = IMDB_DF.sample(5000, random_state=42)\n",
    "IMDB_DF.head()"
   ]
  },
  {
   "cell_type": "markdown",
   "metadata": {
    "id": "eIyTeX98bg0p"
   },
   "source": [
    "Let's see an example where it is possible to appreciate the presence of html tags in the text"
   ]
  },
  {
   "cell_type": "code",
   "execution_count": 6,
   "metadata": {
    "id": "ms-bF3QZrxu9"
   },
   "outputs": [
    {
     "data": {
      "text/plain": [
       "'After watching this movie I was honestly disappointed - not because of the actors, story or directing - I was disappointed by this film advertisements.<br /><br />The trailers were suggesting that the battalion \"have chosen the third way out\" other than surrender or die (Polish infos were even misguiding that they had the choice between being killed by own artillery or German guns, they even translated the title wrong as \"misplaced battalion\"). This have tickled the right spot and I bought the movie.<br /><br />The disappointment started when I realized that the third way is to just sit down and count dead bodies followed by sitting down and counting dead bodies... Then I began to think \"hey, this story can\\'t be that simple... I bet this clever officer will find some cunning way to save what left of his troops\". Well, he didn\\'t, they were just sitting and waiting for something to happen. And so was I.<br /><br />The story was based on real events of World War I, so the writers couldn\\'t make much use of their imagination, but even thought I found this movie really unchallenging and even a little bit boring. And as I wrote in the first place - it isn\\'t fault of actors, writers or director - their marketing people have raised my expectations high above the level that this movie could cope with.'"
      ]
     },
     "execution_count": 6,
     "metadata": {},
     "output_type": "execute_result"
    }
   ],
   "source": [
    "IMDB_DF['review'].iloc[2]"
   ]
  },
  {
   "cell_type": "markdown",
   "metadata": {
    "id": "yEkW0Moubg0p"
   },
   "source": [
    "Before analysing the data therefore we need to perform some preprocessing, in particular lowercasing the text, HTML tags and URLs removal."
   ]
  },
  {
   "cell_type": "code",
   "execution_count": 7,
   "metadata": {
    "id": "eUiFjlJorxu9"
   },
   "outputs": [
    {
     "name": "stderr",
     "output_type": "stream",
     "text": [
      "[nltk_data] Downloading package punkt to\n",
      "[nltk_data]     C:\\Users\\douae\\AppData\\Roaming\\nltk_data...\n",
      "[nltk_data]   Package punkt is already up-to-date!\n",
      "[nltk_data] Downloading package punkt_tab to\n",
      "[nltk_data]     C:\\Users\\douae\\AppData\\Roaming\\nltk_data...\n",
      "[nltk_data]   Package punkt_tab is already up-to-date!\n"
     ]
    }
   ],
   "source": [
    "import re\n",
    "import string\n",
    "from nltk.tokenize import word_tokenize as tokenizer\n",
    "import nltk\n",
    "nltk.download('punkt')\n",
    "nltk.download('punkt_tab')\n",
    "\n",
    "def imdb_preprocess(review: str) -> str:\n",
    "    '''\n",
    "    args:\n",
    "        review: the string of text containing the movie review\n",
    "    output:\n",
    "        the preprocessed string of text\n",
    "    '''\n",
    "\n",
    "    # Your code here\n",
    "    # remove HTML tags and URLs\n",
    "    # lowercase\n",
    "    # put your results into a variable named 'lowercased'\n",
    "    review = re.sub(r'<.*?>', ' ', review)\n",
    "    review = re.sub(r'http\\S+|www\\S+|https\\S+', ' ', review, flags=re.MULTILINE)\n",
    "    lowercased = review.lower() \n",
    "    \n",
    "\n",
    "    # remove numbers and symbols\n",
    "    tokenized_words = tokenizer(lowercased)\n",
    "    words_alpha = [''.join(this_char for this_char in this_string if (this_char in string.ascii_lowercase)) for this_string in tokenized_words]\n",
    "    words_alpha = list(filter(None, words_alpha))\n",
    "    text = ' '.join(words_alpha)\n",
    "    return text"
   ]
  },
  {
   "cell_type": "code",
   "execution_count": 8,
   "metadata": {
    "id": "c7lrYN3zrxu9"
   },
   "outputs": [
    {
     "name": "stdout",
     "output_type": "stream",
     "text": [
      "After watching this movie I was honestly disappointed - not because of the actors, story or directing - I was disappointed by this film advertisements.<br /><br />The trailers were suggesting that the battalion \"have chosen the third way out\" other than surrender or die (Polish infos were even misguiding that they had the choice between being killed by own artillery or German guns, they even translated the title wrong as \"misplaced battalion\"). This have tickled the right spot and I bought the movie.<br /><br />The disappointment started when I realized that the third way is to just sit down and count dead bodies followed by sitting down and counting dead bodies... Then I began to think \"hey, this story can't be that simple... I bet this clever officer will find some cunning way to save what left of his troops\". Well, he didn't, they were just sitting and waiting for something to happen. And so was I.<br /><br />The story was based on real events of World War I, so the writers couldn't make much use of their imagination, but even thought I found this movie really unchallenging and even a little bit boring. And as I wrote in the first place - it isn't fault of actors, writers or director - their marketing people have raised my expectations high above the level that this movie could cope with.\n",
      "\n",
      "after watching this movie i was honestly disappointed not because of the actors story or directing i was disappointed by this film advertisements the trailers were suggesting that the battalion have chosen the third way out other than surrender or die polish infos were even misguiding that they had the choice between being killed by own artillery or german guns they even translated the title wrong as misplaced battalion this have tickled the right spot and i bought the movie the disappointment started when i realized that the third way is to just sit down and count dead bodies followed by sitting down and counting dead bodies then i began to think hey this story ca nt be that simple i bet this clever officer will find some cunning way to save what left of his troops well he did nt they were just sitting and waiting for something to happen and so was i the story was based on real events of world war i so the writers could nt make much use of their imagination but even thought i found this movie really unchallenging and even a little bit boring and as i wrote in the first place it is nt fault of actors writers or director their marketing people have raised my expectations high above the level that this movie could cope with\n"
     ]
    }
   ],
   "source": [
    "# Your code here\n",
    "# apply the imdb_preprocess function to the dataframe creating a new column named 'text'\n",
    "IMDB_DF['text'] = IMDB_DF['review'].apply(imdb_preprocess)\n",
    "\n",
    "# print the 3rd review and its corresponding preprocessed text  \n",
    "\n",
    "\n",
    "print(IMDB_DF.iloc[2]['review']+'\\n\\n'+IMDB_DF.iloc[2]['text'])"
   ]
  },
  {
   "cell_type": "markdown",
   "metadata": {
    "id": "cOEjKeaayV2D"
   },
   "source": [
    "Now, since we are training everything from scratch with a custom design, we need to implement the tokenizer too, and before that define the vocabulary.\n",
    "\n",
    "The vocabulary is composed by the words we met during the training with additional \"special tokens\", in particular \\<cls\\> (Classify Token),  \\<eos\\> (End Of Sentence) and  \\<pad\\> (Padding).\n",
    "\n",
    "The CLS will define the beginning of the sequence and could be used for classification tasks, being it a representation of the entire sequence. The EOS tag instead will delimit the end of a sentence. PAD represents the padded tokens needed to stack multiple tensors in the batch.\n",
    "\n",
    "With the `token2index`and `index2token`dictionaries we can perform the convertion between term and vocabulary index and vice versa."
   ]
  },
  {
   "cell_type": "code",
   "execution_count": 9,
   "metadata": {
    "id": "vHEI-89Crxu-"
   },
   "outputs": [
    {
     "name": "stderr",
     "output_type": "stream",
     "text": [
      "100%|██████████| 5000/5000 [00:05<00:00, 919.88it/s]"
     ]
    },
    {
     "name": "stdout",
     "output_type": "stream",
     "text": [
      "Vocabulary length: 43077\n"
     ]
    },
    {
     "name": "stderr",
     "output_type": "stream",
     "text": [
      "\n"
     ]
    }
   ],
   "source": [
    "CLS_token = '<cls>'\n",
    "EOS_token = '<eos>'\n",
    "PAD_token = '<pad>'\n",
    "CLS_index = 1\n",
    "EOS_index = 2\n",
    "PAD_index = 0\n",
    "\n",
    "class Vocab:\n",
    "    def __init__(self):\n",
    "        self.token2index = {'<pad>':0, '<cls>':1, '<eos>':2}\n",
    "        self.token2count = {}\n",
    "        self.index2token = {0: '<pad>', 1: '<cls>', 2: '<eos>'}\n",
    "        self.vocab_size = 3  # PAD, CLS and EOS\n",
    "\n",
    "    def __len__(self):\n",
    "        return self.vocab_size\n",
    "\n",
    "    def add_sentence(self, sentence, tokenizer):\n",
    "      for token in tokenizer(sentence):\n",
    "          self.add_word(token)\n",
    "\n",
    "    def add_word(self, token):\n",
    "      if token not in self.token2index:\n",
    "          self.token2index[token] = self.vocab_size\n",
    "          self.token2count[token] = 1\n",
    "          self.index2token[self.vocab_size] = token\n",
    "          self.vocab_size += 1\n",
    "      else:\n",
    "          self.token2count[token] += 1\n",
    "\n",
    "vocab = Vocab()\n",
    "\n",
    "for i, tab in tqdm(IMDB_DF.iterrows(), total=len(IMDB_DF)):\n",
    "  vocab.add_sentence(tab['text'], tokenizer)\n",
    "\n",
    "print('Vocabulary length: ' + str(len(vocab)))"
   ]
  },
  {
   "cell_type": "markdown",
   "metadata": {
    "id": "7kGqH-3SyV2D"
   },
   "source": [
    "We should have 48959 words in our vocabulary.\n",
    "\n",
    "Let's see a small example, converting 'hello' to an index and the way back"
   ]
  },
  {
   "cell_type": "code",
   "execution_count": 10,
   "metadata": {
    "id": "04ZQPvr9bg0q"
   },
   "outputs": [
    {
     "name": "stdout",
     "output_type": "stream",
     "text": [
      "4227\n",
      "region\n"
     ]
    }
   ],
   "source": [
    "print(vocab.token2index['hello'])\n",
    "print(vocab.index2token[4295])"
   ]
  },
  {
   "cell_type": "markdown",
   "metadata": {
    "id": "gcf07jJ4yV2E"
   },
   "source": [
    "Because of the positional embedding in the Transformer architecture, the model can only accept in input a sequence limited in length. During the tokenization process we must keep this in mind, truncating the sentence if needed."
   ]
  },
  {
   "cell_type": "code",
   "execution_count": null,
   "metadata": {
    "collapsed": true,
    "id": "io28rn9Arxu-",
    "jupyter": {
     "outputs_hidden": true
    }
   },
   "outputs": [],
   "source": [
    "MAX_LEN = 256\n",
    "\n",
    "def tokenize(text, tokenizer, vocab) -> list[int]:\n",
    "    # Tokenize the text\n",
    "    tokens = tokenizer(text)\n",
    "\n",
    "    token_ids = [\n",
    "        vocab.token2index[token] if token in vocab.token2index else vocab.token2index['<pad>']\n",
    "        for token in tokens\n",
    "    ]\n",
    "    token_ids = token_ids[:MAX_LEN - 2]\n",
    "    token_ids = [vocab.token2index['<cls>']] + token_ids + [vocab.token2index['<eos>']]\n",
    "    token_ids = token_ids[:MAX_LEN - 2]\n",
    "\n",
    "    return token_ids\n",
    "\n",
    "\n",
    "# ✅ Tests\n",
    "assert(\n",
    "    tokenize(imdb_preprocess(IMDB_DF.iloc[0]['text']), tokenizer, vocab)[1:11]\n",
    "    == [3, 4, 5, 3, 6, 7, 8, 9, 10, 11]\n",
    ")\n",
    "assert(len(tokenize(imdb_preprocess('hello ' * 300), tokenizer, vocab)) == 254)\n"
   ]
  },
  {
   "cell_type": "markdown",
   "metadata": {
    "id": "7JLfQ8qqyV2E"
   },
   "source": [
    "And now we create a custom Pytorch Dataset returning a tuple composed by the input sequence and the label"
   ]
  },
  {
   "cell_type": "code",
   "execution_count": 18,
   "metadata": {
    "id": "lZxeC8vwrxu-"
   },
   "outputs": [],
   "source": [
    "class IMDBReviewDataset(Dataset):\n",
    "    def __init__(self, dataframe, tokenizer, vocab):\n",
    "        self.data = dataframe['text']\n",
    "        self.labels = dataframe['sentiment']\n",
    "        self.tokenizer = tokenizer\n",
    "        self.vocab = vocab\n",
    "\n",
    "    def __len__(self):\n",
    "        return len(self.data)\n",
    "\n",
    "    def __getitem__(self, idx):\n",
    "        x = tokenize(self.data.iloc[idx], tokenizer, vocab)\n",
    "        y = self.labels.iloc[idx]\n",
    "        return x, y"
   ]
  },
  {
   "cell_type": "markdown",
   "metadata": {
    "id": "x9Dpxue3bg0q"
   },
   "source": [
    "now we instantiate a new IMDBReviewDataset object and split the dataset into 'train_dataset', 'val_dataset' and 'test_dataset' with 80% - 10% - 10% ratios.\n"
   ]
  },
  {
   "cell_type": "code",
   "execution_count": 19,
   "metadata": {
    "id": "aZl4Nf7Hbg0q"
   },
   "outputs": [
    {
     "name": "stdout",
     "output_type": "stream",
     "text": [
      "Size of train_dataset:  4000\n",
      "Size of val_dataset:  500\n",
      "Size of test_dataset:  500\n",
      "\n",
      "[1, 7139, 21, 23, 1924, 41791, 105, 92, 481, 482, 86, 1619, 489, 71, 613, 5680, 921, 100, 1526, 23, 16536, 4588, 41, 32639, 1651, 110, 4737, 949, 197, 32, 5912, 166, 2417, 41, 921, 100, 1478, 33, 1189, 1178, 667, 193, 126, 2337, 7, 41792, 18812, 33, 3089, 952, 3828, 2135, 86, 36, 226, 79, 535, 36, 8, 353, 126, 6, 241, 195, 23, 1968, 21, 1896, 369, 921, 100, 4, 33, 197, 86, 673, 694, 188, 41, 5680, 498, 2217, 96, 481, 482, 69, 33, 746, 1140, 86, 1149, 92, 1369, 27751, 4, 7821, 33, 793, 143, 41793, 33, 2442, 4, 6833, 41794, 86, 323, 69, 7063, 716, 6069, 7432, 33, 273, 2531, 4, 23, 41795, 794, 510, 34762, 4402, 209, 23, 41796, 27751, 86, 23, 41797, 1651, 86, 33, 22976, 2074, 2531, 753, 158, 380, 41, 33, 273, 2531, 33, 15526, 3316, 5, 77, 5, 4529, 41798, 86, 23, 339, 4801, 12543, 14516, 143, 13091, 123, 444, 1053, 142, 3387, 83, 2961, 6159, 86, 673, 86, 1053, 323, 69, 29, 692, 2136, 1208, 1434, 33, 5234, 2]\n",
      "0\n"
     ]
    }
   ],
   "source": [
    "imdb_dataset = IMDBReviewDataset(IMDB_DF, tokenizer, vocab)\n",
    "train_dataset, val_dataset, test_dataset = random_split(imdb_dataset, [0.8, 0.1, 0.1], generator=torch.Generator())\n",
    "\n",
    "print('Size of train_dataset: ', len(train_dataset))\n",
    "print('Size of val_dataset: ', len(val_dataset))\n",
    "print('Size of test_dataset: ', len(test_dataset))\n",
    "print()\n",
    "x, y = train_dataset[0]\n",
    "print(x)\n",
    "print(y)"
   ]
  },
  {
   "cell_type": "markdown",
   "metadata": {
    "id": "67gmuyW3bg0q"
   },
   "source": [
    "It's time now to add the special tokens to the sequence, CLS at the beginning and EOS at the end."
   ]
  },
  {
   "cell_type": "code",
   "execution_count": 20,
   "metadata": {
    "id": "mjIMn-R8bg0q"
   },
   "outputs": [
    {
     "name": "stdout",
     "output_type": "stream",
     "text": [
      "Before  [5, 6, 7]\n",
      "After:  tensor([1., 5., 6., 7., 2.])\n"
     ]
    }
   ],
   "source": [
    "tokens = [5,6,7]\n",
    "# Your code here\n",
    "# using this list as an example\n",
    "# concatenate CLS, tokens and EOS into a single torch tensor named 'input'\n",
    "input = torch.Tensor([CLS_index] + tokens + [EOS_index])    \n",
    "\n",
    "\n",
    "print('Before ',tokens)\n",
    "print('After: ',input)\n",
    "assert(torch.equal(input, torch.Tensor([1,5,6,7,2])))"
   ]
  },
  {
   "cell_type": "markdown",
   "metadata": {
    "id": "EyMm0HbXyV2E"
   },
   "source": [
    "Finally we can create the batches used for the training, the data collator used by the DataLoader will provide us a list of samples to form a batch, given the desired batch size. We just need to implement the callable function to process the batch. To be able to stack multiple tensors together some padding is required, and consequently a padding mask to indicate on which token we should compute the attention. Pads are in fact excluded from the attention computation, whereas CLS and EOS are included"
   ]
  },
  {
   "cell_type": "code",
   "execution_count": 34,
   "metadata": {
    "id": "9RdcbjiKrxu-"
   },
   "outputs": [],
   "source": [
    "from torch.nn.utils.rnn import pad_sequence\n",
    "\n",
    "def generate_batch(data_batch):\n",
    "    '''\n",
    "    args:\n",
    "        data_batch: list of N samples, with N being the batch size\n",
    "    outputs:\n",
    "        input_ids: tensor with shape N,L containing the token ids, with L the sequence length\n",
    "        labels: tensor with shape N,1 contaning the labels\n",
    "        mask: tensor with shape N,L representing the padding mask, indicating if the corresponding token is padding (mask == True) or not\n",
    "    '''\n",
    "    input_ids = []\n",
    "    labels = []\n",
    "    for tokens, label in data_batch:\n",
    "        # Add <cls> and <eos> tokens and convert to LongTensor\n",
    "        input = torch.tensor(tokens, dtype=torch.long)\n",
    "        label32 = torch.tensor(label, dtype=torch.float32)\n",
    "\n",
    "        input_ids.append(input)\n",
    "        labels.append(label32)\n",
    "\n",
    "    # Pad all sequences to same length\n",
    "    input_ids = pad_sequence(input_ids, batch_first=True, padding_value=PAD_index)\n",
    "    labels = torch.stack(labels).unsqueeze(1)\n",
    "\n",
    "    # Create a mask for padding positions\n",
    "    mask = input_ids == PAD_index\n",
    "\n",
    "    return input_ids, labels, mask\n"
   ]
  },
  {
   "cell_type": "markdown",
   "metadata": {
    "id": "SC8eoZlWyV2E"
   },
   "source": [
    "Let's test the function before moving on..."
   ]
  },
  {
   "cell_type": "code",
   "execution_count": 35,
   "metadata": {
    "id": "JAWd_goobg0q"
   },
   "outputs": [
    {
     "name": "stdout",
     "output_type": "stream",
     "text": [
      "input_ids:  tensor([[5, 6, 7, 8],\n",
      "        [4, 9, 0, 0]])\n",
      "labels:  tensor([[0.],\n",
      "        [1.]])\n",
      "mask:  tensor([[False, False, False, False],\n",
      "        [False, False,  True,  True]])\n"
     ]
    }
   ],
   "source": [
    "# example of batch containing sequences with different lengths and the corresponding labels\n",
    "example = [\n",
    "    ([5,6,7,8], 0),\n",
    "    ([4,9], 1)\n",
    "]\n",
    "\n",
    "input_ids, labels, mask = generate_batch(example)\n",
    "print('input_ids: ',input_ids)\n",
    "print('labels: ',labels)\n",
    "print('mask: ',mask)\n",
    "\n",
    "assert(torch.equal(labels, torch.Tensor([[0.],[1.]])))"
   ]
  },
  {
   "cell_type": "markdown",
   "metadata": {
    "id": "3h3_uGityV2F"
   },
   "source": [
    "We expect to see tensors with the same dimensions and 0 pad tokens if needed (0 is the corresponding value in our vocabulary for the PAD token)\n"
   ]
  },
  {
   "cell_type": "markdown",
   "metadata": {
    "id": "BkEn8kzPyV2F"
   },
   "source": [
    "We now have everything we need to create the data loaders"
   ]
  },
  {
   "cell_type": "code",
   "execution_count": 36,
   "metadata": {
    "id": "CjSAdvGbrxu-"
   },
   "outputs": [],
   "source": [
    "BATCH_SIZE = 64\n",
    "\n",
    "train_loader = DataLoader(train_dataset, batch_size=BATCH_SIZE,\n",
    "                        shuffle=True, collate_fn=generate_batch)\n",
    "valid_loader = DataLoader(val_dataset, batch_size=BATCH_SIZE,\n",
    "                        shuffle=False, collate_fn=generate_batch)\n",
    "test_loader = DataLoader(test_dataset, batch_size=BATCH_SIZE,\n",
    "                       shuffle=False, collate_fn=generate_batch)"
   ]
  },
  {
   "cell_type": "markdown",
   "metadata": {
    "id": "Tv5emHpUyV2F"
   },
   "source": [
    "For convenience, and taking inspiration from good pratices, we could group all the network hyper-parameters into a single class and then use this to instantiate our model.\n",
    "\n",
    "We will also use CUDA (if available) to speed up the training."
   ]
  },
  {
   "cell_type": "code",
   "execution_count": 37,
   "metadata": {
    "id": "iuz0U0xJ7BcJ"
   },
   "outputs": [],
   "source": [
    "class Config:\n",
    "    embd_pdrop = 0.2\n",
    "    resid_pdrop = 0.2\n",
    "    attn_pdrop = 0.2\n",
    "    head_pdrop = 0.2\n",
    "    n_layer = 6\n",
    "    n_head = 8\n",
    "    n_embd = 512\n",
    "    max_len = MAX_LEN\n",
    "\n",
    "    def __init__(self, vocab_size):\n",
    "        setattr(self, 'vocab_size', vocab_size)\n",
    "\n",
    "device = torch.device('cuda' if torch.cuda.is_available() else 'cpu')\n",
    "config = Config(len(vocab))"
   ]
  },
  {
   "cell_type": "markdown",
   "metadata": {
    "id": "6hQ1hV3vyV2F"
   },
   "source": [
    "It's time now to implement the attention block at the heart of the Transformer architecture. In the `__init__()` function we initialize all the components needed, in particulare the multi head attention. Two other methods (`_sa_block` and `_ff_block`) will deal with self attention and multi layer perceptron.\n",
    "\n",
    "More in detail, the block is composed by:\n",
    "\n",
    "1. the self-attention, implemented with PyTorch's `MultiheadAttention`, residual connection and layer normalization\n",
    "2. a feed forward network with residual connection and layer normalization\n",
    "\n",
    "We will also use dropout between the different components.\n",
    "\n",
    "Refer to the official documentation at [https://pytorch.org/docs/stable/generated/torch.nn.MultiheadAttention.html](https://pytorch.org/docs/stable/generated/torch.nn.MultiheadAttention.html) to complete this exercise.\n",
    "\n",
    "<img src=\"https://www.researchgate.net/publication/336224014/figure/fig1/AS:809717848891393@1570063187530/The-structure-of-a-Transformer-Block.ppm\" height=\"400\">"
   ]
  },
  {
   "cell_type": "code",
   "execution_count": 38,
   "metadata": {
    "id": "TM8Vsyw27F9G"
   },
   "outputs": [],
   "source": [
    "class Block(nn.Module):\n",
    "    def __init__(self, config):\n",
    "      super().__init__()\n",
    "      self.norm1 = nn.LayerNorm(config.n_embd)\n",
    "      self.norm2 = nn.LayerNorm(config.n_embd)\n",
    "      self.attn = nn.MultiheadAttention(config.n_embd, config.n_head, batch_first=True)\n",
    "      self.attn_drop = nn.Dropout(config.attn_pdrop)\n",
    "      self.linear1 = nn.Linear(config.n_embd, 4 * config.n_embd)\n",
    "      self.linear_drop = nn.Dropout(config.resid_pdrop)\n",
    "      self.activation = nn.GELU()\n",
    "      self.linear2 = nn.Linear(4 * config.n_embd, config.n_embd)\n",
    "      self.linear_drop2 = nn.Dropout(config.resid_pdrop)\n",
    "\n",
    "    def forward(self, x:Tensor, msk:Tensor) -> Tensor:\n",
    "      x = self.norm1(x + self._sa_block(x, msk))\n",
    "      x = self.norm2(x + self._ff_block(x))\n",
    "      return x\n",
    "\n",
    "    def _sa_block(self, x:Tensor, pad_mask:Tensor) -> Tensor:\n",
    "      # Your code here\n",
    "      # implement the self attention mechanism with the followin steps:\n",
    "      # 1. fill the arguments needed for the self.attn component (instance of nn.MultiheadAttention)\n",
    "      # 2. add dropout by calling self.attn_drop (instance of nn.Dropout)\n",
    "      attn_output, _ = self.attn(x, x, x, key_padding_mask=pad_mask)\n",
    "      attn_output = self.attn_drop(attn_output)\n",
    "      return attn_output\n",
    "\n",
    "    def _ff_block(self, x:Tensor) -> Tensor:\n",
    "      x = self.linear2(self.linear_drop(self.activation(self.linear1(x))))\n",
    "      return self.linear_drop2(x)"
   ]
  },
  {
   "cell_type": "markdown",
   "metadata": {
    "id": "OrLgEFcfyV2F"
   },
   "source": [
    "**How are residual connections implemented in this code? In which lines?**"
   ]
  },
  {
   "cell_type": "markdown",
   "metadata": {
    "id": "XE7eZhY9yV2F"
   },
   "source": [
    "*sidual connections (also called skip connections) mean that we add the input of a sublayer to its output before normalizing or passing further.*\n",
    "\n",
    "*residual connections are implemented on lines:\n",
    "\n",
    "      x = self.norm1(x + self._sa_block(x, msk))\n",
    "\n",
    "      x = self.norm2(x + self._ff_block(x))* \n",
    "\n",
    "\n",
    "*These make sure gradients flow better and that each block learns a refinement of its input rather than a completely new transformation.*"
   ]
  },
  {
   "cell_type": "markdown",
   "metadata": {
    "id": "Yjye7AjQyV2F"
   },
   "source": [
    "**How is the feed forward network implemented? How many levels and with what dimensions?**"
   ]
  },
  {
   "cell_type": "markdown",
   "metadata": {
    "id": "8CbaPrywyV2K"
   },
   "source": [
    "*The feed-forward network is implemented in the _ff_block() method.\n",
    "\n",
    "It has 2 linear layers with dimensions 512 → 2048 → 512, using a GELU activation and dropout between them.*"
   ]
  },
  {
   "cell_type": "markdown",
   "metadata": {
    "id": "lNlHZT3SyV2K"
   },
   "source": [
    "Until now we just converted words (strings of text) into indeces by looking at the corresponding token index in the vocabulary. Now, with this neural network, we should move to an higher space dimension, converting indeces into embeddings. You can think of this first layer as a lookup table, that will retrieve the corresponding (learnable) embedding given the token index.\n",
    "\n",
    "Look at the documentation for more info [https://pytorch.org/docs/stable/generated/torch.nn.Embedding.html](https://pytorch.org/docs/stable/generated/torch.nn.Embedding.html)"
   ]
  },
  {
   "cell_type": "code",
   "execution_count": 39,
   "metadata": {
    "id": "OO3BwszUyV2K"
   },
   "outputs": [
    {
     "name": "stdout",
     "output_type": "stream",
     "text": [
      "tensor([[ 1.4337, -1.4741, -0.1260,  ...,  0.7362, -1.7791, -1.4085],\n",
      "        [ 0.0522,  0.0288, -0.3778,  ..., -0.4391, -1.7846, -1.7391],\n",
      "        [-0.7459, -0.2971,  0.8417,  ...,  1.4472,  0.4817, -0.9211],\n",
      "        ...,\n",
      "        [-0.4470, -0.1089, -1.0322,  ..., -3.1458,  0.4758, -0.1635],\n",
      "        [-1.5991,  0.5467,  0.3216,  ..., -0.3729, -0.2741,  1.4558],\n",
      "        [ 0.4416,  0.7609,  0.8655,  ..., -1.2192, -0.6141,  0.4698]],\n",
      "       grad_fn=<EmbeddingBackward0>)\n",
      "torch.Size([10, 512])\n"
     ]
    }
   ],
   "source": [
    "# Your code here\n",
    "# instantiate an embedding lookup table with as many entries as our vocabulary and embeddings size equal to config.n_embd\n",
    "emb = nn.Embedding(config.vocab_size, config.n_embd)\n",
    "\n",
    "embedding = emb(torch.Tensor([1,2,3,4,5,6,7,8,9,0]).long())\n",
    "print(embedding)\n",
    "print(embedding.shape)\n",
    "\n",
    "assert(embedding.shape == torch.Size([10, 512]))"
   ]
  },
  {
   "cell_type": "markdown",
   "metadata": {
    "id": "hBHTNpGCyV2K"
   },
   "source": [
    "As we have seen, the attention mechanism is permutation equivariant, meaning that it does not take into account the order of the elements. In NLP, though, the word order is important. In this implementation we will use learnable positional embeddings."
   ]
  },
  {
   "cell_type": "code",
   "execution_count": 40,
   "metadata": {
    "id": "Il-_LuyjyV2K"
   },
   "outputs": [
    {
     "name": "stdout",
     "output_type": "stream",
     "text": [
      "tensor([ 0,  1,  2,  3,  4,  5,  6,  7,  8,  9, 10, 11])\n",
      "tensor([[ 0.2179, -1.1469, -0.5738,  ..., -1.7345, -0.9270, -2.5553],\n",
      "        [ 0.5729,  0.5867,  1.0441,  ...,  1.2253,  0.7463, -1.2076],\n",
      "        [-0.1359, -0.0544, -1.2718,  ..., -0.0752, -0.2488,  0.4072],\n",
      "        ...,\n",
      "        [-0.2880, -0.4251,  0.2210,  ..., -0.4282, -1.4895,  0.4274],\n",
      "        [-0.0512,  0.1810, -1.4433,  ...,  1.2636,  0.1479, -0.7344],\n",
      "        [ 0.0183, -0.0409,  1.3849,  ..., -0.4262, -0.3117, -1.6138]],\n",
      "       grad_fn=<EmbeddingBackward0>)\n",
      "torch.Size([12, 512])\n"
     ]
    }
   ],
   "source": [
    "# Your code here\n",
    "# instantiate an embedding layer with config.max_len entries and same embeddings size as before\n",
    "pos_emb =   nn.Embedding(config.max_len, config.n_embd)\n",
    "\n",
    "# the input of this model consists of a sequence of ordered numbers spanning from 0 to the lenght of the sequence to encode\n",
    "input_pos = torch.arange(12, dtype=torch.long)\n",
    "print(input_pos)\n",
    "\n",
    "# the result of applying the positional embedding layer to the input is just another set of (learnable) embeddings\n",
    "embs = pos_emb(input_pos)\n",
    "print(embs)\n",
    "\n",
    "# with shape L,E where L is the sequence lenght and E the embedding size\n",
    "print(embs.shape)\n",
    "assert(embs.shape == torch.Size([12, 512]))"
   ]
  },
  {
   "cell_type": "markdown",
   "metadata": {
    "id": "O1Iio8_YyV2K"
   },
   "source": [
    "With these components we can finally build the Transformer encoder to be used as classifier. To this aim we will add a \"classification head\" at the end, composed by a simple linear layer.\n",
    "\n",
    "The Transformer model is a sequence-to-sequence architecture, meaning that from a input sequence of length L it will return another sequence with the same length. For classification tasks, thought, it's sufficient to take the CLS embedding as representation for the entire sequence, and performing classification on that. \\(Other popular strategies could involve max pooling of average pooling over the sequence\\). In this case we will simply apply the classification head to the CLS embedding, that is the first embedding of the sequence."
   ]
  },
  {
   "cell_type": "code",
   "execution_count": 41,
   "metadata": {
    "id": "7GphHB3Prxu-"
   },
   "outputs": [],
   "source": [
    "class EncoderClassifier(nn.Module):\n",
    "    def __init__(self, config):\n",
    "        super(EncoderClassifier, self).__init__()\n",
    "        # Your code here\n",
    "        # instantiate your embedding layer for converting input tokens into embedding vectors\n",
    "        self.emb = emb\n",
    "\n",
    "        # Your code here\n",
    "        # instantiate your positional embedding layer\n",
    "        self.pos_emb = pos_emb\n",
    "\n",
    "        self.norm_emb = nn.LayerNorm(config.n_embd)\n",
    "        self.drop_emb = nn.Dropout(config.embd_pdrop)\n",
    "\n",
    "        # repeat the Block module 'n_layer' times\n",
    "        self.blocks = nn.ModuleList(Block(config) for _ in range(config.n_layer))\n",
    "\n",
    "        # classification head\n",
    "        self.class_head = nn.Linear(config.n_embd, 1)\n",
    "        self.drop_head = nn.Dropout(config.head_pdrop)\n",
    "\n",
    "        self._init_weights()\n",
    "\n",
    "    def forward(self, x:Tensor, msk:Tensor) -> Tensor:\n",
    "        device = x.device\n",
    "\n",
    "        x = self.emb(x)  # N, L, E\n",
    "        position_ids = torch.arange(x.size(1), dtype=torch.long).unsqueeze(0).to(device)  # 1, L\n",
    "        pos_emb = self.pos_emb(position_ids)  # 1, L, E\n",
    "        x = x + pos_emb  # N, L, E\n",
    "        x = self.drop_emb(self.norm_emb(x))\n",
    "\n",
    "        for block in self.blocks:\n",
    "            x = block(x, msk)\n",
    "\n",
    "        # Your code here\n",
    "        # given the output of the network x with shape (N,L,E)\n",
    "        # get the embedding corresponding to the CLS token (the first of the sequence)\n",
    "        # the output shape should be (N,E)\n",
    "        pooled = x[:, 0]\n",
    "\n",
    "        out = self.class_head(self.drop_head(pooled))\n",
    "        return out\n",
    "\n",
    "    def _init_weights(self):\n",
    "        # weights initialization\n",
    "        self.emb.weight.data.uniform_(-0.1, 0.1)\n",
    "        self.class_head.weight.data.uniform_(-0.1, 0.1)\n"
   ]
  },
  {
   "cell_type": "markdown",
   "metadata": {
    "id": "sUDeysLhyV2K"
   },
   "source": [
    "Now that the implementation is ready we can instantiate the model and load it into memory"
   ]
  },
  {
   "cell_type": "code",
   "execution_count": 42,
   "metadata": {
    "id": "mW1zeypUrxu_"
   },
   "outputs": [
    {
     "name": "stdout",
     "output_type": "stream",
     "text": [
      "EncoderClassifier(\n",
      "  (emb): Embedding(43077, 512)\n",
      "  (pos_emb): Embedding(256, 512)\n",
      "  (norm_emb): LayerNorm((512,), eps=1e-05, elementwise_affine=True)\n",
      "  (drop_emb): Dropout(p=0.2, inplace=False)\n",
      "  (blocks): ModuleList(\n",
      "    (0-5): 6 x Block(\n",
      "      (norm1): LayerNorm((512,), eps=1e-05, elementwise_affine=True)\n",
      "      (norm2): LayerNorm((512,), eps=1e-05, elementwise_affine=True)\n",
      "      (attn): MultiheadAttention(\n",
      "        (out_proj): NonDynamicallyQuantizableLinear(in_features=512, out_features=512, bias=True)\n",
      "      )\n",
      "      (attn_drop): Dropout(p=0.2, inplace=False)\n",
      "      (linear1): Linear(in_features=512, out_features=2048, bias=True)\n",
      "      (linear_drop): Dropout(p=0.2, inplace=False)\n",
      "      (activation): GELU(approximate='none')\n",
      "      (linear2): Linear(in_features=2048, out_features=512, bias=True)\n",
      "      (linear_drop2): Dropout(p=0.2, inplace=False)\n",
      "    )\n",
      "  )\n",
      "  (class_head): Linear(in_features=512, out_features=1, bias=True)\n",
      "  (drop_head): Dropout(p=0.2, inplace=False)\n",
      ")\n"
     ]
    }
   ],
   "source": [
    "model = EncoderClassifier(config).to(device)\n",
    "print(model)"
   ]
  },
  {
   "cell_type": "markdown",
   "metadata": {
    "id": "ggoVpztqyV2K"
   },
   "source": [
    "For this simple training we will use the Adam optimizer and Binary Cross Entropy loss. In particular we rely on the nn.BCEWithLogitsLoss loss that includes a sigmoid function inside, meaning that - as the name suggests - we can use directly the logits (output) of the network as input"
   ]
  },
  {
   "cell_type": "code",
   "execution_count": 43,
   "metadata": {
    "id": "xx8qEgU5rxu_"
   },
   "outputs": [],
   "source": [
    "LR = 1e-5\n",
    "\n",
    "criterion = nn.BCEWithLogitsLoss()\n",
    "optimizer = optim.Adam(model.parameters(), lr=LR)"
   ]
  },
  {
   "cell_type": "markdown",
   "metadata": {
    "id": "qoCuNpjRyV2L"
   },
   "source": [
    "Here our training loop:"
   ]
  },
  {
   "cell_type": "code",
   "execution_count": 44,
   "metadata": {
    "id": "sB_xiSxgrxu_"
   },
   "outputs": [],
   "source": [
    "def train(model, trainloader, optimizer, criterion, device):\n",
    "    print('Training')\n",
    "    model.train()\n",
    "    loss_epoch = 0\n",
    "\n",
    "    for inputs, labels, masks in tqdm(trainloader):\n",
    "        inputs = inputs.to(device)\n",
    "        labels = labels.to(device)\n",
    "        masks = masks.to(device)\n",
    "\n",
    "        # Forward pass\n",
    "        outputs = model(inputs, masks)\n",
    "\n",
    "        # Calculate the loss\n",
    "        optimizer.zero_grad()\n",
    "        loss = criterion(outputs, labels)\n",
    "        loss_epoch += loss.item()\n",
    "\n",
    "        # Backpropagation\n",
    "        loss.backward()\n",
    "\n",
    "        # Update the optimizer parameters\n",
    "        optimizer.step()\n",
    "\n",
    "    return loss_epoch/len(trainloader)"
   ]
  },
  {
   "cell_type": "markdown",
   "metadata": {
    "id": "MS8tL8fSyV2L"
   },
   "source": [
    "For the evaluation phase, instead, we don't need to compute the gradients and perform backpropagation, we just need to run the model, compute and store the loss."
   ]
  },
  {
   "cell_type": "code",
   "execution_count": 45,
   "metadata": {
    "id": "uVauRO6Grxu_"
   },
   "outputs": [],
   "source": [
    "def validate(model, testloader, criterion, device):\n",
    "    print('Validation')\n",
    "    loss_epoch = 0\n",
    "\n",
    "    # Your code here\n",
    "    # implement your validation loop keeping in mind to 1) put the model into evaluation mode and 2) disable gradient computation\n",
    "    model.eval()\n",
    "    with torch.no_grad():\n",
    "        for inputs, labels, masks in tqdm(testloader):\n",
    "            inputs = inputs.to(device)\n",
    "            labels = labels.to(device)\n",
    "            masks = masks.to(device)\n",
    "\n",
    "            # Forward pass\n",
    "            outputs = model(inputs, masks)\n",
    "            loss = criterion(outputs, labels)\n",
    "            loss_epoch += loss.item()\n",
    "\n",
    "    return loss_epoch/len(testloader)"
   ]
  },
  {
   "cell_type": "markdown",
   "metadata": {
    "id": "b8q-5oJYyV2M"
   },
   "source": [
    "Finally we can start the training, be aware that it could take a while.\n",
    "\n",
    "For this toy example we will limit the training to 4 epochs, monitoring the training and validation losses. If the validation loss is improving we will save the model on the disk for future use"
   ]
  },
  {
   "cell_type": "code",
   "execution_count": 46,
   "metadata": {
    "id": "jy51yOnNrxu_"
   },
   "outputs": [
    {
     "name": "stdout",
     "output_type": "stream",
     "text": [
      "[INFO]: Epoch 1 of 4\n",
      "Training\n"
     ]
    },
    {
     "name": "stderr",
     "output_type": "stream",
     "text": [
      "100%|██████████| 63/63 [14:50<00:00, 14.13s/it]\n"
     ]
    },
    {
     "name": "stdout",
     "output_type": "stream",
     "text": [
      "Validation\n"
     ]
    },
    {
     "name": "stderr",
     "output_type": "stream",
     "text": [
      "100%|██████████| 8/8 [00:23<00:00,  2.93s/it]\n"
     ]
    },
    {
     "name": "stdout",
     "output_type": "stream",
     "text": [
      "Training loss: 0.810758268076276\n",
      "Validation loss: 0.694878563284874\n",
      "Saving best model till now...\n",
      "--------------------------------------------------\n",
      "[INFO]: Epoch 2 of 4\n",
      "Training\n"
     ]
    },
    {
     "name": "stderr",
     "output_type": "stream",
     "text": [
      "100%|██████████| 63/63 [17:05<00:00, 16.28s/it]\n"
     ]
    },
    {
     "name": "stdout",
     "output_type": "stream",
     "text": [
      "Validation\n"
     ]
    },
    {
     "name": "stderr",
     "output_type": "stream",
     "text": [
      "100%|██████████| 8/8 [00:31<00:00,  3.89s/it]\n"
     ]
    },
    {
     "name": "stdout",
     "output_type": "stream",
     "text": [
      "Training loss: 0.7735601578439985\n",
      "Validation loss: 0.6915351301431656\n",
      "Saving best model till now...\n",
      "--------------------------------------------------\n",
      "[INFO]: Epoch 3 of 4\n",
      "Training\n"
     ]
    },
    {
     "name": "stderr",
     "output_type": "stream",
     "text": [
      "100%|██████████| 63/63 [18:38<00:00, 17.76s/it]\n"
     ]
    },
    {
     "name": "stdout",
     "output_type": "stream",
     "text": [
      "Validation\n"
     ]
    },
    {
     "name": "stderr",
     "output_type": "stream",
     "text": [
      "100%|██████████| 8/8 [00:22<00:00,  2.77s/it]\n"
     ]
    },
    {
     "name": "stdout",
     "output_type": "stream",
     "text": [
      "Training loss: 0.7745105860725282\n",
      "Validation loss: 0.713542141020298\n",
      "--------------------------------------------------\n",
      "[INFO]: Epoch 4 of 4\n",
      "Training\n"
     ]
    },
    {
     "name": "stderr",
     "output_type": "stream",
     "text": [
      "100%|██████████| 63/63 [16:26<00:00, 15.66s/it]\n"
     ]
    },
    {
     "name": "stdout",
     "output_type": "stream",
     "text": [
      "Validation\n"
     ]
    },
    {
     "name": "stderr",
     "output_type": "stream",
     "text": [
      "100%|██████████| 8/8 [00:21<00:00,  2.65s/it]\n"
     ]
    },
    {
     "name": "stdout",
     "output_type": "stream",
     "text": [
      "Training loss: 0.7340890916567\n",
      "Validation loss: 0.688492089509964\n",
      "Saving best model till now...\n",
      "--------------------------------------------------\n"
     ]
    }
   ],
   "source": [
    "EPOCHS = 4\n",
    "\n",
    "train_loss, valid_loss = [], []\n",
    "least_loss = float('inf')\n",
    "\n",
    "for epoch in range(EPOCHS):\n",
    "    print(f\"[INFO]: Epoch {epoch+1} of {EPOCHS}\")\n",
    "\n",
    "    train_epoch_loss = train(model, train_loader, optimizer, criterion, device)\n",
    "    valid_epoch_loss = validate(model, valid_loader, criterion, device)\n",
    "    train_loss.append(train_epoch_loss)\n",
    "    valid_loss.append(valid_epoch_loss)\n",
    "    print(f\"Training loss: {train_epoch_loss}\")\n",
    "    print(f\"Validation loss: {valid_epoch_loss}\")\n",
    "\n",
    "    # Save model\n",
    "    if valid_epoch_loss < least_loss:\n",
    "        least_loss = valid_epoch_loss\n",
    "        print(f\"Saving best model till now...\")\n",
    "        torch.save(model, 'model.pth')\n",
    "\n",
    "    print('-'*50)"
   ]
  },
  {
   "cell_type": "markdown",
   "metadata": {
    "id": "u8f9tm7CyV2N"
   },
   "source": [
    "We should not expect great results from training such a small model for only 4 epochs on a toy dataset, but we can still visualize the loss evolution through time."
   ]
  },
  {
   "cell_type": "code",
   "execution_count": 47,
   "metadata": {
    "id": "hxm1RPeerxu_"
   },
   "outputs": [
    {
     "data": {
      "image/png": "[encoded data removed]",
      "text/plain": [
       "<Figure size 640x480 with 1 Axes>"
      ]
     },
     "metadata": {},
     "output_type": "display_data"
    }
   ],
   "source": [
    "import matplotlib.pyplot as plt\n",
    "\n",
    "x = [x for x in range(1, EPOCHS+1)]\n",
    "plt.plot(x, train_loss, label = \"train\")\n",
    "plt.plot(x, valid_loss, label = \"eval\")\n",
    "plt.legend()\n",
    "plt.show()"
   ]
  },
  {
   "cell_type": "markdown",
   "metadata": {
    "id": "faj3tAtXyV2N"
   },
   "source": [
    "Now that the training is over we can load the best performing model (on the validation set) we saved before"
   ]
  },
  {
   "cell_type": "code",
   "execution_count": 48,
   "metadata": {
    "id": "pK3EIROVrxu_"
   },
   "outputs": [],
   "source": [
    "trained_model = torch.load('model.pth', weights_only=False)"
   ]
  },
  {
   "cell_type": "markdown",
   "metadata": {
    "id": "jUijH2USyV2N"
   },
   "source": [
    "And evaluate it on the test set. In this case we will rely on the Scikit-learn library to compute the F1-score.\n",
    "\n",
    "This time, however, we need to create our predictions from the logits using a sigmoid function. For this purpose we can consider as positive class (1) probabilities that are stricly higher than 0.5 and 0 otherwise."
   ]
  },
  {
   "cell_type": "code",
   "execution_count": 49,
   "metadata": {
    "id": "r0hGIt3FIatI"
   },
   "outputs": [
    {
     "name": "stdout",
     "output_type": "stream",
     "text": [
      "Testing\n"
     ]
    },
    {
     "name": "stderr",
     "output_type": "stream",
     "text": [
      "100%|██████████| 8/8 [00:21<00:00,  2.71s/it]"
     ]
    },
    {
     "name": "stdout",
     "output_type": "stream",
     "text": [
      "\n",
      "Test loss: 0.6942787244915962\n",
      "F1-score: 0.6329889898826631\n"
     ]
    },
    {
     "name": "stderr",
     "output_type": "stream",
     "text": [
      "\n"
     ]
    }
   ],
   "source": [
    "from sklearn.metrics import f1_score\n",
    "\n",
    "def test(model, testloader, criterion, device):\n",
    "    print('Testing')\n",
    "    model.eval()\n",
    "    loss_epoch = 0\n",
    "    f1_scores = 0\n",
    "\n",
    "    with torch.no_grad():\n",
    "        for inputs, labels, masks in tqdm(testloader):\n",
    "            inputs = inputs.to(device)\n",
    "            labels = labels.to(device)\n",
    "            masks = masks.to(device)\n",
    "\n",
    "            outputs = model(inputs, masks)\n",
    "\n",
    "            loss = criterion(outputs, labels)\n",
    "            loss_epoch += loss.item()\n",
    "\n",
    "            # move tensors from GPU (is used) to CPU and flatten the representation\n",
    "            flatten_x = outputs.view(-1).cpu()\n",
    "            flatten_y = labels.long().view(-1).cpu()\n",
    "\n",
    "            # Your code here\n",
    "            # apply a sigmoid to flatten_x and make your predictions (1 iif prob > 0.5, 0 otherwise)\n",
    "            # convert the result into a long tensor (pytorch tensor with long type)\n",
    "            # Hint: use torch.sigmoid()\n",
    "            preds = (torch.sigmoid(flatten_x) > 0.5).long()\n",
    "\n",
    "            f1 = f1_score(flatten_y, preds, average='binary')\n",
    "            f1_scores += f1\n",
    "\n",
    "    return loss_epoch/len(testloader), f1_scores/len(testloader)\n",
    "\n",
    "test_loss, f1 = test(trained_model, test_loader, criterion, device)\n",
    "print('\\nTest loss: {}\\nF1-score: {}'.format(test_loss, f1))"
   ]
  },
  {
   "cell_type": "markdown",
   "metadata": {
    "id": "Jtq9yMRwyV2N"
   },
   "source": [
    "## Pretrained models with Huggingface\n",
    "\n",
    "We just learned how Transformer models work, this could be useful in the future if we want to modify, internally, the architecture, adapting or adding new components. We trained our model from scratch but we could have loaded pre-trained weights if we had them. Doing all this with native PyTorch might not be easy, though.\n",
    "\n",
    "That's why, for this second part, we will move to the Hugginface library (a de-facto standard when working with Transformers), using its implementations and pre-trained models already available on Hugginface Hub.\n",
    "We will perform the same classification task but in a much easier way."
   ]
  },
  {
   "cell_type": "markdown",
   "metadata": {
    "id": "kXv5aCCpyV2N"
   },
   "source": [
    "Let's download an already pre-processed version of the Large Movie Review Dataset taking only 5k samples from the train split.\n",
    "\n",
    "For this example we will use only two splits for training and validation respectively"
   ]
  },
  {
   "cell_type": "code",
   "execution_count": 50,
   "metadata": {
    "id": "dzgZD8peZ8dA"
   },
   "outputs": [
    {
     "data": {
      "application/vnd.jupyter.widget-view+json": {
       "model_id": "1488279a0be74eccbe663ca5ebea151f",
       "version_major": 2,
       "version_minor": 0
      },
      "text/plain": [
       "README.md: 0.00B [00:00, ?B/s]"
      ]
     },
     "metadata": {},
     "output_type": "display_data"
    },
    {
     "name": "stderr",
     "output_type": "stream",
     "text": [
      "c:\\Users\\douae\\Anaconda\\Lib\\site-packages\\huggingface_hub\\file_download.py:143: UserWarning: `huggingface_hub` cache-system uses symlinks by default to efficiently store duplicated files but your machine does not support them in C:\\Users\\douae\\.cache\\huggingface\\hub\\datasets--imdb. Caching files will still work but in a degraded version that might require more space on your disk. This warning can be disabled by setting the `HF_HUB_DISABLE_SYMLINKS_WARNING` environment variable. For more details, see https://huggingface.co/docs/huggingface_hub/how-to-cache#limitations.\n",
      "To support symlinks on Windows, you either need to activate Developer Mode or to run Python as an administrator. In order to activate developer mode, see this article: https://docs.microsoft.com/en-us/windows/apps/get-started/enable-your-device-for-development\n",
      "  warnings.warn(message)\n",
      "Xet Storage is enabled for this repo, but the 'hf_xet' package is not installed. Falling back to regular HTTP download. For better performance, install the package with: `pip install huggingface_hub[hf_xet]` or `pip install hf_xet`\n"
     ]
    },
    {
     "data": {
      "application/vnd.jupyter.widget-view+json": {
       "model_id": "f4c11965ec764106aa7e1dc8351f937f",
       "version_major": 2,
       "version_minor": 0
      },
      "text/plain": [
       "train-00000-of-00001.parquet:   0%|          | 0.00/21.0M [00:00<?, ?B/s]"
      ]
     },
     "metadata": {},
     "output_type": "display_data"
    },
    {
     "name": "stderr",
     "output_type": "stream",
     "text": [
      "Xet Storage is enabled for this repo, but the 'hf_xet' package is not installed. Falling back to regular HTTP download. For better performance, install the package with: `pip install huggingface_hub[hf_xet]` or `pip install hf_xet`\n"
     ]
    },
    {
     "data": {
      "application/vnd.jupyter.widget-view+json": {
       "model_id": "18258f03fbb342fbb31b94a94b7f989c",
       "version_major": 2,
       "version_minor": 0
      },
      "text/plain": [
       "test-00000-of-00001.parquet:   0%|          | 0.00/20.5M [00:00<?, ?B/s]"
      ]
     },
     "metadata": {},
     "output_type": "display_data"
    },
    {
     "name": "stderr",
     "output_type": "stream",
     "text": [
      "Xet Storage is enabled for this repo, but the 'hf_xet' package is not installed. Falling back to regular HTTP download. For better performance, install the package with: `pip install huggingface_hub[hf_xet]` or `pip install hf_xet`\n"
     ]
    },
    {
     "data": {
      "application/vnd.jupyter.widget-view+json": {
       "model_id": "97b2ef88205744f09b35902b24e8acee",
       "version_major": 2,
       "version_minor": 0
      },
      "text/plain": [
       "unsupervised-00000-of-00001.parquet:   0%|          | 0.00/42.0M [00:00<?, ?B/s]"
      ]
     },
     "metadata": {},
     "output_type": "display_data"
    },
    {
     "data": {
      "application/vnd.jupyter.widget-view+json": {
       "model_id": "c4f2b683db9e4b0d9aebf670d4cb3202",
       "version_major": 2,
       "version_minor": 0
      },
      "text/plain": [
       "Generating train split:   0%|          | 0/25000 [00:00<?, ? examples/s]"
      ]
     },
     "metadata": {},
     "output_type": "display_data"
    },
    {
     "data": {
      "application/vnd.jupyter.widget-view+json": {
       "model_id": "c6c8a4c528f54060b21efed8c037b1a3",
       "version_major": 2,
       "version_minor": 0
      },
      "text/plain": [
       "Generating test split:   0%|          | 0/25000 [00:00<?, ? examples/s]"
      ]
     },
     "metadata": {},
     "output_type": "display_data"
    },
    {
     "data": {
      "application/vnd.jupyter.widget-view+json": {
       "model_id": "c804c8d1355345f89f4d53394f53cd9d",
       "version_major": 2,
       "version_minor": 0
      },
      "text/plain": [
       "Generating unsupervised split:   0%|          | 0/50000 [00:00<?, ? examples/s]"
      ]
     },
     "metadata": {},
     "output_type": "display_data"
    },
    {
     "name": "stdout",
     "output_type": "stream",
     "text": [
      "DatasetDict({\n",
      "    train: Dataset({\n",
      "        features: ['text', 'label'],\n",
      "        num_rows: 4500\n",
      "    })\n",
      "    test: Dataset({\n",
      "        features: ['text', 'label'],\n",
      "        num_rows: 500\n",
      "    })\n",
      "})\n"
     ]
    }
   ],
   "source": [
    "from datasets import load_dataset\n",
    "\n",
    "imdb = load_dataset(\"imdb\", verification_mode='no_checks', split='train[0:5000]')\n",
    "imdb = imdb.train_test_split(test_size=0.1)\n",
    "print(imdb)"
   ]
  },
  {
   "cell_type": "markdown",
   "metadata": {
    "id": "PLqsSXSbyV2O"
   },
   "source": [
    "Let's use a more advanced subword tokenizer"
   ]
  },
  {
   "cell_type": "code",
   "execution_count": 51,
   "metadata": {
    "id": "Zj9tbPivRp87"
   },
   "outputs": [
    {
     "data": {
      "application/vnd.jupyter.widget-view+json": {
       "model_id": "5783543a15564dc9bf81efefd83f106f",
       "version_major": 2,
       "version_minor": 0
      },
      "text/plain": [
       "tokenizer_config.json:   0%|          | 0.00/48.0 [00:00<?, ?B/s]"
      ]
     },
     "metadata": {},
     "output_type": "display_data"
    },
    {
     "name": "stderr",
     "output_type": "stream",
     "text": [
      "c:\\Users\\douae\\Anaconda\\Lib\\site-packages\\huggingface_hub\\file_download.py:143: UserWarning: `huggingface_hub` cache-system uses symlinks by default to efficiently store duplicated files but your machine does not support them in C:\\Users\\douae\\.cache\\huggingface\\hub\\models--distilbert--distilbert-base-uncased. Caching files will still work but in a degraded version that might require more space on your disk. This warning can be disabled by setting the `HF_HUB_DISABLE_SYMLINKS_WARNING` environment variable. For more details, see https://huggingface.co/docs/huggingface_hub/how-to-cache#limitations.\n",
      "To support symlinks on Windows, you either need to activate Developer Mode or to run Python as an administrator. In order to activate developer mode, see this article: https://docs.microsoft.com/en-us/windows/apps/get-started/enable-your-device-for-development\n",
      "  warnings.warn(message)\n"
     ]
    },
    {
     "data": {
      "application/vnd.jupyter.widget-view+json": {
       "model_id": "975579c3dff14c3cb56dc2e20bc92332",
       "version_major": 2,
       "version_minor": 0
      },
      "text/plain": [
       "config.json:   0%|          | 0.00/483 [00:00<?, ?B/s]"
      ]
     },
     "metadata": {},
     "output_type": "display_data"
    },
    {
     "data": {
      "application/vnd.jupyter.widget-view+json": {
       "model_id": "d13b9169ecc042f7a2d2f4087eb6b371",
       "version_major": 2,
       "version_minor": 0
      },
      "text/plain": [
       "vocab.txt: 0.00B [00:00, ?B/s]"
      ]
     },
     "metadata": {},
     "output_type": "display_data"
    },
    {
     "data": {
      "application/vnd.jupyter.widget-view+json": {
       "model_id": "49c8199be409477387a4d779f899f33f",
       "version_major": 2,
       "version_minor": 0
      },
      "text/plain": [
       "tokenizer.json: 0.00B [00:00, ?B/s]"
      ]
     },
     "metadata": {},
     "output_type": "display_data"
    }
   ],
   "source": [
    "from transformers import AutoTokenizer\n",
    "tokenizer = AutoTokenizer.from_pretrained('distilbert/distilbert-base-uncased')"
   ]
  },
  {
   "cell_type": "markdown",
   "metadata": {
    "id": "7j4utOAJyV2O"
   },
   "source": [
    "**Do you remember any advantages in using a subword tokenizers? What are the main features and why we are using them?**"
   ]
  },
  {
   "cell_type": "markdown",
   "metadata": {
    "id": "lXlcFq0XyV2O"
   },
   "source": [
    "*Subword tokenizers are used because they handle unknown words by breaking them into smaller known pieces, reduce vocabulary size, and improve model generalization. They balance word- and character-level tokenization, making models more efficient and robust across different words and languages.*"
   ]
  },
  {
   "cell_type": "markdown",
   "metadata": {
    "id": "GO2Q9DyXyV2O"
   },
   "source": [
    "We need to rewrite our collator function by replacing the tokenizer. Notice that this new tokenizer can already do truncation and padding, working directly on a list of texts"
   ]
  },
  {
   "cell_type": "code",
   "execution_count": 52,
   "metadata": {
    "id": "G6b3_iESQdhL"
   },
   "outputs": [],
   "source": [
    "def generate_batch(data_batch):\n",
    "    batch = []\n",
    "    labels = []\n",
    "    for data in data_batch:\n",
    "        batch.append(data['text'])\n",
    "        labels.append(torch.tensor(data['label']).long())\n",
    "\n",
    "    batch = tokenizer(batch, truncation=True, padding='longest')\n",
    "    labels = torch.stack(labels)\n",
    "\n",
    "    input_ids = torch.tensor(batch['input_ids'])\n",
    "    attention_mask = torch.tensor(batch['attention_mask'])\n",
    "    return input_ids, attention_mask, labels"
   ]
  },
  {
   "cell_type": "markdown",
   "metadata": {
    "id": "k3yW_aRdyV2O"
   },
   "source": [
    "Let's create two data loaders for training and validation sets"
   ]
  },
  {
   "cell_type": "code",
   "execution_count": 53,
   "metadata": {
    "id": "mGnoAbLkbc8L"
   },
   "outputs": [],
   "source": [
    "BATCH_SIZE = 64\n",
    "\n",
    "train_loader = DataLoader(imdb['train'], batch_size=BATCH_SIZE,\n",
    "                              shuffle=True, collate_fn=generate_batch)\n",
    "valid_loader = DataLoader(imdb['test'], batch_size=BATCH_SIZE,\n",
    "                              shuffle=False, collate_fn=generate_batch)"
   ]
  },
  {
   "cell_type": "markdown",
   "metadata": {
    "id": "0Q8D_HozyV2O"
   },
   "source": [
    "And now we can load the pretrained model; we will use DistilBERT: a ligther version of BERT (fewer parameters) obtained by distilling it (through knowledge distillation). It will make our training faster while preserving good performances.\n",
    "\n",
    "Take a look at the documentation at [https://huggingface.co/docs/transformers/model_doc/distilbert](https://huggingface.co/docs/transformers/model_doc/distilbert).\n",
    "You will notice that we are using the `DistilBertForSequenceClassification` model, that is a `DistilBertModel` with a classification head on top. However only the base model is pretrained, the linear classification layers are just randomly initialized (see the warning that appears after loading the model)."
   ]
  },
  {
   "cell_type": "code",
   "execution_count": 54,
   "metadata": {
    "collapsed": true,
    "id": "7Ic6jj4dbhd8"
   },
   "outputs": [
    {
     "name": "stderr",
     "output_type": "stream",
     "text": [
      "Xet Storage is enabled for this repo, but the 'hf_xet' package is not installed. Falling back to regular HTTP download. For better performance, install the package with: `pip install huggingface_hub[hf_xet]` or `pip install hf_xet`\n"
     ]
    },
    {
     "data": {
      "application/vnd.jupyter.widget-view+json": {
       "model_id": "b8c981205d1e447ea30bbad5bec7ae62",
       "version_major": 2,
       "version_minor": 0
      },
      "text/plain": [
       "model.safetensors:   0%|          | 0.00/268M [00:00<?, ?B/s]"
      ]
     },
     "metadata": {},
     "output_type": "display_data"
    },
    {
     "name": "stderr",
     "output_type": "stream",
     "text": [
      "Some weights of DistilBertForSequenceClassification were not initialized from the model checkpoint at distilbert/distilbert-base-uncased and are newly initialized: ['classifier.bias', 'classifier.weight', 'pre_classifier.bias', 'pre_classifier.weight']\n",
      "You should probably TRAIN this model on a down-stream task to be able to use it for predictions and inference.\n"
     ]
    },
    {
     "name": "stdout",
     "output_type": "stream",
     "text": [
      "DistilBertForSequenceClassification(\n",
      "  (distilbert): DistilBertModel(\n",
      "    (embeddings): Embeddings(\n",
      "      (word_embeddings): Embedding(30522, 768, padding_idx=0)\n",
      "      (position_embeddings): Embedding(512, 768)\n",
      "      (LayerNorm): LayerNorm((768,), eps=1e-12, elementwise_affine=True)\n",
      "      (dropout): Dropout(p=0.1, inplace=False)\n",
      "    )\n",
      "    (transformer): Transformer(\n",
      "      (layer): ModuleList(\n",
      "        (0-5): 6 x TransformerBlock(\n",
      "          (attention): DistilBertSdpaAttention(\n",
      "            (dropout): Dropout(p=0.1, inplace=False)\n",
      "            (q_lin): Linear(in_features=768, out_features=768, bias=True)\n",
      "            (k_lin): Linear(in_features=768, out_features=768, bias=True)\n",
      "            (v_lin): Linear(in_features=768, out_features=768, bias=True)\n",
      "            (out_lin): Linear(in_features=768, out_features=768, bias=True)\n",
      "          )\n",
      "          (sa_layer_norm): LayerNorm((768,), eps=1e-12, elementwise_affine=True)\n",
      "          (ffn): FFN(\n",
      "            (dropout): Dropout(p=0.1, inplace=False)\n",
      "            (lin1): Linear(in_features=768, out_features=3072, bias=True)\n",
      "            (lin2): Linear(in_features=3072, out_features=768, bias=True)\n",
      "            (activation): GELUActivation()\n",
      "          )\n",
      "          (output_layer_norm): LayerNorm((768,), eps=1e-12, elementwise_affine=True)\n",
      "        )\n",
      "      )\n",
      "    )\n",
      "  )\n",
      "  (pre_classifier): Linear(in_features=768, out_features=768, bias=True)\n",
      "  (classifier): Linear(in_features=768, out_features=2, bias=True)\n",
      "  (dropout): Dropout(p=0.2, inplace=False)\n",
      ")\n"
     ]
    }
   ],
   "source": [
    "from transformers import AutoModelForSequenceClassification\n",
    "\n",
    "device = torch.device('cuda' if torch.cuda.is_available() else 'cpu')\n",
    "\n",
    "model = AutoModelForSequenceClassification.from_pretrained('distilbert/distilbert-base-uncased', num_labels=2)\n",
    "model = model.to(device)\n",
    "print(model)"
   ]
  },
  {
   "cell_type": "markdown",
   "metadata": {
    "id": "Yvc1dRPCyV2O"
   },
   "source": [
    "**Based on the printed output, what information we could get from the model? How many layers is it using? What is the internal embedding dimension? And the maximum sequence lenght?**"
   ]
  },
  {
   "cell_type": "markdown",
   "metadata": {
    "id": "ys8Bw7VjyV2O"
   },
   "source": [
    "*From the printed model summary, we can see that:\n",
    "\n",
    "✅ Model type: DistilBERT (a smaller, faster version of BERT).\n",
    "\n",
    "✅ Number of Transformer layers: 6 ((0-5): 6 x TransformerBlock).\n",
    "\n",
    "✅ Embedding dimension: 768 (from Embedding(30522, 768, ...)).\n",
    "\n",
    "✅ Maximum sequence length: 512 (from position_embeddings: Embedding(512, 768)).\n",
    "\n",
    "So, the model uses 6 layers, 768 hidden dimensions, and supports sequences up to 512 tokens long.*"
   ]
  },
  {
   "cell_type": "markdown",
   "metadata": {
    "id": "JYOVFzEQ585B"
   },
   "source": [
    "Unlike the first part of this notebook, when we trained a new model from scratch, this time we have a pre-trained model with all its benefits. In particular we can rely on previously trained weights that already have a good knowledge of the language and finetune the model on our downstream task (classification in this case).\n",
    "\n",
    "Moreover, to save computational resources and avoid overfitting, as well as preventing catastrophic forgetting of previously learned features, we can freeze some layers and train only those who are necessary.\n",
    "When deciding how much of a pre-trained model to fine-tune, there is no definitive answer as it depends on several factors. The similarity between the original task and the new task, the size and complexity of the pre-trained model, as well as the size and quality of the new data all play a role. For example, if the tasks are very similar, you may only need to fine-tune the last layer or the classifier head of the pre-trained model. However, if the tasks are very different or you have a lot of high-quality data for the new task, you can afford to fine-tune more layers or even the whole model.\n",
    "\n",
    "In this toy example we will freeze all the pre-trained weights from DistillBERT, training only the classification head (final MLP). In PyTorch is very easy to prevent gradient computation, indeed it is sufficient to set the `requires_grad` attribute of a network parameter to `False` to freeze it."
   ]
  },
  {
   "cell_type": "markdown",
   "metadata": {
    "id": "5-jPV613585C"
   },
   "source": [
    "Let's visualize the list of parameters (network weights) of our model"
   ]
  },
  {
   "cell_type": "code",
   "execution_count": 55,
   "metadata": {
    "id": "xLuoaoKJ585C"
   },
   "outputs": [
    {
     "name": "stdout",
     "output_type": "stream",
     "text": [
      "Shape: torch.Size([30522, 768])\tName: distilbert.embeddings.word_embeddings.weight\n",
      "Shape: torch.Size([512, 768])\tName: distilbert.embeddings.position_embeddings.weight\n",
      "Shape: torch.Size([768])\tName: distilbert.embeddings.LayerNorm.weight\n",
      "Shape: torch.Size([768])\tName: distilbert.embeddings.LayerNorm.bias\n",
      "Shape: torch.Size([768, 768])\tName: distilbert.transformer.layer.0.attention.q_lin.weight\n",
      "Shape: torch.Size([768])\tName: distilbert.transformer.layer.0.attention.q_lin.bias\n",
      "Shape: torch.Size([768, 768])\tName: distilbert.transformer.layer.0.attention.k_lin.weight\n",
      "Shape: torch.Size([768])\tName: distilbert.transformer.layer.0.attention.k_lin.bias\n",
      "Shape: torch.Size([768, 768])\tName: distilbert.transformer.layer.0.attention.v_lin.weight\n",
      "Shape: torch.Size([768])\tName: distilbert.transformer.layer.0.attention.v_lin.bias\n",
      "Shape: torch.Size([768, 768])\tName: distilbert.transformer.layer.0.attention.out_lin.weight\n",
      "Shape: torch.Size([768])\tName: distilbert.transformer.layer.0.attention.out_lin.bias\n",
      "Shape: torch.Size([768])\tName: distilbert.transformer.layer.0.sa_layer_norm.weight\n",
      "Shape: torch.Size([768])\tName: distilbert.transformer.layer.0.sa_layer_norm.bias\n",
      "Shape: torch.Size([3072, 768])\tName: distilbert.transformer.layer.0.ffn.lin1.weight\n",
      "Shape: torch.Size([3072])\tName: distilbert.transformer.layer.0.ffn.lin1.bias\n",
      "Shape: torch.Size([768, 3072])\tName: distilbert.transformer.layer.0.ffn.lin2.weight\n",
      "Shape: torch.Size([768])\tName: distilbert.transformer.layer.0.ffn.lin2.bias\n",
      "Shape: torch.Size([768])\tName: distilbert.transformer.layer.0.output_layer_norm.weight\n",
      "Shape: torch.Size([768])\tName: distilbert.transformer.layer.0.output_layer_norm.bias\n",
      "Shape: torch.Size([768, 768])\tName: distilbert.transformer.layer.1.attention.q_lin.weight\n",
      "Shape: torch.Size([768])\tName: distilbert.transformer.layer.1.attention.q_lin.bias\n",
      "Shape: torch.Size([768, 768])\tName: distilbert.transformer.layer.1.attention.k_lin.weight\n",
      "Shape: torch.Size([768])\tName: distilbert.transformer.layer.1.attention.k_lin.bias\n",
      "Shape: torch.Size([768, 768])\tName: distilbert.transformer.layer.1.attention.v_lin.weight\n",
      "Shape: torch.Size([768])\tName: distilbert.transformer.layer.1.attention.v_lin.bias\n",
      "Shape: torch.Size([768, 768])\tName: distilbert.transformer.layer.1.attention.out_lin.weight\n",
      "Shape: torch.Size([768])\tName: distilbert.transformer.layer.1.attention.out_lin.bias\n",
      "Shape: torch.Size([768])\tName: distilbert.transformer.layer.1.sa_layer_norm.weight\n",
      "Shape: torch.Size([768])\tName: distilbert.transformer.layer.1.sa_layer_norm.bias\n",
      "Shape: torch.Size([3072, 768])\tName: distilbert.transformer.layer.1.ffn.lin1.weight\n",
      "Shape: torch.Size([3072])\tName: distilbert.transformer.layer.1.ffn.lin1.bias\n",
      "Shape: torch.Size([768, 3072])\tName: distilbert.transformer.layer.1.ffn.lin2.weight\n",
      "Shape: torch.Size([768])\tName: distilbert.transformer.layer.1.ffn.lin2.bias\n",
      "Shape: torch.Size([768])\tName: distilbert.transformer.layer.1.output_layer_norm.weight\n",
      "Shape: torch.Size([768])\tName: distilbert.transformer.layer.1.output_layer_norm.bias\n",
      "Shape: torch.Size([768, 768])\tName: distilbert.transformer.layer.2.attention.q_lin.weight\n",
      "Shape: torch.Size([768])\tName: distilbert.transformer.layer.2.attention.q_lin.bias\n",
      "Shape: torch.Size([768, 768])\tName: distilbert.transformer.layer.2.attention.k_lin.weight\n",
      "Shape: torch.Size([768])\tName: distilbert.transformer.layer.2.attention.k_lin.bias\n",
      "Shape: torch.Size([768, 768])\tName: distilbert.transformer.layer.2.attention.v_lin.weight\n",
      "Shape: torch.Size([768])\tName: distilbert.transformer.layer.2.attention.v_lin.bias\n",
      "Shape: torch.Size([768, 768])\tName: distilbert.transformer.layer.2.attention.out_lin.weight\n",
      "Shape: torch.Size([768])\tName: distilbert.transformer.layer.2.attention.out_lin.bias\n",
      "Shape: torch.Size([768])\tName: distilbert.transformer.layer.2.sa_layer_norm.weight\n",
      "Shape: torch.Size([768])\tName: distilbert.transformer.layer.2.sa_layer_norm.bias\n",
      "Shape: torch.Size([3072, 768])\tName: distilbert.transformer.layer.2.ffn.lin1.weight\n",
      "Shape: torch.Size([3072])\tName: distilbert.transformer.layer.2.ffn.lin1.bias\n",
      "Shape: torch.Size([768, 3072])\tName: distilbert.transformer.layer.2.ffn.lin2.weight\n",
      "Shape: torch.Size([768])\tName: distilbert.transformer.layer.2.ffn.lin2.bias\n",
      "Shape: torch.Size([768])\tName: distilbert.transformer.layer.2.output_layer_norm.weight\n",
      "Shape: torch.Size([768])\tName: distilbert.transformer.layer.2.output_layer_norm.bias\n",
      "Shape: torch.Size([768, 768])\tName: distilbert.transformer.layer.3.attention.q_lin.weight\n",
      "Shape: torch.Size([768])\tName: distilbert.transformer.layer.3.attention.q_lin.bias\n",
      "Shape: torch.Size([768, 768])\tName: distilbert.transformer.layer.3.attention.k_lin.weight\n",
      "Shape: torch.Size([768])\tName: distilbert.transformer.layer.3.attention.k_lin.bias\n",
      "Shape: torch.Size([768, 768])\tName: distilbert.transformer.layer.3.attention.v_lin.weight\n",
      "Shape: torch.Size([768])\tName: distilbert.transformer.layer.3.attention.v_lin.bias\n",
      "Shape: torch.Size([768, 768])\tName: distilbert.transformer.layer.3.attention.out_lin.weight\n",
      "Shape: torch.Size([768])\tName: distilbert.transformer.layer.3.attention.out_lin.bias\n",
      "Shape: torch.Size([768])\tName: distilbert.transformer.layer.3.sa_layer_norm.weight\n",
      "Shape: torch.Size([768])\tName: distilbert.transformer.layer.3.sa_layer_norm.bias\n",
      "Shape: torch.Size([3072, 768])\tName: distilbert.transformer.layer.3.ffn.lin1.weight\n",
      "Shape: torch.Size([3072])\tName: distilbert.transformer.layer.3.ffn.lin1.bias\n",
      "Shape: torch.Size([768, 3072])\tName: distilbert.transformer.layer.3.ffn.lin2.weight\n",
      "Shape: torch.Size([768])\tName: distilbert.transformer.layer.3.ffn.lin2.bias\n",
      "Shape: torch.Size([768])\tName: distilbert.transformer.layer.3.output_layer_norm.weight\n",
      "Shape: torch.Size([768])\tName: distilbert.transformer.layer.3.output_layer_norm.bias\n",
      "Shape: torch.Size([768, 768])\tName: distilbert.transformer.layer.4.attention.q_lin.weight\n",
      "Shape: torch.Size([768])\tName: distilbert.transformer.layer.4.attention.q_lin.bias\n",
      "Shape: torch.Size([768, 768])\tName: distilbert.transformer.layer.4.attention.k_lin.weight\n",
      "Shape: torch.Size([768])\tName: distilbert.transformer.layer.4.attention.k_lin.bias\n",
      "Shape: torch.Size([768, 768])\tName: distilbert.transformer.layer.4.attention.v_lin.weight\n",
      "Shape: torch.Size([768])\tName: distilbert.transformer.layer.4.attention.v_lin.bias\n",
      "Shape: torch.Size([768, 768])\tName: distilbert.transformer.layer.4.attention.out_lin.weight\n",
      "Shape: torch.Size([768])\tName: distilbert.transformer.layer.4.attention.out_lin.bias\n",
      "Shape: torch.Size([768])\tName: distilbert.transformer.layer.4.sa_layer_norm.weight\n",
      "Shape: torch.Size([768])\tName: distilbert.transformer.layer.4.sa_layer_norm.bias\n",
      "Shape: torch.Size([3072, 768])\tName: distilbert.transformer.layer.4.ffn.lin1.weight\n",
      "Shape: torch.Size([3072])\tName: distilbert.transformer.layer.4.ffn.lin1.bias\n",
      "Shape: torch.Size([768, 3072])\tName: distilbert.transformer.layer.4.ffn.lin2.weight\n",
      "Shape: torch.Size([768])\tName: distilbert.transformer.layer.4.ffn.lin2.bias\n",
      "Shape: torch.Size([768])\tName: distilbert.transformer.layer.4.output_layer_norm.weight\n",
      "Shape: torch.Size([768])\tName: distilbert.transformer.layer.4.output_layer_norm.bias\n",
      "Shape: torch.Size([768, 768])\tName: distilbert.transformer.layer.5.attention.q_lin.weight\n",
      "Shape: torch.Size([768])\tName: distilbert.transformer.layer.5.attention.q_lin.bias\n",
      "Shape: torch.Size([768, 768])\tName: distilbert.transformer.layer.5.attention.k_lin.weight\n",
      "Shape: torch.Size([768])\tName: distilbert.transformer.layer.5.attention.k_lin.bias\n",
      "Shape: torch.Size([768, 768])\tName: distilbert.transformer.layer.5.attention.v_lin.weight\n",
      "Shape: torch.Size([768])\tName: distilbert.transformer.layer.5.attention.v_lin.bias\n",
      "Shape: torch.Size([768, 768])\tName: distilbert.transformer.layer.5.attention.out_lin.weight\n",
      "Shape: torch.Size([768])\tName: distilbert.transformer.layer.5.attention.out_lin.bias\n",
      "Shape: torch.Size([768])\tName: distilbert.transformer.layer.5.sa_layer_norm.weight\n",
      "Shape: torch.Size([768])\tName: distilbert.transformer.layer.5.sa_layer_norm.bias\n",
      "Shape: torch.Size([3072, 768])\tName: distilbert.transformer.layer.5.ffn.lin1.weight\n",
      "Shape: torch.Size([3072])\tName: distilbert.transformer.layer.5.ffn.lin1.bias\n",
      "Shape: torch.Size([768, 3072])\tName: distilbert.transformer.layer.5.ffn.lin2.weight\n",
      "Shape: torch.Size([768])\tName: distilbert.transformer.layer.5.ffn.lin2.bias\n",
      "Shape: torch.Size([768])\tName: distilbert.transformer.layer.5.output_layer_norm.weight\n",
      "Shape: torch.Size([768])\tName: distilbert.transformer.layer.5.output_layer_norm.bias\n",
      "Shape: torch.Size([768, 768])\tName: pre_classifier.weight\n",
      "Shape: torch.Size([768])\tName: pre_classifier.bias\n",
      "Shape: torch.Size([2, 768])\tName: classifier.weight\n",
      "Shape: torch.Size([2])\tName: classifier.bias\n"
     ]
    }
   ],
   "source": [
    "for name, param in model.named_parameters():\n",
    "    print('Shape: {}\\tName: {}'.format(param.shape, name))"
   ]
  },
  {
   "cell_type": "markdown",
   "metadata": {
    "id": "6woGXMh-585C"
   },
   "source": [
    "We will freeze everything but the classification layers, i.e., `pre_classifier`and `classifier` linear layers (both weight and bias)."
   ]
  },
  {
   "cell_type": "code",
   "execution_count": 56,
   "metadata": {
    "id": "O3bNOaftcrn3"
   },
   "outputs": [],
   "source": [
    "for name, param in model.named_parameters():\n",
    "    param.requires_grad = False\n",
    "    if 'classifier' in name:\n",
    "        param.requires_grad = True"
   ]
  },
  {
   "cell_type": "markdown",
   "metadata": {
    "id": "Y0mJVl6R585D"
   },
   "source": [
    "Let's now collect the parameters we want to train and that will be used by the optimizer"
   ]
  },
  {
   "cell_type": "code",
   "execution_count": 57,
   "metadata": {
    "id": "eVtTNMcl585D"
   },
   "outputs": [],
   "source": [
    "# Your code here\n",
    "# create a list named 'params' containing only the parameters we want to train\n",
    "# use list comprehension and rely on the attribute\n",
    "params = [param for param in model.parameters() if param.requires_grad] \n",
    "\n",
    "\n",
    "assert(all([x.requires_grad for x in params]) and len([x.requires_grad for x in params]) == 4)"
   ]
  },
  {
   "cell_type": "markdown",
   "metadata": {
    "id": "lpKdHcL0585D"
   },
   "source": [
    "These parameters will be optimized by the AdamW optimizer based on the cross entropy loss. Please notice that this time the final layer of the network is a linear layer with 2 output features (our two classes), therefore we will rely the (log) softmax already implemented inside `nn.CrossEntropyLoss` to compute the probabilities and the loss."
   ]
  },
  {
   "cell_type": "code",
   "execution_count": 58,
   "metadata": {
    "id": "8qsNiBoVda8E"
   },
   "outputs": [],
   "source": [
    "LR = 1e-5\n",
    "criterion = nn.CrossEntropyLoss()\n",
    "optimizer = optim.AdamW(params, lr=LR)"
   ]
  },
  {
   "cell_type": "markdown",
   "metadata": {
    "id": "lCxlm7Cz585D"
   },
   "source": [
    "Here our training and validation loops, depending on the function parameters, the Huggingface model may return different outputs (e.g., the attention weights, hidden states of the loss). We are only interested to the logits, i.e. the unnormalised predictions (output) for the model."
   ]
  },
  {
   "cell_type": "code",
   "execution_count": 59,
   "metadata": {
    "id": "wc9jK36Gdeum"
   },
   "outputs": [],
   "source": [
    "def train(model, trainloader, optimizer, criterion, device):\n",
    "    print('Training')\n",
    "    model.train()\n",
    "    loss_epoch = 0\n",
    "\n",
    "    for input_ids, att_mask, labels in tqdm(trainloader):\n",
    "        input_ids = input_ids.to(device)\n",
    "        att_mask = att_mask.to(device)\n",
    "        labels = labels.to(device)\n",
    "\n",
    "        logits = model(input_ids, att_mask)['logits']\n",
    "\n",
    "        optimizer.zero_grad()\n",
    "        loss = criterion(logits, labels)\n",
    "        loss_epoch += loss.item()\n",
    "        loss.backward()\n",
    "        optimizer.step()\n",
    "\n",
    "    return loss_epoch/len(trainloader)\n",
    "\n",
    "def validate(model, testloader, criterion, device):\n",
    "    print('Validation')\n",
    "    model.eval()\n",
    "    loss_epoch = 0\n",
    "\n",
    "    with torch.no_grad():\n",
    "        for input_ids, att_mask, labels in tqdm(testloader):\n",
    "            input_ids = input_ids.to(device)\n",
    "            att_mask = att_mask.to(device)\n",
    "            labels = labels.to(device)\n",
    "\n",
    "            logits = model(input_ids, att_mask)['logits']\n",
    "\n",
    "            loss = criterion(logits, labels)\n",
    "            loss_epoch += loss.item()\n",
    "\n",
    "    return loss_epoch/len(testloader)"
   ]
  },
  {
   "cell_type": "markdown",
   "metadata": {
    "id": "U-jowpOq585E"
   },
   "source": [
    "Finally we can train (finetune) our model over 4 epochs"
   ]
  },
  {
   "cell_type": "code",
   "execution_count": 60,
   "metadata": {
    "id": "u5nhbyfddryl"
   },
   "outputs": [
    {
     "name": "stdout",
     "output_type": "stream",
     "text": [
      "[INFO]: Epoch 1 of 4\n",
      "Training\n"
     ]
    },
    {
     "name": "stderr",
     "output_type": "stream",
     "text": [
      "100%|██████████| 71/71 [39:20<00:00, 33.25s/it]\n"
     ]
    },
    {
     "name": "stdout",
     "output_type": "stream",
     "text": [
      "Validation\n"
     ]
    },
    {
     "name": "stderr",
     "output_type": "stream",
     "text": [
      "100%|██████████| 8/8 [02:01<00:00, 15.18s/it]\n"
     ]
    },
    {
     "name": "stdout",
     "output_type": "stream",
     "text": [
      "Training loss: 0.4604246910189239\n",
      "Validation loss: 0.28752104565501213\n",
      "--------------------------------------------------\n",
      "[INFO]: Epoch 2 of 4\n",
      "Training\n"
     ]
    },
    {
     "name": "stderr",
     "output_type": "stream",
     "text": [
      "100%|██████████| 71/71 [32:15<00:00, 27.26s/it]\n"
     ]
    },
    {
     "name": "stdout",
     "output_type": "stream",
     "text": [
      "Validation\n"
     ]
    },
    {
     "name": "stderr",
     "output_type": "stream",
     "text": [
      "100%|██████████| 8/8 [02:15<00:00, 16.92s/it]\n"
     ]
    },
    {
     "name": "stdout",
     "output_type": "stream",
     "text": [
      "Training loss: 0.20419943437609875\n",
      "Validation loss: 0.11778188589960337\n",
      "--------------------------------------------------\n",
      "[INFO]: Epoch 3 of 4\n",
      "Training\n"
     ]
    },
    {
     "name": "stderr",
     "output_type": "stream",
     "text": [
      "100%|██████████| 71/71 [33:14<00:00, 28.09s/it]\n"
     ]
    },
    {
     "name": "stdout",
     "output_type": "stream",
     "text": [
      "Validation\n"
     ]
    },
    {
     "name": "stderr",
     "output_type": "stream",
     "text": [
      "100%|██████████| 8/8 [02:03<00:00, 15.50s/it]\n"
     ]
    },
    {
     "name": "stdout",
     "output_type": "stream",
     "text": [
      "Training loss: 0.0904833663412383\n",
      "Validation loss: 0.05330787319689989\n",
      "--------------------------------------------------\n",
      "[INFO]: Epoch 4 of 4\n",
      "Training\n"
     ]
    },
    {
     "name": "stderr",
     "output_type": "stream",
     "text": [
      "100%|██████████| 71/71 [30:41<00:00, 25.94s/it]\n"
     ]
    },
    {
     "name": "stdout",
     "output_type": "stream",
     "text": [
      "Validation\n"
     ]
    },
    {
     "name": "stderr",
     "output_type": "stream",
     "text": [
      "100%|██████████| 8/8 [01:53<00:00, 14.21s/it]"
     ]
    },
    {
     "name": "stdout",
     "output_type": "stream",
     "text": [
      "Training loss: 0.04569711709316348\n",
      "Validation loss: 0.028759789653122425\n",
      "--------------------------------------------------\n"
     ]
    },
    {
     "name": "stderr",
     "output_type": "stream",
     "text": [
      "\n"
     ]
    }
   ],
   "source": [
    "EPOCHS = 4\n",
    "\n",
    "train_loss, valid_loss = [], []\n",
    "least_loss = float('inf')\n",
    "\n",
    "for epoch in range(EPOCHS):\n",
    "    print(f\"[INFO]: Epoch {epoch+1} of {EPOCHS}\")\n",
    "\n",
    "    train_epoch_loss = train(model, train_loader, optimizer, criterion, device)\n",
    "    valid_epoch_loss = validate(model, valid_loader, criterion, device)\n",
    "    train_loss.append(train_epoch_loss)\n",
    "    valid_loss.append(valid_epoch_loss)\n",
    "    print(f\"Training loss: {train_epoch_loss}\")\n",
    "    print(f\"Validation loss: {valid_epoch_loss}\")\n",
    "\n",
    "    print('-'*50)"
   ]
  },
  {
   "cell_type": "markdown",
   "metadata": {
    "id": "b43RhIRJ585E"
   },
   "source": [
    "and visualize the loss"
   ]
  },
  {
   "cell_type": "code",
   "execution_count": 61,
   "metadata": {
    "colab": {
     "base_uri": "https://localhost:8080/",
     "height": 430
    },
    "id": "i9BjFilDylv5",
    "outputId": "62c491f8-772c-4582-cdb0-856fe229ed5a"
   },
   "outputs": [
    {
     "data": {
      "image/png": "[encoded data removed]",
      "text/plain": [
       "<Figure size 640x480 with 1 Axes>"
      ]
     },
     "metadata": {},
     "output_type": "display_data"
    }
   ],
   "source": [
    "x = [x for x in range(1, EPOCHS+1)]\n",
    "plt.plot(x, train_loss, label = \"train\")\n",
    "plt.plot(x, valid_loss, label = \"eval\")\n",
    "plt.legend()\n",
    "plt.show()"
   ]
  },
  {
   "cell_type": "markdown",
   "metadata": {
    "id": "rP37TGJn585F"
   },
   "source": [
    "## +++ End of the mandatory section +++"
   ]
  },
  {
   "cell_type": "markdown",
   "metadata": {
    "id": "8HHBjJQS585F"
   },
   "source": [
    "## **Advance only**\n",
    "\n",
    "Jupyter notebook could be useful for prototyping and testing new ideas, in this tutorial we explored step-by-step how to build a modern NLP classifier. However, once the code is ready and tested, it is convenient to have a native python script ready to run on your enviroment (colab, a virtual machine on the cloud or a cluster).\n",
    "\n",
    "Try to collect and rewrite the classification pipeline with Huggingface into a single Python script, removing redundant parts and useless variables (sometimes we create new variables just for the explanation). Make the code easy to use and generalizable, for example it should be easy to change the pretrained model if needed for another experiment. Use command line arguments to set the hyper-parameters of the experiments (e.g. learning rate, epochs, batch size etc.). Feel free to experiment with your classifier but be careful of the computational limits you may encounter. Keep in mind that the goal of this lab was to introduce the classification task and familiarize with standard libraries, not to release a new state-of-the-art model."
   ]
  }
 ],
 "metadata": {
  "colab": {
   "provenance": []
  },
  "kernelspec": {
   "display_name": "base",
   "language": "python",
   "name": "python3"
  },
  "language_info": {
   "codemirror_mode": {
    "name": "ipython",
    "version": 3
   },
   "file_extension": ".py",
   "mimetype": "text/x-python",
   "name": "python",
   "nbconvert_exporter": "python",
   "pygments_lexer": "ipython3",
   "version": "3.13.5"
  }
 },
 "nbformat": 4,
 "nbformat_minor": 0
}
